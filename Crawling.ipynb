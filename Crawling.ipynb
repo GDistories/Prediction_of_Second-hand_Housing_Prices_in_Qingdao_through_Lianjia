{
 "cells": [
  {
   "cell_type": "code",
   "execution_count": 9,
   "id": "initial_id",
   "metadata": {
    "collapsed": true,
    "ExecuteTime": {
     "end_time": "2023-10-10T07:15:09.699617Z",
     "start_time": "2023-10-10T07:13:32.349460Z"
    }
   },
   "outputs": [
    {
     "name": "stdout",
     "output_type": "stream",
     "text": [
      "['/ershoufang/shinan/', '/ershoufang/shibei/', '/ershoufang/licang/', '/ershoufang/laoshan/', '/ershoufang/huangdao/', '/ershoufang/chengyang/', '/ershoufang/jiaozhou/', '/ershoufang/jimo/', '/ershoufang/pingdu/', '/ershoufang/laixi/']\n",
      "爬取的区域： /ershoufang/shinan/\n",
      "当前区域：/ershoufang/shinan/，该区域已爬取10条。\n",
      "当前区域：/ershoufang/shinan/，该区域已爬取20条。\n",
      "当前区域：/ershoufang/shinan/，该区域已爬取30条。\n",
      "当前区域：/ershoufang/shinan/爬取结束，该区域一共爬取30条。\n"
     ]
    }
   ],
   "source": [
    "import requests\n",
    "import time\n",
    "from lxml import etree\n",
    "import pandas as pd\n",
    "import re\n",
    "#设置列表页URL的固定部分\n",
    "url='http://qd.lianjia.com'\n",
    "\n",
    "#设置页面页的可变部分\n",
    "#设置请求头部信息\n",
    "headers = {'User-Agent':'Mozilla/5.0 (Windows NT 10.0; Win64; x64) AppleWebKit/537.36 (KHTML, like Gecko) Chrome/113.0.0.0 Safari/537.36'}\n",
    "area = []  ##地区\n",
    "totalprice = []  ##房价\n",
    "houseinfo = []  ##房源信息\n",
    "followinfo = []  # 关注度\n",
    "monovalent=[]#单价\n",
    "featureinfo=[]#特色，优势\n",
    "transactioninfo=[]#交易属性\n",
    "#循环抓取列表页信息\n",
    "#获取地区\n",
    "durl=url+'/ershoufang'\n",
    "dr=requests.get(url=durl,headers=headers)\n",
    "dhtml=dr.content\n",
    "dencoding=requests.get(durl,headers=headers).encoding\n",
    "dlj=etree.HTML(dhtml,parser=etree.HTMLParser(encoding=dencoding))\n",
    "dq=dlj.xpath('//div[@class=\"position\"]/dl[2]/dd/div[1]/div/a/@href')\n",
    "\n",
    "print(dq)\n",
    "for d in dq:\n",
    "    yurl=url+d\n",
    "    yr=requests.get(url=yurl,headers=headers)\n",
    "    yhtml=yr.content\n",
    "    yencoding=requests.get(yurl,headers=headers).encoding\n",
    "    ylj=etree.HTML(yhtml,parser=etree.HTMLParser(encoding=yencoding))\n",
    "    ysl=eval(ylj.xpath(\"//div[@class='contentBottom clear']/div[@class='page-box fr']//@page-data\")[0])\n",
    "    ys=ysl['totalPage']\n",
    "    for i in range(1,2):\n",
    "        area.append(d)\n",
    "        i = str(i)\n",
    "        a=url+d+'pg'+i+'/'\n",
    "        r=requests.get(url=a,headers=headers)\n",
    "        zhtml=r.content\n",
    "        print('爬取的url：',a)\n",
    "        #每次间隔1秒\n",
    "        time.sleep(1)\n",
    "        zencoding=requests.get(url,headers=headers).encoding\n",
    "        lj=etree.HTML(zhtml,parser=etree.HTMLParser(encoding=zencoding))\n",
    "        #提取房源总价\n",
    "        price=lj.xpath('//div[@class=\"priceInfo\"]')\n",
    "        for a in price:\n",
    "            totalPrice=a.xpath('.//span/text()')[0]\n",
    "            totalprice.append(totalPrice)\n",
    "        #提取房源每平单价    \n",
    "        danjia=lj.xpath('//div[@class=\"unitPrice\"]')\n",
    "        for a in danjia:\n",
    "            unitprice=a.xpath('.//span/text()')[0]\n",
    "            monovalent.append(unitprice)\n",
    "        # 提取房源信息\n",
    "        houseInfo = lj.xpath('//div[@class=\"info clear\"]')\n",
    "        for b in houseInfo:\n",
    "            f=b.xpath('.//div[@class=\"tag\"]')\n",
    "            for fy in f:\n",
    "                feature=fy.xpath('.//span/text()')\n",
    "                featureinfo.append(feature)\n",
    "            house = b.xpath('.//div[@class=\"positionInfo\"]//a/text()')[0] +'|'+b.xpath('.//div[@class=\"positionInfo\"]//a[2]/text()')[0]+'|'+b.xpath('.//div[@class=\"houseInfo\"]//text()')[0]\n",
    "            houseinfo.append(house)      \n",
    "        #提取交易属性\n",
    "        murl = lj.xpath('//div[@class=\"info clear\"]//div[@class=\"title\"]/a/@href')\n",
    "        for h in murl:\n",
    "            mr=requests.get(url=h, headers=headers)\n",
    "            mhtml=mr.content\n",
    "            time.sleep(1)\n",
    "            mencoding=requests.get(h, headers=headers).encoding\n",
    "            mlj=etree.HTML(mhtml,parser=etree.HTMLParser(encoding=mencoding))\n",
    "            mh=mlj.xpath('//div[@class=\"transaction\"]//div[@class=\"content\"]//ul//li//span[2]//text()')\n",
    "            transactioninfo.append(mh)\n",
    "        # 提取房源关注度\n",
    "        followInfo = lj.xpath('//div[@class=\"followInfo\"]')\n",
    "        for c in followInfo:\n",
    "            follow = c.xpath('./text()')[0]\n",
    "            followinfo.append(follow)\n",
    "            \n",
    "# 创建数据表\n",
    "house = pd.DataFrame({ 'area': area, 'houseinfo': houseinfo, 'followinfo': followinfo,'totalprice': totalprice,'monovalent':monovalent,'featureinfo':featureinfo,'transactioninfo':transactioninfo})\n",
    "house.to_csv(\"tst1.csv\", encoding='utf-8', index=False)"
   ]
  },
  {
   "cell_type": "code",
   "execution_count": null,
   "outputs": [],
   "source": [],
   "metadata": {
    "collapsed": false
   },
   "id": "3305245c86916805"
  }
 ],
 "metadata": {
  "kernelspec": {
   "display_name": "Python 3",
   "language": "python",
   "name": "python3"
  },
  "language_info": {
   "codemirror_mode": {
    "name": "ipython",
    "version": 2
   },
   "file_extension": ".py",
   "mimetype": "text/x-python",
   "name": "python",
   "nbconvert_exporter": "python",
   "pygments_lexer": "ipython2",
   "version": "2.7.6"
  }
 },
 "nbformat": 4,
 "nbformat_minor": 5
}
