{
 "cells": [
  {
   "cell_type": "markdown",
   "source": [
    "# Q1"
   ],
   "metadata": {
    "collapsed": false
   },
   "id": "43914092463e6e2"
  },
  {
   "cell_type": "markdown",
   "source": [
    "## 1. Data Refining\n",
    "In the  [Crawling.ipynb](./Crawling.ipynb) file, we have obtained the housing prices in the Qingdao area from the Lianjia second-hand housing website. Notably, due to the lack of data in Pingdu and Laixi cities, these two areas were excluded from our collection process.\n",
    "\n",
    "Now, let's begin the process of transformation and refining the data for further analysis.\n"
   ],
   "metadata": {
    "collapsed": false
   },
   "id": "9a734d67060840ce"
  },
  {
   "cell_type": "markdown",
   "source": [
    "### 1.1 Import necessary libraries and data"
   ],
   "metadata": {
    "collapsed": false
   },
   "id": "4f43ebbe03456527"
  },
  {
   "cell_type": "code",
   "execution_count": 1,
   "id": "initial_id",
   "metadata": {
    "collapsed": true,
    "ExecuteTime": {
     "end_time": "2023-10-15T12:17:16.375938Z",
     "start_time": "2023-10-15T12:17:15.454281Z"
    }
   },
   "outputs": [
    {
     "data": {
      "text/plain": "                        地区                                      house_details  \\\n0      /ershoufang/shinan/  闽江苑 |闽江路|3室1厅 | 125.08平米 | 南 北 | 简装 | 中楼层(共6层)...   \n1      /ershoufang/shinan/  鹏程花园 |远洋广场|2室1厅 | 83平米 | 南 | 精装 | 高楼层(共24层) | ...   \n2      /ershoufang/shinan/  交运山庄 |福安|3室1厅 | 116.35平米 | 南 | 精装 | 中楼层(共5层) |...   \n3      /ershoufang/shinan/  中环国际广场 |远洋广场|1室1厅 | 63平米 | 南 | 精装 | 低楼层(共30层) ...   \n4      /ershoufang/shinan/  辛家庄三小区（三明路） |辛家庄|2室1厅 | 67.04平米 | 南 | 简装 | 中楼层...   \n...                    ...                                                ...   \n23995    /ershoufang/jimo/  佳源都市南区 |即墨城西|2室1厅 | 76.86平米 | 南 北 | 精装 | 中楼层(共...   \n23996    /ershoufang/jimo/  海信温泉王朝 |即墨温泉|6室3厅 | 266.64平米 | 南 北 | 精装 | 低楼层(...   \n23997    /ershoufang/jimo/  环秀景苑 |即墨古城|2室2厅 | 106.93平米 | 南 北 | 精装 | 高楼层(共8...   \n23998    /ershoufang/jimo/  鳌山名苑 |即墨蓝谷|1室1厅 | 75.7平米 | 南 北 | 精装 | 低楼层(共11层...   \n23999    /ershoufang/jimo/  佳源都市南区 |即墨城西|2室1厅 | 76.74平米 | 南 北 | 精装 | 低楼层(共...   \n\n       follow_details     价格       单位价格                   features  \\\n0      2人关注 / 15天以前发布  289.0  23,106元/平  [近地铁, VR看装修, 房本满五年, 随时看房]   \n1       1人关注 / 4天以前发布  139.0  16,747元/平  [近地铁, VR看装修, 房本满五年, 随时看房]   \n2      6人关注 / 18天以前发布  349.0  29,996元/平   [近地铁, VR房源, 房本满五年, 随时看房]   \n3       0人关注 / 4天以前发布  115.0  18,254元/平  [近地铁, VR看装修, 房本满五年, 随时看房]   \n4       0人关注 / 4天以前发布  119.0  17,751元/平       [VR看装修, 房本满五年, 随时看房]   \n...               ...    ...        ...                        ...   \n23995  0人关注 / 1个月以前发布   99.0  12,881元/平             [VR看装修, 房本满两年]   \n23996   14人关注 / 一年前发布  570.0  21,378元/平              [VR房源, 房本满五年]   \n23997    3人关注 / 一年前发布   92.0   8,604元/平             [VR看装修, 房本满五年]   \n23998    0人关注 / 一年前发布   57.0   7,530元/平             [VR看装修, 房本满五年]   \n23999    0人关注 / 一年前发布  100.0  13,032元/平             [VR看装修, 房本满两年]   \n\n                                           basic_details  \\\n0      [3室1厅1厨1卫, 中楼层 (共6层), 125.08㎡, 平层, 111.33㎡, 板楼...   \n1      [2室1厅1厨1卫, 高楼层 (共24层), 83㎡, 平层, 暂无数据, 板楼, 南, 钢...   \n2      [3室1厅1厨1卫, 中楼层 (共5层), 116.35㎡, 平层, 暂无数据, 板楼, 南...   \n3      [1室1厅1厨1卫, 低楼层 (共30层), 63㎡, 平层, 暂无数据, 板楼, 南, 钢...   \n4      [2室1厅1厨1卫, 中楼层 (共7层), 67.04㎡, 平层, 暂无数据, 板楼, 南,...   \n...                                                  ...   \n23995  [2室1厅1厨1卫, 中楼层 (共30层), 76.86㎡, 平层, 暂无数据, 塔楼, 南...   \n23996  [6室3厅1厨4卫, 低楼层 (共3层), 266.64㎡, 复式, 暂无数据, 暂无数据,...   \n23997  [2室2厅1厨1卫, 高楼层 (共8层), 106.93㎡, 平层, 84.62㎡, 板楼,...   \n23998  [1室1厅1厨1卫, 低楼层 (共11层), 75.7㎡, 平层, 暂无数据, 板楼, 南 ...   \n23999  [2室1厅1厨1卫, 低楼层 (共30层), 76.74㎡, 平层, 暂无数据, 塔楼, 南...   \n\n                                     transaction_details  \n0      [2023-09-24, 商品房, 2003-06-14, 普通住宅, 满五年, 非共有, ...  \n1      [2023-10-05, 商品房, 2017-10-06, 普通住宅, 满五年, 共有, \\...  \n2      [2023-09-21, 商品房, 2008-01-04, 普通住宅, 满五年, 非共有, ...  \n3      [2023-10-06, 商品房, 2017-10-05, 普通住宅, 满五年, 非共有, ...  \n4      [2023-10-06, 已购公房, 1998-03-21, 普通住宅, 满五年, 非共有,...  \n...                                                  ...  \n23995  [2023-09-02, 商品房, 2019-09-03, 普通住宅, 满两年, 非共有, ...  \n23996  [2020-07-30, 商品房, 2017-08-28, 普通住宅, 满五年, 非共有, ...  \n23997  [2021-05-19, 经济适用房, 2015-05-22, 普通住宅, 满五年, 非共有...  \n23998  [2022-08-15, 商品房, 2017-08-21, 普通住宅, 满五年, 共有, \\...  \n23999  [2022-06-26, 商品房, 2019-09-16, 普通住宅, 满两年, 非共有, ...  \n\n[24000 rows x 8 columns]",
      "text/html": "<div>\n<style scoped>\n    .dataframe tbody tr th:only-of-type {\n        vertical-align: middle;\n    }\n\n    .dataframe tbody tr th {\n        vertical-align: top;\n    }\n\n    .dataframe thead th {\n        text-align: right;\n    }\n</style>\n<table border=\"1\" class=\"dataframe\">\n  <thead>\n    <tr style=\"text-align: right;\">\n      <th></th>\n      <th>地区</th>\n      <th>house_details</th>\n      <th>follow_details</th>\n      <th>价格</th>\n      <th>单位价格</th>\n      <th>features</th>\n      <th>basic_details</th>\n      <th>transaction_details</th>\n    </tr>\n  </thead>\n  <tbody>\n    <tr>\n      <th>0</th>\n      <td>/ershoufang/shinan/</td>\n      <td>闽江苑 |闽江路|3室1厅 | 125.08平米 | 南 北 | 简装 | 中楼层(共6层)...</td>\n      <td>2人关注 / 15天以前发布</td>\n      <td>289.0</td>\n      <td>23,106元/平</td>\n      <td>[近地铁, VR看装修, 房本满五年, 随时看房]</td>\n      <td>[3室1厅1厨1卫, 中楼层 (共6层), 125.08㎡, 平层, 111.33㎡, 板楼...</td>\n      <td>[2023-09-24, 商品房, 2003-06-14, 普通住宅, 满五年, 非共有, ...</td>\n    </tr>\n    <tr>\n      <th>1</th>\n      <td>/ershoufang/shinan/</td>\n      <td>鹏程花园 |远洋广场|2室1厅 | 83平米 | 南 | 精装 | 高楼层(共24层) | ...</td>\n      <td>1人关注 / 4天以前发布</td>\n      <td>139.0</td>\n      <td>16,747元/平</td>\n      <td>[近地铁, VR看装修, 房本满五年, 随时看房]</td>\n      <td>[2室1厅1厨1卫, 高楼层 (共24层), 83㎡, 平层, 暂无数据, 板楼, 南, 钢...</td>\n      <td>[2023-10-05, 商品房, 2017-10-06, 普通住宅, 满五年, 共有, \\...</td>\n    </tr>\n    <tr>\n      <th>2</th>\n      <td>/ershoufang/shinan/</td>\n      <td>交运山庄 |福安|3室1厅 | 116.35平米 | 南 | 精装 | 中楼层(共5层) |...</td>\n      <td>6人关注 / 18天以前发布</td>\n      <td>349.0</td>\n      <td>29,996元/平</td>\n      <td>[近地铁, VR房源, 房本满五年, 随时看房]</td>\n      <td>[3室1厅1厨1卫, 中楼层 (共5层), 116.35㎡, 平层, 暂无数据, 板楼, 南...</td>\n      <td>[2023-09-21, 商品房, 2008-01-04, 普通住宅, 满五年, 非共有, ...</td>\n    </tr>\n    <tr>\n      <th>3</th>\n      <td>/ershoufang/shinan/</td>\n      <td>中环国际广场 |远洋广场|1室1厅 | 63平米 | 南 | 精装 | 低楼层(共30层) ...</td>\n      <td>0人关注 / 4天以前发布</td>\n      <td>115.0</td>\n      <td>18,254元/平</td>\n      <td>[近地铁, VR看装修, 房本满五年, 随时看房]</td>\n      <td>[1室1厅1厨1卫, 低楼层 (共30层), 63㎡, 平层, 暂无数据, 板楼, 南, 钢...</td>\n      <td>[2023-10-06, 商品房, 2017-10-05, 普通住宅, 满五年, 非共有, ...</td>\n    </tr>\n    <tr>\n      <th>4</th>\n      <td>/ershoufang/shinan/</td>\n      <td>辛家庄三小区（三明路） |辛家庄|2室1厅 | 67.04平米 | 南 | 简装 | 中楼层...</td>\n      <td>0人关注 / 4天以前发布</td>\n      <td>119.0</td>\n      <td>17,751元/平</td>\n      <td>[VR看装修, 房本满五年, 随时看房]</td>\n      <td>[2室1厅1厨1卫, 中楼层 (共7层), 67.04㎡, 平层, 暂无数据, 板楼, 南,...</td>\n      <td>[2023-10-06, 已购公房, 1998-03-21, 普通住宅, 满五年, 非共有,...</td>\n    </tr>\n    <tr>\n      <th>...</th>\n      <td>...</td>\n      <td>...</td>\n      <td>...</td>\n      <td>...</td>\n      <td>...</td>\n      <td>...</td>\n      <td>...</td>\n      <td>...</td>\n    </tr>\n    <tr>\n      <th>23995</th>\n      <td>/ershoufang/jimo/</td>\n      <td>佳源都市南区 |即墨城西|2室1厅 | 76.86平米 | 南 北 | 精装 | 中楼层(共...</td>\n      <td>0人关注 / 1个月以前发布</td>\n      <td>99.0</td>\n      <td>12,881元/平</td>\n      <td>[VR看装修, 房本满两年]</td>\n      <td>[2室1厅1厨1卫, 中楼层 (共30层), 76.86㎡, 平层, 暂无数据, 塔楼, 南...</td>\n      <td>[2023-09-02, 商品房, 2019-09-03, 普通住宅, 满两年, 非共有, ...</td>\n    </tr>\n    <tr>\n      <th>23996</th>\n      <td>/ershoufang/jimo/</td>\n      <td>海信温泉王朝 |即墨温泉|6室3厅 | 266.64平米 | 南 北 | 精装 | 低楼层(...</td>\n      <td>14人关注 / 一年前发布</td>\n      <td>570.0</td>\n      <td>21,378元/平</td>\n      <td>[VR房源, 房本满五年]</td>\n      <td>[6室3厅1厨4卫, 低楼层 (共3层), 266.64㎡, 复式, 暂无数据, 暂无数据,...</td>\n      <td>[2020-07-30, 商品房, 2017-08-28, 普通住宅, 满五年, 非共有, ...</td>\n    </tr>\n    <tr>\n      <th>23997</th>\n      <td>/ershoufang/jimo/</td>\n      <td>环秀景苑 |即墨古城|2室2厅 | 106.93平米 | 南 北 | 精装 | 高楼层(共8...</td>\n      <td>3人关注 / 一年前发布</td>\n      <td>92.0</td>\n      <td>8,604元/平</td>\n      <td>[VR看装修, 房本满五年]</td>\n      <td>[2室2厅1厨1卫, 高楼层 (共8层), 106.93㎡, 平层, 84.62㎡, 板楼,...</td>\n      <td>[2021-05-19, 经济适用房, 2015-05-22, 普通住宅, 满五年, 非共有...</td>\n    </tr>\n    <tr>\n      <th>23998</th>\n      <td>/ershoufang/jimo/</td>\n      <td>鳌山名苑 |即墨蓝谷|1室1厅 | 75.7平米 | 南 北 | 精装 | 低楼层(共11层...</td>\n      <td>0人关注 / 一年前发布</td>\n      <td>57.0</td>\n      <td>7,530元/平</td>\n      <td>[VR看装修, 房本满五年]</td>\n      <td>[1室1厅1厨1卫, 低楼层 (共11层), 75.7㎡, 平层, 暂无数据, 板楼, 南 ...</td>\n      <td>[2022-08-15, 商品房, 2017-08-21, 普通住宅, 满五年, 共有, \\...</td>\n    </tr>\n    <tr>\n      <th>23999</th>\n      <td>/ershoufang/jimo/</td>\n      <td>佳源都市南区 |即墨城西|2室1厅 | 76.74平米 | 南 北 | 精装 | 低楼层(共...</td>\n      <td>0人关注 / 一年前发布</td>\n      <td>100.0</td>\n      <td>13,032元/平</td>\n      <td>[VR看装修, 房本满两年]</td>\n      <td>[2室1厅1厨1卫, 低楼层 (共30层), 76.74㎡, 平层, 暂无数据, 塔楼, 南...</td>\n      <td>[2022-06-26, 商品房, 2019-09-16, 普通住宅, 满两年, 非共有, ...</td>\n    </tr>\n  </tbody>\n</table>\n<p>24000 rows × 8 columns</p>\n</div>"
     },
     "execution_count": 1,
     "metadata": {},
     "output_type": "execute_result"
    }
   ],
   "source": [
    "# Import necessary libraries\n",
    "import pandas as pd\n",
    "import ast\n",
    "\n",
    "# Load the raw data from the CSV file\n",
    "df = pd.read_csv('Raw_data.csv', header=None)\n",
    "\n",
    "# Assign column names to the dataframe\n",
    "df.columns = ['地区', 'house_details', 'follow_details', '价格', '单位价格', 'features', 'basic_details', 'transaction_details']\n",
    "\n",
    "# Convert strings in certain columns back to lists\n",
    "df['features'] = df['features'].apply(ast.literal_eval)\n",
    "df['basic_details'] = df['basic_details'].apply(ast.literal_eval)\n",
    "df['transaction_details'] = df['transaction_details'].apply(ast.literal_eval)\n",
    "\n",
    "# Display the processed dataframe\n",
    "df"
   ]
  },
  {
   "cell_type": "markdown",
   "source": [
    "###  1.2 Region Data Cleaning\n",
    "\n",
    "In this section, we're focusing on cleaning the 'Region' column of our dataset. The raw data uses URL segments to represent different regions. For simplicity and further analysis, we are converting these URL segments into numeric codes.\n",
    "\n",
    "The mapping is as follows:\n",
    "\n",
    "- 市南区: 1\n",
    "- 市北区: 2\n",
    "- 李沧区: 3\n",
    "- 崂山区: 4\n",
    "- 黄岛区: 5\n",
    "- 城阳区: 6\n",
    "- 胶州市: 7\n",
    "- 即墨区: 8\n"
   ],
   "metadata": {
    "collapsed": false
   },
   "id": "aa229269728ccd7"
  },
  {
   "cell_type": "code",
   "execution_count": 2,
   "outputs": [
    {
     "data": {
      "text/plain": "      地区                                      house_details  follow_details  \\\n0      1  闽江苑 |闽江路|3室1厅 | 125.08平米 | 南 北 | 简装 | 中楼层(共6层)...  2人关注 / 15天以前发布   \n1      1  鹏程花园 |远洋广场|2室1厅 | 83平米 | 南 | 精装 | 高楼层(共24层) | ...   1人关注 / 4天以前发布   \n2      1  交运山庄 |福安|3室1厅 | 116.35平米 | 南 | 精装 | 中楼层(共5层) |...  6人关注 / 18天以前发布   \n3      1  中环国际广场 |远洋广场|1室1厅 | 63平米 | 南 | 精装 | 低楼层(共30层) ...   0人关注 / 4天以前发布   \n4      1  辛家庄三小区（三明路） |辛家庄|2室1厅 | 67.04平米 | 南 | 简装 | 中楼层...   0人关注 / 4天以前发布   \n...   ..                                                ...             ...   \n23995  8  佳源都市南区 |即墨城西|2室1厅 | 76.86平米 | 南 北 | 精装 | 中楼层(共...  0人关注 / 1个月以前发布   \n23996  8  海信温泉王朝 |即墨温泉|6室3厅 | 266.64平米 | 南 北 | 精装 | 低楼层(...   14人关注 / 一年前发布   \n23997  8  环秀景苑 |即墨古城|2室2厅 | 106.93平米 | 南 北 | 精装 | 高楼层(共8...    3人关注 / 一年前发布   \n23998  8  鳌山名苑 |即墨蓝谷|1室1厅 | 75.7平米 | 南 北 | 精装 | 低楼层(共11层...    0人关注 / 一年前发布   \n23999  8  佳源都市南区 |即墨城西|2室1厅 | 76.74平米 | 南 北 | 精装 | 低楼层(共...    0人关注 / 一年前发布   \n\n          价格       单位价格                   features  \\\n0      289.0  23,106元/平  [近地铁, VR看装修, 房本满五年, 随时看房]   \n1      139.0  16,747元/平  [近地铁, VR看装修, 房本满五年, 随时看房]   \n2      349.0  29,996元/平   [近地铁, VR房源, 房本满五年, 随时看房]   \n3      115.0  18,254元/平  [近地铁, VR看装修, 房本满五年, 随时看房]   \n4      119.0  17,751元/平       [VR看装修, 房本满五年, 随时看房]   \n...      ...        ...                        ...   \n23995   99.0  12,881元/平             [VR看装修, 房本满两年]   \n23996  570.0  21,378元/平              [VR房源, 房本满五年]   \n23997   92.0   8,604元/平             [VR看装修, 房本满五年]   \n23998   57.0   7,530元/平             [VR看装修, 房本满五年]   \n23999  100.0  13,032元/平             [VR看装修, 房本满两年]   \n\n                                           basic_details  \\\n0      [3室1厅1厨1卫, 中楼层 (共6层), 125.08㎡, 平层, 111.33㎡, 板楼...   \n1      [2室1厅1厨1卫, 高楼层 (共24层), 83㎡, 平层, 暂无数据, 板楼, 南, 钢...   \n2      [3室1厅1厨1卫, 中楼层 (共5层), 116.35㎡, 平层, 暂无数据, 板楼, 南...   \n3      [1室1厅1厨1卫, 低楼层 (共30层), 63㎡, 平层, 暂无数据, 板楼, 南, 钢...   \n4      [2室1厅1厨1卫, 中楼层 (共7层), 67.04㎡, 平层, 暂无数据, 板楼, 南,...   \n...                                                  ...   \n23995  [2室1厅1厨1卫, 中楼层 (共30层), 76.86㎡, 平层, 暂无数据, 塔楼, 南...   \n23996  [6室3厅1厨4卫, 低楼层 (共3层), 266.64㎡, 复式, 暂无数据, 暂无数据,...   \n23997  [2室2厅1厨1卫, 高楼层 (共8层), 106.93㎡, 平层, 84.62㎡, 板楼,...   \n23998  [1室1厅1厨1卫, 低楼层 (共11层), 75.7㎡, 平层, 暂无数据, 板楼, 南 ...   \n23999  [2室1厅1厨1卫, 低楼层 (共30层), 76.74㎡, 平层, 暂无数据, 塔楼, 南...   \n\n                                     transaction_details  \n0      [2023-09-24, 商品房, 2003-06-14, 普通住宅, 满五年, 非共有, ...  \n1      [2023-10-05, 商品房, 2017-10-06, 普通住宅, 满五年, 共有, \\...  \n2      [2023-09-21, 商品房, 2008-01-04, 普通住宅, 满五年, 非共有, ...  \n3      [2023-10-06, 商品房, 2017-10-05, 普通住宅, 满五年, 非共有, ...  \n4      [2023-10-06, 已购公房, 1998-03-21, 普通住宅, 满五年, 非共有,...  \n...                                                  ...  \n23995  [2023-09-02, 商品房, 2019-09-03, 普通住宅, 满两年, 非共有, ...  \n23996  [2020-07-30, 商品房, 2017-08-28, 普通住宅, 满五年, 非共有, ...  \n23997  [2021-05-19, 经济适用房, 2015-05-22, 普通住宅, 满五年, 非共有...  \n23998  [2022-08-15, 商品房, 2017-08-21, 普通住宅, 满五年, 共有, \\...  \n23999  [2022-06-26, 商品房, 2019-09-16, 普通住宅, 满两年, 非共有, ...  \n\n[24000 rows x 8 columns]",
      "text/html": "<div>\n<style scoped>\n    .dataframe tbody tr th:only-of-type {\n        vertical-align: middle;\n    }\n\n    .dataframe tbody tr th {\n        vertical-align: top;\n    }\n\n    .dataframe thead th {\n        text-align: right;\n    }\n</style>\n<table border=\"1\" class=\"dataframe\">\n  <thead>\n    <tr style=\"text-align: right;\">\n      <th></th>\n      <th>地区</th>\n      <th>house_details</th>\n      <th>follow_details</th>\n      <th>价格</th>\n      <th>单位价格</th>\n      <th>features</th>\n      <th>basic_details</th>\n      <th>transaction_details</th>\n    </tr>\n  </thead>\n  <tbody>\n    <tr>\n      <th>0</th>\n      <td>1</td>\n      <td>闽江苑 |闽江路|3室1厅 | 125.08平米 | 南 北 | 简装 | 中楼层(共6层)...</td>\n      <td>2人关注 / 15天以前发布</td>\n      <td>289.0</td>\n      <td>23,106元/平</td>\n      <td>[近地铁, VR看装修, 房本满五年, 随时看房]</td>\n      <td>[3室1厅1厨1卫, 中楼层 (共6层), 125.08㎡, 平层, 111.33㎡, 板楼...</td>\n      <td>[2023-09-24, 商品房, 2003-06-14, 普通住宅, 满五年, 非共有, ...</td>\n    </tr>\n    <tr>\n      <th>1</th>\n      <td>1</td>\n      <td>鹏程花园 |远洋广场|2室1厅 | 83平米 | 南 | 精装 | 高楼层(共24层) | ...</td>\n      <td>1人关注 / 4天以前发布</td>\n      <td>139.0</td>\n      <td>16,747元/平</td>\n      <td>[近地铁, VR看装修, 房本满五年, 随时看房]</td>\n      <td>[2室1厅1厨1卫, 高楼层 (共24层), 83㎡, 平层, 暂无数据, 板楼, 南, 钢...</td>\n      <td>[2023-10-05, 商品房, 2017-10-06, 普通住宅, 满五年, 共有, \\...</td>\n    </tr>\n    <tr>\n      <th>2</th>\n      <td>1</td>\n      <td>交运山庄 |福安|3室1厅 | 116.35平米 | 南 | 精装 | 中楼层(共5层) |...</td>\n      <td>6人关注 / 18天以前发布</td>\n      <td>349.0</td>\n      <td>29,996元/平</td>\n      <td>[近地铁, VR房源, 房本满五年, 随时看房]</td>\n      <td>[3室1厅1厨1卫, 中楼层 (共5层), 116.35㎡, 平层, 暂无数据, 板楼, 南...</td>\n      <td>[2023-09-21, 商品房, 2008-01-04, 普通住宅, 满五年, 非共有, ...</td>\n    </tr>\n    <tr>\n      <th>3</th>\n      <td>1</td>\n      <td>中环国际广场 |远洋广场|1室1厅 | 63平米 | 南 | 精装 | 低楼层(共30层) ...</td>\n      <td>0人关注 / 4天以前发布</td>\n      <td>115.0</td>\n      <td>18,254元/平</td>\n      <td>[近地铁, VR看装修, 房本满五年, 随时看房]</td>\n      <td>[1室1厅1厨1卫, 低楼层 (共30层), 63㎡, 平层, 暂无数据, 板楼, 南, 钢...</td>\n      <td>[2023-10-06, 商品房, 2017-10-05, 普通住宅, 满五年, 非共有, ...</td>\n    </tr>\n    <tr>\n      <th>4</th>\n      <td>1</td>\n      <td>辛家庄三小区（三明路） |辛家庄|2室1厅 | 67.04平米 | 南 | 简装 | 中楼层...</td>\n      <td>0人关注 / 4天以前发布</td>\n      <td>119.0</td>\n      <td>17,751元/平</td>\n      <td>[VR看装修, 房本满五年, 随时看房]</td>\n      <td>[2室1厅1厨1卫, 中楼层 (共7层), 67.04㎡, 平层, 暂无数据, 板楼, 南,...</td>\n      <td>[2023-10-06, 已购公房, 1998-03-21, 普通住宅, 满五年, 非共有,...</td>\n    </tr>\n    <tr>\n      <th>...</th>\n      <td>...</td>\n      <td>...</td>\n      <td>...</td>\n      <td>...</td>\n      <td>...</td>\n      <td>...</td>\n      <td>...</td>\n      <td>...</td>\n    </tr>\n    <tr>\n      <th>23995</th>\n      <td>8</td>\n      <td>佳源都市南区 |即墨城西|2室1厅 | 76.86平米 | 南 北 | 精装 | 中楼层(共...</td>\n      <td>0人关注 / 1个月以前发布</td>\n      <td>99.0</td>\n      <td>12,881元/平</td>\n      <td>[VR看装修, 房本满两年]</td>\n      <td>[2室1厅1厨1卫, 中楼层 (共30层), 76.86㎡, 平层, 暂无数据, 塔楼, 南...</td>\n      <td>[2023-09-02, 商品房, 2019-09-03, 普通住宅, 满两年, 非共有, ...</td>\n    </tr>\n    <tr>\n      <th>23996</th>\n      <td>8</td>\n      <td>海信温泉王朝 |即墨温泉|6室3厅 | 266.64平米 | 南 北 | 精装 | 低楼层(...</td>\n      <td>14人关注 / 一年前发布</td>\n      <td>570.0</td>\n      <td>21,378元/平</td>\n      <td>[VR房源, 房本满五年]</td>\n      <td>[6室3厅1厨4卫, 低楼层 (共3层), 266.64㎡, 复式, 暂无数据, 暂无数据,...</td>\n      <td>[2020-07-30, 商品房, 2017-08-28, 普通住宅, 满五年, 非共有, ...</td>\n    </tr>\n    <tr>\n      <th>23997</th>\n      <td>8</td>\n      <td>环秀景苑 |即墨古城|2室2厅 | 106.93平米 | 南 北 | 精装 | 高楼层(共8...</td>\n      <td>3人关注 / 一年前发布</td>\n      <td>92.0</td>\n      <td>8,604元/平</td>\n      <td>[VR看装修, 房本满五年]</td>\n      <td>[2室2厅1厨1卫, 高楼层 (共8层), 106.93㎡, 平层, 84.62㎡, 板楼,...</td>\n      <td>[2021-05-19, 经济适用房, 2015-05-22, 普通住宅, 满五年, 非共有...</td>\n    </tr>\n    <tr>\n      <th>23998</th>\n      <td>8</td>\n      <td>鳌山名苑 |即墨蓝谷|1室1厅 | 75.7平米 | 南 北 | 精装 | 低楼层(共11层...</td>\n      <td>0人关注 / 一年前发布</td>\n      <td>57.0</td>\n      <td>7,530元/平</td>\n      <td>[VR看装修, 房本满五年]</td>\n      <td>[1室1厅1厨1卫, 低楼层 (共11层), 75.7㎡, 平层, 暂无数据, 板楼, 南 ...</td>\n      <td>[2022-08-15, 商品房, 2017-08-21, 普通住宅, 满五年, 共有, \\...</td>\n    </tr>\n    <tr>\n      <th>23999</th>\n      <td>8</td>\n      <td>佳源都市南区 |即墨城西|2室1厅 | 76.74平米 | 南 北 | 精装 | 低楼层(共...</td>\n      <td>0人关注 / 一年前发布</td>\n      <td>100.0</td>\n      <td>13,032元/平</td>\n      <td>[VR看装修, 房本满两年]</td>\n      <td>[2室1厅1厨1卫, 低楼层 (共30层), 76.74㎡, 平层, 暂无数据, 塔楼, 南...</td>\n      <td>[2022-06-26, 商品房, 2019-09-16, 普通住宅, 满两年, 非共有, ...</td>\n    </tr>\n  </tbody>\n</table>\n<p>24000 rows × 8 columns</p>\n</div>"
     },
     "execution_count": 2,
     "metadata": {},
     "output_type": "execute_result"
    }
   ],
   "source": [
    "# Dictionary to map URL segments to their corresponding region codes\n",
    "replace_dict = {\n",
    "    '/ershoufang/shinan/': '1', # 1 represents 市南区\n",
    "    '/ershoufang/shibei/': '2', # 2 represents 市北区\n",
    "    '/ershoufang/licang/': '3', # 3 represents 李沧区\n",
    "    '/ershoufang/laoshan/': '4', # 4 represents 崂山区\n",
    "    '/ershoufang/huangdao/': '5', # 5 represents 黄岛区\n",
    "    '/ershoufang/chengyang/': '6', # 6 represents 城阳区\n",
    "    '/ershoufang/jiaozhou/': '7', # 7 represents 胶州市\n",
    "    '/ershoufang/jimo/': '8',   # 8 represents 即墨区\n",
    "}\n",
    "\n",
    "# Replacing the URL segments in the 'Region' column with their respective numeric codes\n",
    "df['地区'] = df['地区'].replace(replace_dict)\n",
    "\n",
    "# Display the dataframe after processing\n",
    "df"
   ],
   "metadata": {
    "collapsed": false,
    "ExecuteTime": {
     "end_time": "2023-10-15T12:17:43.780214Z",
     "start_time": "2023-10-15T12:17:43.753510Z"
    }
   },
   "id": "576b654901632be1"
  },
  {
   "cell_type": "markdown",
   "source": [
    "### 1.3 Splitting Property Details\n",
    "\n",
    "The 'house_details' column in our dataset contains multiple property characteristics delimited by the pipe ('|') symbol. These characteristics include details such as the community name, location, housing type, area, orientation, decoration, floor level, building year, building type, and other details.\n",
    "\n",
    "To make the dataset more structured, we aim to split these details into separate columns. Additionally, we ensure that the 'Year' column contains valid years by checking for digits and handle exceptions accordingly.\n"
   ],
   "metadata": {
    "collapsed": false
   },
   "id": "2931ef49a1f05b2b"
  },
  {
   "cell_type": "code",
   "execution_count": 3,
   "outputs": [
    {
     "data": {
      "text/plain": "      地区  follow_details     价格       单位价格                   features  \\\n0      1  2人关注 / 15天以前发布  289.0  23,106元/平  [近地铁, VR看装修, 房本满五年, 随时看房]   \n1      1   1人关注 / 4天以前发布  139.0  16,747元/平  [近地铁, VR看装修, 房本满五年, 随时看房]   \n2      1  6人关注 / 18天以前发布  349.0  29,996元/平   [近地铁, VR房源, 房本满五年, 随时看房]   \n3      1   0人关注 / 4天以前发布  115.0  18,254元/平  [近地铁, VR看装修, 房本满五年, 随时看房]   \n4      1   0人关注 / 4天以前发布  119.0  17,751元/平       [VR看装修, 房本满五年, 随时看房]   \n...   ..             ...    ...        ...                        ...   \n23995  8  0人关注 / 1个月以前发布   99.0  12,881元/平             [VR看装修, 房本满两年]   \n23996  8   14人关注 / 一年前发布  570.0  21,378元/平              [VR房源, 房本满五年]   \n23997  8    3人关注 / 一年前发布   92.0   8,604元/平             [VR看装修, 房本满五年]   \n23998  8    0人关注 / 一年前发布   57.0   7,530元/平             [VR看装修, 房本满五年]   \n23999  8    0人关注 / 一年前发布  100.0  13,032元/平             [VR看装修, 房本满两年]   \n\n                                           basic_details  \\\n0      [3室1厅1厨1卫, 中楼层 (共6层), 125.08㎡, 平层, 111.33㎡, 板楼...   \n1      [2室1厅1厨1卫, 高楼层 (共24层), 83㎡, 平层, 暂无数据, 板楼, 南, 钢...   \n2      [3室1厅1厨1卫, 中楼层 (共5层), 116.35㎡, 平层, 暂无数据, 板楼, 南...   \n3      [1室1厅1厨1卫, 低楼层 (共30层), 63㎡, 平层, 暂无数据, 板楼, 南, 钢...   \n4      [2室1厅1厨1卫, 中楼层 (共7层), 67.04㎡, 平层, 暂无数据, 板楼, 南,...   \n...                                                  ...   \n23995  [2室1厅1厨1卫, 中楼层 (共30层), 76.86㎡, 平层, 暂无数据, 塔楼, 南...   \n23996  [6室3厅1厨4卫, 低楼层 (共3层), 266.64㎡, 复式, 暂无数据, 暂无数据,...   \n23997  [2室2厅1厨1卫, 高楼层 (共8层), 106.93㎡, 平层, 84.62㎡, 板楼,...   \n23998  [1室1厅1厨1卫, 低楼层 (共11层), 75.7㎡, 平层, 暂无数据, 板楼, 南 ...   \n23999  [2室1厅1厨1卫, 低楼层 (共30层), 76.74㎡, 平层, 暂无数据, 塔楼, 南...   \n\n                                     transaction_details            小区    位置  \\\n0      [2023-09-24, 商品房, 2003-06-14, 普通住宅, 满五年, 非共有, ...          闽江苑    闽江路   \n1      [2023-10-05, 商品房, 2017-10-06, 普通住宅, 满五年, 共有, \\...         鹏程花园   远洋广场   \n2      [2023-09-21, 商品房, 2008-01-04, 普通住宅, 满五年, 非共有, ...         交运山庄     福安   \n3      [2023-10-06, 商品房, 2017-10-05, 普通住宅, 满五年, 非共有, ...       中环国际广场   远洋广场   \n4      [2023-10-06, 已购公房, 1998-03-21, 普通住宅, 满五年, 非共有,...  辛家庄三小区（三明路）    辛家庄   \n...                                                  ...           ...   ...   \n23995  [2023-09-02, 商品房, 2019-09-03, 普通住宅, 满两年, 非共有, ...       佳源都市南区   即墨城西   \n23996  [2020-07-30, 商品房, 2017-08-28, 普通住宅, 满五年, 非共有, ...       海信温泉王朝   即墨温泉   \n23997  [2021-05-19, 经济适用房, 2015-05-22, 普通住宅, 满五年, 非共有...         环秀景苑   即墨古城   \n23998  [2022-08-15, 商品房, 2017-08-21, 普通住宅, 满五年, 共有, \\...         鳌山名苑   即墨蓝谷   \n23999  [2022-06-26, 商品房, 2019-09-16, 普通住宅, 满两年, 非共有, ...       佳源都市南区   即墨城西   \n\n          户型          面积     朝向    装修            楼层        年份    台楼    其他  \n0      3室1厅    125.08平米    南 北    简装      中楼层(共6层)    1997年建     板楼  None  \n1      2室1厅        83平米      南    精装     高楼层(共24层)    1996年建     板楼  None  \n2      3室1厅    116.35平米      南    精装      中楼层(共5层)    2004年建     板楼  None  \n3      1室1厅        63平米      南    精装     低楼层(共30层)    2007年建     板楼  None  \n4      2室1厅     67.04平米      南    简装      中楼层(共7层)    1987年建     板楼  None  \n...      ...         ...    ...   ...           ...       ...   ...   ...  \n23995  2室1厅     76.86平米    南 北    精装    中楼层(共30层)        暂无数据    塔楼  None  \n23996  6室3厅    266.64平米    南 北    精装     低楼层(共3层)        暂无数据  None  None  \n23997  2室2厅    106.93平米    南 北    精装     高楼层(共8层)        暂无数据    板楼  None  \n23998  1室1厅      75.7平米    南 北    精装     低楼层(共11层)    2014年建     板楼  None  \n23999  2室1厅     76.74平米    南 北    精装    低楼层(共30层)        暂无数据    塔楼  None  \n\n[24000 rows x 17 columns]",
      "text/html": "<div>\n<style scoped>\n    .dataframe tbody tr th:only-of-type {\n        vertical-align: middle;\n    }\n\n    .dataframe tbody tr th {\n        vertical-align: top;\n    }\n\n    .dataframe thead th {\n        text-align: right;\n    }\n</style>\n<table border=\"1\" class=\"dataframe\">\n  <thead>\n    <tr style=\"text-align: right;\">\n      <th></th>\n      <th>地区</th>\n      <th>follow_details</th>\n      <th>价格</th>\n      <th>单位价格</th>\n      <th>features</th>\n      <th>basic_details</th>\n      <th>transaction_details</th>\n      <th>小区</th>\n      <th>位置</th>\n      <th>户型</th>\n      <th>面积</th>\n      <th>朝向</th>\n      <th>装修</th>\n      <th>楼层</th>\n      <th>年份</th>\n      <th>台楼</th>\n      <th>其他</th>\n    </tr>\n  </thead>\n  <tbody>\n    <tr>\n      <th>0</th>\n      <td>1</td>\n      <td>2人关注 / 15天以前发布</td>\n      <td>289.0</td>\n      <td>23,106元/平</td>\n      <td>[近地铁, VR看装修, 房本满五年, 随时看房]</td>\n      <td>[3室1厅1厨1卫, 中楼层 (共6层), 125.08㎡, 平层, 111.33㎡, 板楼...</td>\n      <td>[2023-09-24, 商品房, 2003-06-14, 普通住宅, 满五年, 非共有, ...</td>\n      <td>闽江苑</td>\n      <td>闽江路</td>\n      <td>3室1厅</td>\n      <td>125.08平米</td>\n      <td>南 北</td>\n      <td>简装</td>\n      <td>中楼层(共6层)</td>\n      <td>1997年建</td>\n      <td>板楼</td>\n      <td>None</td>\n    </tr>\n    <tr>\n      <th>1</th>\n      <td>1</td>\n      <td>1人关注 / 4天以前发布</td>\n      <td>139.0</td>\n      <td>16,747元/平</td>\n      <td>[近地铁, VR看装修, 房本满五年, 随时看房]</td>\n      <td>[2室1厅1厨1卫, 高楼层 (共24层), 83㎡, 平层, 暂无数据, 板楼, 南, 钢...</td>\n      <td>[2023-10-05, 商品房, 2017-10-06, 普通住宅, 满五年, 共有, \\...</td>\n      <td>鹏程花园</td>\n      <td>远洋广场</td>\n      <td>2室1厅</td>\n      <td>83平米</td>\n      <td>南</td>\n      <td>精装</td>\n      <td>高楼层(共24层)</td>\n      <td>1996年建</td>\n      <td>板楼</td>\n      <td>None</td>\n    </tr>\n    <tr>\n      <th>2</th>\n      <td>1</td>\n      <td>6人关注 / 18天以前发布</td>\n      <td>349.0</td>\n      <td>29,996元/平</td>\n      <td>[近地铁, VR房源, 房本满五年, 随时看房]</td>\n      <td>[3室1厅1厨1卫, 中楼层 (共5层), 116.35㎡, 平层, 暂无数据, 板楼, 南...</td>\n      <td>[2023-09-21, 商品房, 2008-01-04, 普通住宅, 满五年, 非共有, ...</td>\n      <td>交运山庄</td>\n      <td>福安</td>\n      <td>3室1厅</td>\n      <td>116.35平米</td>\n      <td>南</td>\n      <td>精装</td>\n      <td>中楼层(共5层)</td>\n      <td>2004年建</td>\n      <td>板楼</td>\n      <td>None</td>\n    </tr>\n    <tr>\n      <th>3</th>\n      <td>1</td>\n      <td>0人关注 / 4天以前发布</td>\n      <td>115.0</td>\n      <td>18,254元/平</td>\n      <td>[近地铁, VR看装修, 房本满五年, 随时看房]</td>\n      <td>[1室1厅1厨1卫, 低楼层 (共30层), 63㎡, 平层, 暂无数据, 板楼, 南, 钢...</td>\n      <td>[2023-10-06, 商品房, 2017-10-05, 普通住宅, 满五年, 非共有, ...</td>\n      <td>中环国际广场</td>\n      <td>远洋广场</td>\n      <td>1室1厅</td>\n      <td>63平米</td>\n      <td>南</td>\n      <td>精装</td>\n      <td>低楼层(共30层)</td>\n      <td>2007年建</td>\n      <td>板楼</td>\n      <td>None</td>\n    </tr>\n    <tr>\n      <th>4</th>\n      <td>1</td>\n      <td>0人关注 / 4天以前发布</td>\n      <td>119.0</td>\n      <td>17,751元/平</td>\n      <td>[VR看装修, 房本满五年, 随时看房]</td>\n      <td>[2室1厅1厨1卫, 中楼层 (共7层), 67.04㎡, 平层, 暂无数据, 板楼, 南,...</td>\n      <td>[2023-10-06, 已购公房, 1998-03-21, 普通住宅, 满五年, 非共有,...</td>\n      <td>辛家庄三小区（三明路）</td>\n      <td>辛家庄</td>\n      <td>2室1厅</td>\n      <td>67.04平米</td>\n      <td>南</td>\n      <td>简装</td>\n      <td>中楼层(共7层)</td>\n      <td>1987年建</td>\n      <td>板楼</td>\n      <td>None</td>\n    </tr>\n    <tr>\n      <th>...</th>\n      <td>...</td>\n      <td>...</td>\n      <td>...</td>\n      <td>...</td>\n      <td>...</td>\n      <td>...</td>\n      <td>...</td>\n      <td>...</td>\n      <td>...</td>\n      <td>...</td>\n      <td>...</td>\n      <td>...</td>\n      <td>...</td>\n      <td>...</td>\n      <td>...</td>\n      <td>...</td>\n      <td>...</td>\n    </tr>\n    <tr>\n      <th>23995</th>\n      <td>8</td>\n      <td>0人关注 / 1个月以前发布</td>\n      <td>99.0</td>\n      <td>12,881元/平</td>\n      <td>[VR看装修, 房本满两年]</td>\n      <td>[2室1厅1厨1卫, 中楼层 (共30层), 76.86㎡, 平层, 暂无数据, 塔楼, 南...</td>\n      <td>[2023-09-02, 商品房, 2019-09-03, 普通住宅, 满两年, 非共有, ...</td>\n      <td>佳源都市南区</td>\n      <td>即墨城西</td>\n      <td>2室1厅</td>\n      <td>76.86平米</td>\n      <td>南 北</td>\n      <td>精装</td>\n      <td>中楼层(共30层)</td>\n      <td>暂无数据</td>\n      <td>塔楼</td>\n      <td>None</td>\n    </tr>\n    <tr>\n      <th>23996</th>\n      <td>8</td>\n      <td>14人关注 / 一年前发布</td>\n      <td>570.0</td>\n      <td>21,378元/平</td>\n      <td>[VR房源, 房本满五年]</td>\n      <td>[6室3厅1厨4卫, 低楼层 (共3层), 266.64㎡, 复式, 暂无数据, 暂无数据,...</td>\n      <td>[2020-07-30, 商品房, 2017-08-28, 普通住宅, 满五年, 非共有, ...</td>\n      <td>海信温泉王朝</td>\n      <td>即墨温泉</td>\n      <td>6室3厅</td>\n      <td>266.64平米</td>\n      <td>南 北</td>\n      <td>精装</td>\n      <td>低楼层(共3层)</td>\n      <td>暂无数据</td>\n      <td>None</td>\n      <td>None</td>\n    </tr>\n    <tr>\n      <th>23997</th>\n      <td>8</td>\n      <td>3人关注 / 一年前发布</td>\n      <td>92.0</td>\n      <td>8,604元/平</td>\n      <td>[VR看装修, 房本满五年]</td>\n      <td>[2室2厅1厨1卫, 高楼层 (共8层), 106.93㎡, 平层, 84.62㎡, 板楼,...</td>\n      <td>[2021-05-19, 经济适用房, 2015-05-22, 普通住宅, 满五年, 非共有...</td>\n      <td>环秀景苑</td>\n      <td>即墨古城</td>\n      <td>2室2厅</td>\n      <td>106.93平米</td>\n      <td>南 北</td>\n      <td>精装</td>\n      <td>高楼层(共8层)</td>\n      <td>暂无数据</td>\n      <td>板楼</td>\n      <td>None</td>\n    </tr>\n    <tr>\n      <th>23998</th>\n      <td>8</td>\n      <td>0人关注 / 一年前发布</td>\n      <td>57.0</td>\n      <td>7,530元/平</td>\n      <td>[VR看装修, 房本满五年]</td>\n      <td>[1室1厅1厨1卫, 低楼层 (共11层), 75.7㎡, 平层, 暂无数据, 板楼, 南 ...</td>\n      <td>[2022-08-15, 商品房, 2017-08-21, 普通住宅, 满五年, 共有, \\...</td>\n      <td>鳌山名苑</td>\n      <td>即墨蓝谷</td>\n      <td>1室1厅</td>\n      <td>75.7平米</td>\n      <td>南 北</td>\n      <td>精装</td>\n      <td>低楼层(共11层)</td>\n      <td>2014年建</td>\n      <td>板楼</td>\n      <td>None</td>\n    </tr>\n    <tr>\n      <th>23999</th>\n      <td>8</td>\n      <td>0人关注 / 一年前发布</td>\n      <td>100.0</td>\n      <td>13,032元/平</td>\n      <td>[VR看装修, 房本满两年]</td>\n      <td>[2室1厅1厨1卫, 低楼层 (共30层), 76.74㎡, 平层, 暂无数据, 塔楼, 南...</td>\n      <td>[2022-06-26, 商品房, 2019-09-16, 普通住宅, 满两年, 非共有, ...</td>\n      <td>佳源都市南区</td>\n      <td>即墨城西</td>\n      <td>2室1厅</td>\n      <td>76.74平米</td>\n      <td>南 北</td>\n      <td>精装</td>\n      <td>低楼层(共30层)</td>\n      <td>暂无数据</td>\n      <td>塔楼</td>\n      <td>None</td>\n    </tr>\n  </tbody>\n</table>\n<p>24000 rows × 17 columns</p>\n</div>"
     },
     "execution_count": 3,
     "metadata": {},
     "output_type": "execute_result"
    }
   ],
   "source": [
    "# Split the 'house_details' column based on the '|' delimiter\n",
    "house_details_split = pd.DataFrame((x.split('|') for x in df.house_details), index=df.index, columns=['小区', '位置', '户型', '面积', '朝向', '装修', '楼层', '年份', '台楼', '其他'])\n",
    "\n",
    "# Using regex to check if the 'Year' column contains digits (indicating valid years) or the placeholder '暂无数据'\n",
    "mask_no_digits = ~house_details_split['年份'].str.contains(r'\\d|暂无数据', na=False)\n",
    "\n",
    "# If the 'Year' column does not contain valid digits, move its values to the 'Building Type' column\n",
    "house_details_split.loc[mask_no_digits, '台楼'] = house_details_split.loc[mask_no_digits, '年份']\n",
    "\n",
    "#  Replace non-valid years in the 'Year' column with the placeholder '暂无数据'\n",
    "house_details_split.loc[mask_no_digits, '年份'] = '暂无数据'\n",
    "\n",
    "# Concatenate the original dataframe with the newly split columns\n",
    "df = pd.concat([df, house_details_split], axis=1)\n",
    "\n",
    "# Drop the original 'house_details' column as it's now redundant\n",
    "df = df.drop(columns=['house_details'])\n",
    "\n",
    "# Display the updated dataframe\n",
    "df"
   ],
   "metadata": {
    "collapsed": false,
    "ExecuteTime": {
     "end_time": "2023-10-15T12:18:11.204891Z",
     "start_time": "2023-10-15T12:18:11.154375Z"
    }
   },
   "id": "6e267032d21eb2d7"
  },
  {
   "cell_type": "markdown",
   "source": [
    "### 1.4 Splitting Follow-up Details\n",
    "\n",
    "The 'follow_details' column in our dataset contains information about how many people have shown interest in a particular property and when the property was posted, separated by the '/' symbol.\n",
    "\n",
    "For ease of analysis, we intend to split this column into two separate columns: one representing the number of interested parties and the other representing the date of posting.\n"
   ],
   "metadata": {
    "collapsed": false
   },
   "id": "967cab5c2bc0e27d"
  },
  {
   "cell_type": "code",
   "execution_count": 4,
   "outputs": [
    {
     "data": {
      "text/plain": "      地区     价格       单位价格                   features  \\\n0      1  289.0  23,106元/平  [近地铁, VR看装修, 房本满五年, 随时看房]   \n1      1  139.0  16,747元/平  [近地铁, VR看装修, 房本满五年, 随时看房]   \n2      1  349.0  29,996元/平   [近地铁, VR房源, 房本满五年, 随时看房]   \n3      1  115.0  18,254元/平  [近地铁, VR看装修, 房本满五年, 随时看房]   \n4      1  119.0  17,751元/平       [VR看装修, 房本满五年, 随时看房]   \n...   ..    ...        ...                        ...   \n23995  8   99.0  12,881元/平             [VR看装修, 房本满两年]   \n23996  8  570.0  21,378元/平              [VR房源, 房本满五年]   \n23997  8   92.0   8,604元/平             [VR看装修, 房本满五年]   \n23998  8   57.0   7,530元/平             [VR看装修, 房本满五年]   \n23999  8  100.0  13,032元/平             [VR看装修, 房本满两年]   \n\n                                           basic_details  \\\n0      [3室1厅1厨1卫, 中楼层 (共6层), 125.08㎡, 平层, 111.33㎡, 板楼...   \n1      [2室1厅1厨1卫, 高楼层 (共24层), 83㎡, 平层, 暂无数据, 板楼, 南, 钢...   \n2      [3室1厅1厨1卫, 中楼层 (共5层), 116.35㎡, 平层, 暂无数据, 板楼, 南...   \n3      [1室1厅1厨1卫, 低楼层 (共30层), 63㎡, 平层, 暂无数据, 板楼, 南, 钢...   \n4      [2室1厅1厨1卫, 中楼层 (共7层), 67.04㎡, 平层, 暂无数据, 板楼, 南,...   \n...                                                  ...   \n23995  [2室1厅1厨1卫, 中楼层 (共30层), 76.86㎡, 平层, 暂无数据, 塔楼, 南...   \n23996  [6室3厅1厨4卫, 低楼层 (共3层), 266.64㎡, 复式, 暂无数据, 暂无数据,...   \n23997  [2室2厅1厨1卫, 高楼层 (共8层), 106.93㎡, 平层, 84.62㎡, 板楼,...   \n23998  [1室1厅1厨1卫, 低楼层 (共11层), 75.7㎡, 平层, 暂无数据, 板楼, 南 ...   \n23999  [2室1厅1厨1卫, 低楼层 (共30层), 76.74㎡, 平层, 暂无数据, 塔楼, 南...   \n\n                                     transaction_details            小区    位置  \\\n0      [2023-09-24, 商品房, 2003-06-14, 普通住宅, 满五年, 非共有, ...          闽江苑    闽江路   \n1      [2023-10-05, 商品房, 2017-10-06, 普通住宅, 满五年, 共有, \\...         鹏程花园   远洋广场   \n2      [2023-09-21, 商品房, 2008-01-04, 普通住宅, 满五年, 非共有, ...         交运山庄     福安   \n3      [2023-10-06, 商品房, 2017-10-05, 普通住宅, 满五年, 非共有, ...       中环国际广场   远洋广场   \n4      [2023-10-06, 已购公房, 1998-03-21, 普通住宅, 满五年, 非共有,...  辛家庄三小区（三明路）    辛家庄   \n...                                                  ...           ...   ...   \n23995  [2023-09-02, 商品房, 2019-09-03, 普通住宅, 满两年, 非共有, ...       佳源都市南区   即墨城西   \n23996  [2020-07-30, 商品房, 2017-08-28, 普通住宅, 满五年, 非共有, ...       海信温泉王朝   即墨温泉   \n23997  [2021-05-19, 经济适用房, 2015-05-22, 普通住宅, 满五年, 非共有...         环秀景苑   即墨古城   \n23998  [2022-08-15, 商品房, 2017-08-21, 普通住宅, 满五年, 共有, \\...         鳌山名苑   即墨蓝谷   \n23999  [2022-06-26, 商品房, 2019-09-16, 普通住宅, 满两年, 非共有, ...       佳源都市南区   即墨城西   \n\n          户型          面积     朝向    装修            楼层        年份    台楼    其他  \\\n0      3室1厅    125.08平米    南 北    简装      中楼层(共6层)    1997年建     板楼  None   \n1      2室1厅        83平米      南    精装     高楼层(共24层)    1996年建     板楼  None   \n2      3室1厅    116.35平米      南    精装      中楼层(共5层)    2004年建     板楼  None   \n3      1室1厅        63平米      南    精装     低楼层(共30层)    2007年建     板楼  None   \n4      2室1厅     67.04平米      南    简装      中楼层(共7层)    1987年建     板楼  None   \n...      ...         ...    ...   ...           ...       ...   ...   ...   \n23995  2室1厅     76.86平米    南 北    精装    中楼层(共30层)        暂无数据    塔楼  None   \n23996  6室3厅    266.64平米    南 北    精装     低楼层(共3层)        暂无数据  None  None   \n23997  2室2厅    106.93平米    南 北    精装     高楼层(共8层)        暂无数据    板楼  None   \n23998  1室1厅      75.7平米    南 北    精装     低楼层(共11层)    2014年建     板楼  None   \n23999  2室1厅     76.74平米    南 北    精装    低楼层(共30层)        暂无数据    塔楼  None   \n\n           关注        发布  \n0       2人关注    15天以前发布  \n1       1人关注     4天以前发布  \n2       6人关注    18天以前发布  \n3       0人关注     4天以前发布  \n4       0人关注     4天以前发布  \n...       ...       ...  \n23995   0人关注    1个月以前发布  \n23996  14人关注      一年前发布  \n23997   3人关注      一年前发布  \n23998   0人关注      一年前发布  \n23999   0人关注      一年前发布  \n\n[24000 rows x 18 columns]",
      "text/html": "<div>\n<style scoped>\n    .dataframe tbody tr th:only-of-type {\n        vertical-align: middle;\n    }\n\n    .dataframe tbody tr th {\n        vertical-align: top;\n    }\n\n    .dataframe thead th {\n        text-align: right;\n    }\n</style>\n<table border=\"1\" class=\"dataframe\">\n  <thead>\n    <tr style=\"text-align: right;\">\n      <th></th>\n      <th>地区</th>\n      <th>价格</th>\n      <th>单位价格</th>\n      <th>features</th>\n      <th>basic_details</th>\n      <th>transaction_details</th>\n      <th>小区</th>\n      <th>位置</th>\n      <th>户型</th>\n      <th>面积</th>\n      <th>朝向</th>\n      <th>装修</th>\n      <th>楼层</th>\n      <th>年份</th>\n      <th>台楼</th>\n      <th>其他</th>\n      <th>关注</th>\n      <th>发布</th>\n    </tr>\n  </thead>\n  <tbody>\n    <tr>\n      <th>0</th>\n      <td>1</td>\n      <td>289.0</td>\n      <td>23,106元/平</td>\n      <td>[近地铁, VR看装修, 房本满五年, 随时看房]</td>\n      <td>[3室1厅1厨1卫, 中楼层 (共6层), 125.08㎡, 平层, 111.33㎡, 板楼...</td>\n      <td>[2023-09-24, 商品房, 2003-06-14, 普通住宅, 满五年, 非共有, ...</td>\n      <td>闽江苑</td>\n      <td>闽江路</td>\n      <td>3室1厅</td>\n      <td>125.08平米</td>\n      <td>南 北</td>\n      <td>简装</td>\n      <td>中楼层(共6层)</td>\n      <td>1997年建</td>\n      <td>板楼</td>\n      <td>None</td>\n      <td>2人关注</td>\n      <td>15天以前发布</td>\n    </tr>\n    <tr>\n      <th>1</th>\n      <td>1</td>\n      <td>139.0</td>\n      <td>16,747元/平</td>\n      <td>[近地铁, VR看装修, 房本满五年, 随时看房]</td>\n      <td>[2室1厅1厨1卫, 高楼层 (共24层), 83㎡, 平层, 暂无数据, 板楼, 南, 钢...</td>\n      <td>[2023-10-05, 商品房, 2017-10-06, 普通住宅, 满五年, 共有, \\...</td>\n      <td>鹏程花园</td>\n      <td>远洋广场</td>\n      <td>2室1厅</td>\n      <td>83平米</td>\n      <td>南</td>\n      <td>精装</td>\n      <td>高楼层(共24层)</td>\n      <td>1996年建</td>\n      <td>板楼</td>\n      <td>None</td>\n      <td>1人关注</td>\n      <td>4天以前发布</td>\n    </tr>\n    <tr>\n      <th>2</th>\n      <td>1</td>\n      <td>349.0</td>\n      <td>29,996元/平</td>\n      <td>[近地铁, VR房源, 房本满五年, 随时看房]</td>\n      <td>[3室1厅1厨1卫, 中楼层 (共5层), 116.35㎡, 平层, 暂无数据, 板楼, 南...</td>\n      <td>[2023-09-21, 商品房, 2008-01-04, 普通住宅, 满五年, 非共有, ...</td>\n      <td>交运山庄</td>\n      <td>福安</td>\n      <td>3室1厅</td>\n      <td>116.35平米</td>\n      <td>南</td>\n      <td>精装</td>\n      <td>中楼层(共5层)</td>\n      <td>2004年建</td>\n      <td>板楼</td>\n      <td>None</td>\n      <td>6人关注</td>\n      <td>18天以前发布</td>\n    </tr>\n    <tr>\n      <th>3</th>\n      <td>1</td>\n      <td>115.0</td>\n      <td>18,254元/平</td>\n      <td>[近地铁, VR看装修, 房本满五年, 随时看房]</td>\n      <td>[1室1厅1厨1卫, 低楼层 (共30层), 63㎡, 平层, 暂无数据, 板楼, 南, 钢...</td>\n      <td>[2023-10-06, 商品房, 2017-10-05, 普通住宅, 满五年, 非共有, ...</td>\n      <td>中环国际广场</td>\n      <td>远洋广场</td>\n      <td>1室1厅</td>\n      <td>63平米</td>\n      <td>南</td>\n      <td>精装</td>\n      <td>低楼层(共30层)</td>\n      <td>2007年建</td>\n      <td>板楼</td>\n      <td>None</td>\n      <td>0人关注</td>\n      <td>4天以前发布</td>\n    </tr>\n    <tr>\n      <th>4</th>\n      <td>1</td>\n      <td>119.0</td>\n      <td>17,751元/平</td>\n      <td>[VR看装修, 房本满五年, 随时看房]</td>\n      <td>[2室1厅1厨1卫, 中楼层 (共7层), 67.04㎡, 平层, 暂无数据, 板楼, 南,...</td>\n      <td>[2023-10-06, 已购公房, 1998-03-21, 普通住宅, 满五年, 非共有,...</td>\n      <td>辛家庄三小区（三明路）</td>\n      <td>辛家庄</td>\n      <td>2室1厅</td>\n      <td>67.04平米</td>\n      <td>南</td>\n      <td>简装</td>\n      <td>中楼层(共7层)</td>\n      <td>1987年建</td>\n      <td>板楼</td>\n      <td>None</td>\n      <td>0人关注</td>\n      <td>4天以前发布</td>\n    </tr>\n    <tr>\n      <th>...</th>\n      <td>...</td>\n      <td>...</td>\n      <td>...</td>\n      <td>...</td>\n      <td>...</td>\n      <td>...</td>\n      <td>...</td>\n      <td>...</td>\n      <td>...</td>\n      <td>...</td>\n      <td>...</td>\n      <td>...</td>\n      <td>...</td>\n      <td>...</td>\n      <td>...</td>\n      <td>...</td>\n      <td>...</td>\n      <td>...</td>\n    </tr>\n    <tr>\n      <th>23995</th>\n      <td>8</td>\n      <td>99.0</td>\n      <td>12,881元/平</td>\n      <td>[VR看装修, 房本满两年]</td>\n      <td>[2室1厅1厨1卫, 中楼层 (共30层), 76.86㎡, 平层, 暂无数据, 塔楼, 南...</td>\n      <td>[2023-09-02, 商品房, 2019-09-03, 普通住宅, 满两年, 非共有, ...</td>\n      <td>佳源都市南区</td>\n      <td>即墨城西</td>\n      <td>2室1厅</td>\n      <td>76.86平米</td>\n      <td>南 北</td>\n      <td>精装</td>\n      <td>中楼层(共30层)</td>\n      <td>暂无数据</td>\n      <td>塔楼</td>\n      <td>None</td>\n      <td>0人关注</td>\n      <td>1个月以前发布</td>\n    </tr>\n    <tr>\n      <th>23996</th>\n      <td>8</td>\n      <td>570.0</td>\n      <td>21,378元/平</td>\n      <td>[VR房源, 房本满五年]</td>\n      <td>[6室3厅1厨4卫, 低楼层 (共3层), 266.64㎡, 复式, 暂无数据, 暂无数据,...</td>\n      <td>[2020-07-30, 商品房, 2017-08-28, 普通住宅, 满五年, 非共有, ...</td>\n      <td>海信温泉王朝</td>\n      <td>即墨温泉</td>\n      <td>6室3厅</td>\n      <td>266.64平米</td>\n      <td>南 北</td>\n      <td>精装</td>\n      <td>低楼层(共3层)</td>\n      <td>暂无数据</td>\n      <td>None</td>\n      <td>None</td>\n      <td>14人关注</td>\n      <td>一年前发布</td>\n    </tr>\n    <tr>\n      <th>23997</th>\n      <td>8</td>\n      <td>92.0</td>\n      <td>8,604元/平</td>\n      <td>[VR看装修, 房本满五年]</td>\n      <td>[2室2厅1厨1卫, 高楼层 (共8层), 106.93㎡, 平层, 84.62㎡, 板楼,...</td>\n      <td>[2021-05-19, 经济适用房, 2015-05-22, 普通住宅, 满五年, 非共有...</td>\n      <td>环秀景苑</td>\n      <td>即墨古城</td>\n      <td>2室2厅</td>\n      <td>106.93平米</td>\n      <td>南 北</td>\n      <td>精装</td>\n      <td>高楼层(共8层)</td>\n      <td>暂无数据</td>\n      <td>板楼</td>\n      <td>None</td>\n      <td>3人关注</td>\n      <td>一年前发布</td>\n    </tr>\n    <tr>\n      <th>23998</th>\n      <td>8</td>\n      <td>57.0</td>\n      <td>7,530元/平</td>\n      <td>[VR看装修, 房本满五年]</td>\n      <td>[1室1厅1厨1卫, 低楼层 (共11层), 75.7㎡, 平层, 暂无数据, 板楼, 南 ...</td>\n      <td>[2022-08-15, 商品房, 2017-08-21, 普通住宅, 满五年, 共有, \\...</td>\n      <td>鳌山名苑</td>\n      <td>即墨蓝谷</td>\n      <td>1室1厅</td>\n      <td>75.7平米</td>\n      <td>南 北</td>\n      <td>精装</td>\n      <td>低楼层(共11层)</td>\n      <td>2014年建</td>\n      <td>板楼</td>\n      <td>None</td>\n      <td>0人关注</td>\n      <td>一年前发布</td>\n    </tr>\n    <tr>\n      <th>23999</th>\n      <td>8</td>\n      <td>100.0</td>\n      <td>13,032元/平</td>\n      <td>[VR看装修, 房本满两年]</td>\n      <td>[2室1厅1厨1卫, 低楼层 (共30层), 76.74㎡, 平层, 暂无数据, 塔楼, 南...</td>\n      <td>[2022-06-26, 商品房, 2019-09-16, 普通住宅, 满两年, 非共有, ...</td>\n      <td>佳源都市南区</td>\n      <td>即墨城西</td>\n      <td>2室1厅</td>\n      <td>76.74平米</td>\n      <td>南 北</td>\n      <td>精装</td>\n      <td>低楼层(共30层)</td>\n      <td>暂无数据</td>\n      <td>塔楼</td>\n      <td>None</td>\n      <td>0人关注</td>\n      <td>一年前发布</td>\n    </tr>\n  </tbody>\n</table>\n<p>24000 rows × 18 columns</p>\n</div>"
     },
     "execution_count": 4,
     "metadata": {},
     "output_type": "execute_result"
    }
   ],
   "source": [
    "# Split the 'follow_details' column based on the '/' delimiter\n",
    "follow_details_split = pd.DataFrame((x.split('/') for x in df.follow_details), index=df.index, columns=['关注', '发布'])\n",
    "\n",
    "# Concatenate the original dataframe with the newly split columns\n",
    "df = pd.concat([df, follow_details_split], axis=1)\n",
    "\n",
    "# Drop the original 'follow_details' column as it's now redundant\n",
    "df = df.drop(columns=['follow_details'])\n",
    "\n",
    "# Display the updated dataframe\n",
    "df"
   ],
   "metadata": {
    "collapsed": false,
    "ExecuteTime": {
     "end_time": "2023-10-15T12:18:38.894059Z",
     "start_time": "2023-10-15T12:18:38.875403Z"
    }
   },
   "id": "1037902bb45aa52f"
  },
  {
   "cell_type": "markdown",
   "source": [
    "### 1.5 Processing Feature Information for Proximity to Subway\n",
    "\n",
    "After analysis, one of the key real estate features that can significantly affect its attractiveness to potential buyers or renters is its proximity to the subway. So, we convert the 'features' column to '是否近地铁'\n"
   ],
   "metadata": {
    "collapsed": false
   },
   "id": "8ec038f286a6c245"
  },
  {
   "cell_type": "code",
   "execution_count": 5,
   "outputs": [
    {
     "data": {
      "text/plain": "      地区     价格       单位价格  是否近地铁  \\\n0      1  289.0  23,106元/平      1   \n1      1  139.0  16,747元/平      1   \n2      1  349.0  29,996元/平      1   \n3      1  115.0  18,254元/平      1   \n4      1  119.0  17,751元/平      0   \n...   ..    ...        ...    ...   \n23995  8   99.0  12,881元/平      0   \n23996  8  570.0  21,378元/平      0   \n23997  8   92.0   8,604元/平      0   \n23998  8   57.0   7,530元/平      0   \n23999  8  100.0  13,032元/平      0   \n\n                                           basic_details  \\\n0      [3室1厅1厨1卫, 中楼层 (共6层), 125.08㎡, 平层, 111.33㎡, 板楼...   \n1      [2室1厅1厨1卫, 高楼层 (共24层), 83㎡, 平层, 暂无数据, 板楼, 南, 钢...   \n2      [3室1厅1厨1卫, 中楼层 (共5层), 116.35㎡, 平层, 暂无数据, 板楼, 南...   \n3      [1室1厅1厨1卫, 低楼层 (共30层), 63㎡, 平层, 暂无数据, 板楼, 南, 钢...   \n4      [2室1厅1厨1卫, 中楼层 (共7层), 67.04㎡, 平层, 暂无数据, 板楼, 南,...   \n...                                                  ...   \n23995  [2室1厅1厨1卫, 中楼层 (共30层), 76.86㎡, 平层, 暂无数据, 塔楼, 南...   \n23996  [6室3厅1厨4卫, 低楼层 (共3层), 266.64㎡, 复式, 暂无数据, 暂无数据,...   \n23997  [2室2厅1厨1卫, 高楼层 (共8层), 106.93㎡, 平层, 84.62㎡, 板楼,...   \n23998  [1室1厅1厨1卫, 低楼层 (共11层), 75.7㎡, 平层, 暂无数据, 板楼, 南 ...   \n23999  [2室1厅1厨1卫, 低楼层 (共30层), 76.74㎡, 平层, 暂无数据, 塔楼, 南...   \n\n                                     transaction_details            小区    位置  \\\n0      [2023-09-24, 商品房, 2003-06-14, 普通住宅, 满五年, 非共有, ...          闽江苑    闽江路   \n1      [2023-10-05, 商品房, 2017-10-06, 普通住宅, 满五年, 共有, \\...         鹏程花园   远洋广场   \n2      [2023-09-21, 商品房, 2008-01-04, 普通住宅, 满五年, 非共有, ...         交运山庄     福安   \n3      [2023-10-06, 商品房, 2017-10-05, 普通住宅, 满五年, 非共有, ...       中环国际广场   远洋广场   \n4      [2023-10-06, 已购公房, 1998-03-21, 普通住宅, 满五年, 非共有,...  辛家庄三小区（三明路）    辛家庄   \n...                                                  ...           ...   ...   \n23995  [2023-09-02, 商品房, 2019-09-03, 普通住宅, 满两年, 非共有, ...       佳源都市南区   即墨城西   \n23996  [2020-07-30, 商品房, 2017-08-28, 普通住宅, 满五年, 非共有, ...       海信温泉王朝   即墨温泉   \n23997  [2021-05-19, 经济适用房, 2015-05-22, 普通住宅, 满五年, 非共有...         环秀景苑   即墨古城   \n23998  [2022-08-15, 商品房, 2017-08-21, 普通住宅, 满五年, 共有, \\...         鳌山名苑   即墨蓝谷   \n23999  [2022-06-26, 商品房, 2019-09-16, 普通住宅, 满两年, 非共有, ...       佳源都市南区   即墨城西   \n\n          户型          面积     朝向    装修            楼层        年份    台楼    其他  \\\n0      3室1厅    125.08平米    南 北    简装      中楼层(共6层)    1997年建     板楼  None   \n1      2室1厅        83平米      南    精装     高楼层(共24层)    1996年建     板楼  None   \n2      3室1厅    116.35平米      南    精装      中楼层(共5层)    2004年建     板楼  None   \n3      1室1厅        63平米      南    精装     低楼层(共30层)    2007年建     板楼  None   \n4      2室1厅     67.04平米      南    简装      中楼层(共7层)    1987年建     板楼  None   \n...      ...         ...    ...   ...           ...       ...   ...   ...   \n23995  2室1厅     76.86平米    南 北    精装    中楼层(共30层)        暂无数据    塔楼  None   \n23996  6室3厅    266.64平米    南 北    精装     低楼层(共3层)        暂无数据  None  None   \n23997  2室2厅    106.93平米    南 北    精装     高楼层(共8层)        暂无数据    板楼  None   \n23998  1室1厅      75.7平米    南 北    精装     低楼层(共11层)    2014年建     板楼  None   \n23999  2室1厅     76.74平米    南 北    精装    低楼层(共30层)        暂无数据    塔楼  None   \n\n           关注        发布  \n0       2人关注    15天以前发布  \n1       1人关注     4天以前发布  \n2       6人关注    18天以前发布  \n3       0人关注     4天以前发布  \n4       0人关注     4天以前发布  \n...       ...       ...  \n23995   0人关注    1个月以前发布  \n23996  14人关注      一年前发布  \n23997   3人关注      一年前发布  \n23998   0人关注      一年前发布  \n23999   0人关注      一年前发布  \n\n[24000 rows x 18 columns]",
      "text/html": "<div>\n<style scoped>\n    .dataframe tbody tr th:only-of-type {\n        vertical-align: middle;\n    }\n\n    .dataframe tbody tr th {\n        vertical-align: top;\n    }\n\n    .dataframe thead th {\n        text-align: right;\n    }\n</style>\n<table border=\"1\" class=\"dataframe\">\n  <thead>\n    <tr style=\"text-align: right;\">\n      <th></th>\n      <th>地区</th>\n      <th>价格</th>\n      <th>单位价格</th>\n      <th>是否近地铁</th>\n      <th>basic_details</th>\n      <th>transaction_details</th>\n      <th>小区</th>\n      <th>位置</th>\n      <th>户型</th>\n      <th>面积</th>\n      <th>朝向</th>\n      <th>装修</th>\n      <th>楼层</th>\n      <th>年份</th>\n      <th>台楼</th>\n      <th>其他</th>\n      <th>关注</th>\n      <th>发布</th>\n    </tr>\n  </thead>\n  <tbody>\n    <tr>\n      <th>0</th>\n      <td>1</td>\n      <td>289.0</td>\n      <td>23,106元/平</td>\n      <td>1</td>\n      <td>[3室1厅1厨1卫, 中楼层 (共6层), 125.08㎡, 平层, 111.33㎡, 板楼...</td>\n      <td>[2023-09-24, 商品房, 2003-06-14, 普通住宅, 满五年, 非共有, ...</td>\n      <td>闽江苑</td>\n      <td>闽江路</td>\n      <td>3室1厅</td>\n      <td>125.08平米</td>\n      <td>南 北</td>\n      <td>简装</td>\n      <td>中楼层(共6层)</td>\n      <td>1997年建</td>\n      <td>板楼</td>\n      <td>None</td>\n      <td>2人关注</td>\n      <td>15天以前发布</td>\n    </tr>\n    <tr>\n      <th>1</th>\n      <td>1</td>\n      <td>139.0</td>\n      <td>16,747元/平</td>\n      <td>1</td>\n      <td>[2室1厅1厨1卫, 高楼层 (共24层), 83㎡, 平层, 暂无数据, 板楼, 南, 钢...</td>\n      <td>[2023-10-05, 商品房, 2017-10-06, 普通住宅, 满五年, 共有, \\...</td>\n      <td>鹏程花园</td>\n      <td>远洋广场</td>\n      <td>2室1厅</td>\n      <td>83平米</td>\n      <td>南</td>\n      <td>精装</td>\n      <td>高楼层(共24层)</td>\n      <td>1996年建</td>\n      <td>板楼</td>\n      <td>None</td>\n      <td>1人关注</td>\n      <td>4天以前发布</td>\n    </tr>\n    <tr>\n      <th>2</th>\n      <td>1</td>\n      <td>349.0</td>\n      <td>29,996元/平</td>\n      <td>1</td>\n      <td>[3室1厅1厨1卫, 中楼层 (共5层), 116.35㎡, 平层, 暂无数据, 板楼, 南...</td>\n      <td>[2023-09-21, 商品房, 2008-01-04, 普通住宅, 满五年, 非共有, ...</td>\n      <td>交运山庄</td>\n      <td>福安</td>\n      <td>3室1厅</td>\n      <td>116.35平米</td>\n      <td>南</td>\n      <td>精装</td>\n      <td>中楼层(共5层)</td>\n      <td>2004年建</td>\n      <td>板楼</td>\n      <td>None</td>\n      <td>6人关注</td>\n      <td>18天以前发布</td>\n    </tr>\n    <tr>\n      <th>3</th>\n      <td>1</td>\n      <td>115.0</td>\n      <td>18,254元/平</td>\n      <td>1</td>\n      <td>[1室1厅1厨1卫, 低楼层 (共30层), 63㎡, 平层, 暂无数据, 板楼, 南, 钢...</td>\n      <td>[2023-10-06, 商品房, 2017-10-05, 普通住宅, 满五年, 非共有, ...</td>\n      <td>中环国际广场</td>\n      <td>远洋广场</td>\n      <td>1室1厅</td>\n      <td>63平米</td>\n      <td>南</td>\n      <td>精装</td>\n      <td>低楼层(共30层)</td>\n      <td>2007年建</td>\n      <td>板楼</td>\n      <td>None</td>\n      <td>0人关注</td>\n      <td>4天以前发布</td>\n    </tr>\n    <tr>\n      <th>4</th>\n      <td>1</td>\n      <td>119.0</td>\n      <td>17,751元/平</td>\n      <td>0</td>\n      <td>[2室1厅1厨1卫, 中楼层 (共7层), 67.04㎡, 平层, 暂无数据, 板楼, 南,...</td>\n      <td>[2023-10-06, 已购公房, 1998-03-21, 普通住宅, 满五年, 非共有,...</td>\n      <td>辛家庄三小区（三明路）</td>\n      <td>辛家庄</td>\n      <td>2室1厅</td>\n      <td>67.04平米</td>\n      <td>南</td>\n      <td>简装</td>\n      <td>中楼层(共7层)</td>\n      <td>1987年建</td>\n      <td>板楼</td>\n      <td>None</td>\n      <td>0人关注</td>\n      <td>4天以前发布</td>\n    </tr>\n    <tr>\n      <th>...</th>\n      <td>...</td>\n      <td>...</td>\n      <td>...</td>\n      <td>...</td>\n      <td>...</td>\n      <td>...</td>\n      <td>...</td>\n      <td>...</td>\n      <td>...</td>\n      <td>...</td>\n      <td>...</td>\n      <td>...</td>\n      <td>...</td>\n      <td>...</td>\n      <td>...</td>\n      <td>...</td>\n      <td>...</td>\n      <td>...</td>\n    </tr>\n    <tr>\n      <th>23995</th>\n      <td>8</td>\n      <td>99.0</td>\n      <td>12,881元/平</td>\n      <td>0</td>\n      <td>[2室1厅1厨1卫, 中楼层 (共30层), 76.86㎡, 平层, 暂无数据, 塔楼, 南...</td>\n      <td>[2023-09-02, 商品房, 2019-09-03, 普通住宅, 满两年, 非共有, ...</td>\n      <td>佳源都市南区</td>\n      <td>即墨城西</td>\n      <td>2室1厅</td>\n      <td>76.86平米</td>\n      <td>南 北</td>\n      <td>精装</td>\n      <td>中楼层(共30层)</td>\n      <td>暂无数据</td>\n      <td>塔楼</td>\n      <td>None</td>\n      <td>0人关注</td>\n      <td>1个月以前发布</td>\n    </tr>\n    <tr>\n      <th>23996</th>\n      <td>8</td>\n      <td>570.0</td>\n      <td>21,378元/平</td>\n      <td>0</td>\n      <td>[6室3厅1厨4卫, 低楼层 (共3层), 266.64㎡, 复式, 暂无数据, 暂无数据,...</td>\n      <td>[2020-07-30, 商品房, 2017-08-28, 普通住宅, 满五年, 非共有, ...</td>\n      <td>海信温泉王朝</td>\n      <td>即墨温泉</td>\n      <td>6室3厅</td>\n      <td>266.64平米</td>\n      <td>南 北</td>\n      <td>精装</td>\n      <td>低楼层(共3层)</td>\n      <td>暂无数据</td>\n      <td>None</td>\n      <td>None</td>\n      <td>14人关注</td>\n      <td>一年前发布</td>\n    </tr>\n    <tr>\n      <th>23997</th>\n      <td>8</td>\n      <td>92.0</td>\n      <td>8,604元/平</td>\n      <td>0</td>\n      <td>[2室2厅1厨1卫, 高楼层 (共8层), 106.93㎡, 平层, 84.62㎡, 板楼,...</td>\n      <td>[2021-05-19, 经济适用房, 2015-05-22, 普通住宅, 满五年, 非共有...</td>\n      <td>环秀景苑</td>\n      <td>即墨古城</td>\n      <td>2室2厅</td>\n      <td>106.93平米</td>\n      <td>南 北</td>\n      <td>精装</td>\n      <td>高楼层(共8层)</td>\n      <td>暂无数据</td>\n      <td>板楼</td>\n      <td>None</td>\n      <td>3人关注</td>\n      <td>一年前发布</td>\n    </tr>\n    <tr>\n      <th>23998</th>\n      <td>8</td>\n      <td>57.0</td>\n      <td>7,530元/平</td>\n      <td>0</td>\n      <td>[1室1厅1厨1卫, 低楼层 (共11层), 75.7㎡, 平层, 暂无数据, 板楼, 南 ...</td>\n      <td>[2022-08-15, 商品房, 2017-08-21, 普通住宅, 满五年, 共有, \\...</td>\n      <td>鳌山名苑</td>\n      <td>即墨蓝谷</td>\n      <td>1室1厅</td>\n      <td>75.7平米</td>\n      <td>南 北</td>\n      <td>精装</td>\n      <td>低楼层(共11层)</td>\n      <td>2014年建</td>\n      <td>板楼</td>\n      <td>None</td>\n      <td>0人关注</td>\n      <td>一年前发布</td>\n    </tr>\n    <tr>\n      <th>23999</th>\n      <td>8</td>\n      <td>100.0</td>\n      <td>13,032元/平</td>\n      <td>0</td>\n      <td>[2室1厅1厨1卫, 低楼层 (共30层), 76.74㎡, 平层, 暂无数据, 塔楼, 南...</td>\n      <td>[2022-06-26, 商品房, 2019-09-16, 普通住宅, 满两年, 非共有, ...</td>\n      <td>佳源都市南区</td>\n      <td>即墨城西</td>\n      <td>2室1厅</td>\n      <td>76.74平米</td>\n      <td>南 北</td>\n      <td>精装</td>\n      <td>低楼层(共30层)</td>\n      <td>暂无数据</td>\n      <td>塔楼</td>\n      <td>None</td>\n      <td>0人关注</td>\n      <td>一年前发布</td>\n    </tr>\n  </tbody>\n</table>\n<p>24000 rows × 18 columns</p>\n</div>"
     },
     "execution_count": 5,
     "metadata": {},
     "output_type": "execute_result"
    }
   ],
   "source": [
    "# Process the 'features' column to determine if a property is near a subway\n",
    "df['features'] = df['features'].apply(lambda x: 1 if '近地铁' in x else 0)\n",
    "\n",
    "# Rename the 'features' column\n",
    "df = df.rename(columns={'features': '是否近地铁'})\n",
    "\n",
    "# Display the updated dataframe\n",
    "df"
   ],
   "metadata": {
    "collapsed": false,
    "ExecuteTime": {
     "end_time": "2023-10-15T12:19:06.279185Z",
     "start_time": "2023-10-15T12:19:06.253790Z"
    }
   },
   "id": "1e19eb3c0edbacde"
  },
  {
   "cell_type": "markdown",
   "source": [
    "### 1.6 Processing and Splitting Basic Details\n",
    "\n",
    "The 'basic_details' column comprises various attributes of a property. To facilitate analysis and improve readability, we aim to split these details into separate columns. \n",
    "\n",
    "Firstly, we need to ensure data consistency. For our purposes, we will filter out rows that do not have exactly 12 elements in their 'basic_details' column to ensure we capture properties with comprehensive information.\n"
   ],
   "metadata": {
    "collapsed": false
   },
   "id": "514f45bc6f28604e"
  },
  {
   "cell_type": "code",
   "execution_count": 6,
   "outputs": [
    {
     "data": {
      "text/plain": "      地区     价格       单位价格  是否近地铁  \\\n0      1  289.0  23,106元/平      1   \n1      1  139.0  16,747元/平      1   \n2      1  349.0  29,996元/平      1   \n3      1  115.0  18,254元/平      1   \n4      1  119.0  17,751元/平      0   \n...   ..    ...        ...    ...   \n23995  8   99.0  12,881元/平      0   \n23996  8  570.0  21,378元/平      0   \n23997  8   92.0   8,604元/平      0   \n23998  8   57.0   7,530元/平      0   \n23999  8  100.0  13,032元/平      0   \n\n                                     transaction_details            小区    位置  \\\n0      [2023-09-24, 商品房, 2003-06-14, 普通住宅, 满五年, 非共有, ...          闽江苑    闽江路   \n1      [2023-10-05, 商品房, 2017-10-06, 普通住宅, 满五年, 共有, \\...         鹏程花园   远洋广场   \n2      [2023-09-21, 商品房, 2008-01-04, 普通住宅, 满五年, 非共有, ...         交运山庄     福安   \n3      [2023-10-06, 商品房, 2017-10-05, 普通住宅, 满五年, 非共有, ...       中环国际广场   远洋广场   \n4      [2023-10-06, 已购公房, 1998-03-21, 普通住宅, 满五年, 非共有,...  辛家庄三小区（三明路）    辛家庄   \n...                                                  ...           ...   ...   \n23995  [2023-09-02, 商品房, 2019-09-03, 普通住宅, 满两年, 非共有, ...       佳源都市南区   即墨城西   \n23996  [2020-07-30, 商品房, 2017-08-28, 普通住宅, 满五年, 非共有, ...       海信温泉王朝   即墨温泉   \n23997  [2021-05-19, 经济适用房, 2015-05-22, 普通住宅, 满五年, 非共有...         环秀景苑   即墨古城   \n23998  [2022-08-15, 商品房, 2017-08-21, 普通住宅, 满五年, 共有, \\...         鳌山名苑   即墨蓝谷   \n23999  [2022-06-26, 商品房, 2019-09-16, 普通住宅, 满两年, 非共有, ...       佳源都市南区   即墨城西   \n\n          户型          面积     朝向  ...     建筑面积 户型结构     套内面积  建筑类型 房屋朝向  建筑结构  \\\n0      3室1厅    125.08平米    南 北   ...  125.08㎡   平层  111.33㎡    板楼  南 北  砖混结构   \n1      2室1厅        83平米      南   ...      83㎡   平层     暂无数据    板楼    南  钢混结构   \n2      3室1厅    116.35平米      南   ...  116.35㎡   平层     暂无数据    板楼    南  混合结构   \n3      1室1厅        63平米      南   ...      63㎡   平层     暂无数据    板楼    南  钢混结构   \n4      2室1厅     67.04平米      南   ...   67.04㎡   平层     暂无数据    板楼    南  砖混结构   \n...      ...         ...    ...  ...      ...  ...      ...   ...  ...   ...   \n23995  2室1厅     76.86平米    南 北   ...   76.86㎡   平层     暂无数据    塔楼  南 北  钢混结构   \n23996  6室3厅    266.64平米    南 北   ...  266.64㎡   复式     暂无数据  暂无数据  南 北  混合结构   \n23997  2室2厅    106.93平米    南 北   ...  106.93㎡   平层   84.62㎡    板楼  南 北  钢混结构   \n23998  1室1厅      75.7平米    南 北   ...    75.7㎡   平层     暂无数据    板楼  南 北  钢混结构   \n23999  2室1厅     76.74平米    南 北   ...   76.74㎡   平层     暂无数据    塔楼  南 北  钢混结构   \n\n      装修情况   梯户比例  供暖方式  配备电梯  \n0       简装   一梯两户  集中供暖     无  \n1       精装  两梯十八户  集中供暖     有  \n2       精装   一梯两户  集中供暖     无  \n3       精装  三梯十一户  集中供暖     有  \n4       简装   一梯三户  集中供暖     无  \n...    ...    ...   ...   ...  \n23995   精装   两梯四户  集中供暖     有  \n23996   精装   一梯一户  暂无数据  暂无数据  \n23997   精装   一梯三户  集中供暖     有  \n23998   精装   一梯两户   自供暖     有  \n23999   精装   两梯四户  集中供暖     有  \n\n[23499 rows x 29 columns]",
      "text/html": "<div>\n<style scoped>\n    .dataframe tbody tr th:only-of-type {\n        vertical-align: middle;\n    }\n\n    .dataframe tbody tr th {\n        vertical-align: top;\n    }\n\n    .dataframe thead th {\n        text-align: right;\n    }\n</style>\n<table border=\"1\" class=\"dataframe\">\n  <thead>\n    <tr style=\"text-align: right;\">\n      <th></th>\n      <th>地区</th>\n      <th>价格</th>\n      <th>单位价格</th>\n      <th>是否近地铁</th>\n      <th>transaction_details</th>\n      <th>小区</th>\n      <th>位置</th>\n      <th>户型</th>\n      <th>面积</th>\n      <th>朝向</th>\n      <th>...</th>\n      <th>建筑面积</th>\n      <th>户型结构</th>\n      <th>套内面积</th>\n      <th>建筑类型</th>\n      <th>房屋朝向</th>\n      <th>建筑结构</th>\n      <th>装修情况</th>\n      <th>梯户比例</th>\n      <th>供暖方式</th>\n      <th>配备电梯</th>\n    </tr>\n  </thead>\n  <tbody>\n    <tr>\n      <th>0</th>\n      <td>1</td>\n      <td>289.0</td>\n      <td>23,106元/平</td>\n      <td>1</td>\n      <td>[2023-09-24, 商品房, 2003-06-14, 普通住宅, 满五年, 非共有, ...</td>\n      <td>闽江苑</td>\n      <td>闽江路</td>\n      <td>3室1厅</td>\n      <td>125.08平米</td>\n      <td>南 北</td>\n      <td>...</td>\n      <td>125.08㎡</td>\n      <td>平层</td>\n      <td>111.33㎡</td>\n      <td>板楼</td>\n      <td>南 北</td>\n      <td>砖混结构</td>\n      <td>简装</td>\n      <td>一梯两户</td>\n      <td>集中供暖</td>\n      <td>无</td>\n    </tr>\n    <tr>\n      <th>1</th>\n      <td>1</td>\n      <td>139.0</td>\n      <td>16,747元/平</td>\n      <td>1</td>\n      <td>[2023-10-05, 商品房, 2017-10-06, 普通住宅, 满五年, 共有, \\...</td>\n      <td>鹏程花园</td>\n      <td>远洋广场</td>\n      <td>2室1厅</td>\n      <td>83平米</td>\n      <td>南</td>\n      <td>...</td>\n      <td>83㎡</td>\n      <td>平层</td>\n      <td>暂无数据</td>\n      <td>板楼</td>\n      <td>南</td>\n      <td>钢混结构</td>\n      <td>精装</td>\n      <td>两梯十八户</td>\n      <td>集中供暖</td>\n      <td>有</td>\n    </tr>\n    <tr>\n      <th>2</th>\n      <td>1</td>\n      <td>349.0</td>\n      <td>29,996元/平</td>\n      <td>1</td>\n      <td>[2023-09-21, 商品房, 2008-01-04, 普通住宅, 满五年, 非共有, ...</td>\n      <td>交运山庄</td>\n      <td>福安</td>\n      <td>3室1厅</td>\n      <td>116.35平米</td>\n      <td>南</td>\n      <td>...</td>\n      <td>116.35㎡</td>\n      <td>平层</td>\n      <td>暂无数据</td>\n      <td>板楼</td>\n      <td>南</td>\n      <td>混合结构</td>\n      <td>精装</td>\n      <td>一梯两户</td>\n      <td>集中供暖</td>\n      <td>无</td>\n    </tr>\n    <tr>\n      <th>3</th>\n      <td>1</td>\n      <td>115.0</td>\n      <td>18,254元/平</td>\n      <td>1</td>\n      <td>[2023-10-06, 商品房, 2017-10-05, 普通住宅, 满五年, 非共有, ...</td>\n      <td>中环国际广场</td>\n      <td>远洋广场</td>\n      <td>1室1厅</td>\n      <td>63平米</td>\n      <td>南</td>\n      <td>...</td>\n      <td>63㎡</td>\n      <td>平层</td>\n      <td>暂无数据</td>\n      <td>板楼</td>\n      <td>南</td>\n      <td>钢混结构</td>\n      <td>精装</td>\n      <td>三梯十一户</td>\n      <td>集中供暖</td>\n      <td>有</td>\n    </tr>\n    <tr>\n      <th>4</th>\n      <td>1</td>\n      <td>119.0</td>\n      <td>17,751元/平</td>\n      <td>0</td>\n      <td>[2023-10-06, 已购公房, 1998-03-21, 普通住宅, 满五年, 非共有,...</td>\n      <td>辛家庄三小区（三明路）</td>\n      <td>辛家庄</td>\n      <td>2室1厅</td>\n      <td>67.04平米</td>\n      <td>南</td>\n      <td>...</td>\n      <td>67.04㎡</td>\n      <td>平层</td>\n      <td>暂无数据</td>\n      <td>板楼</td>\n      <td>南</td>\n      <td>砖混结构</td>\n      <td>简装</td>\n      <td>一梯三户</td>\n      <td>集中供暖</td>\n      <td>无</td>\n    </tr>\n    <tr>\n      <th>...</th>\n      <td>...</td>\n      <td>...</td>\n      <td>...</td>\n      <td>...</td>\n      <td>...</td>\n      <td>...</td>\n      <td>...</td>\n      <td>...</td>\n      <td>...</td>\n      <td>...</td>\n      <td>...</td>\n      <td>...</td>\n      <td>...</td>\n      <td>...</td>\n      <td>...</td>\n      <td>...</td>\n      <td>...</td>\n      <td>...</td>\n      <td>...</td>\n      <td>...</td>\n      <td>...</td>\n    </tr>\n    <tr>\n      <th>23995</th>\n      <td>8</td>\n      <td>99.0</td>\n      <td>12,881元/平</td>\n      <td>0</td>\n      <td>[2023-09-02, 商品房, 2019-09-03, 普通住宅, 满两年, 非共有, ...</td>\n      <td>佳源都市南区</td>\n      <td>即墨城西</td>\n      <td>2室1厅</td>\n      <td>76.86平米</td>\n      <td>南 北</td>\n      <td>...</td>\n      <td>76.86㎡</td>\n      <td>平层</td>\n      <td>暂无数据</td>\n      <td>塔楼</td>\n      <td>南 北</td>\n      <td>钢混结构</td>\n      <td>精装</td>\n      <td>两梯四户</td>\n      <td>集中供暖</td>\n      <td>有</td>\n    </tr>\n    <tr>\n      <th>23996</th>\n      <td>8</td>\n      <td>570.0</td>\n      <td>21,378元/平</td>\n      <td>0</td>\n      <td>[2020-07-30, 商品房, 2017-08-28, 普通住宅, 满五年, 非共有, ...</td>\n      <td>海信温泉王朝</td>\n      <td>即墨温泉</td>\n      <td>6室3厅</td>\n      <td>266.64平米</td>\n      <td>南 北</td>\n      <td>...</td>\n      <td>266.64㎡</td>\n      <td>复式</td>\n      <td>暂无数据</td>\n      <td>暂无数据</td>\n      <td>南 北</td>\n      <td>混合结构</td>\n      <td>精装</td>\n      <td>一梯一户</td>\n      <td>暂无数据</td>\n      <td>暂无数据</td>\n    </tr>\n    <tr>\n      <th>23997</th>\n      <td>8</td>\n      <td>92.0</td>\n      <td>8,604元/平</td>\n      <td>0</td>\n      <td>[2021-05-19, 经济适用房, 2015-05-22, 普通住宅, 满五年, 非共有...</td>\n      <td>环秀景苑</td>\n      <td>即墨古城</td>\n      <td>2室2厅</td>\n      <td>106.93平米</td>\n      <td>南 北</td>\n      <td>...</td>\n      <td>106.93㎡</td>\n      <td>平层</td>\n      <td>84.62㎡</td>\n      <td>板楼</td>\n      <td>南 北</td>\n      <td>钢混结构</td>\n      <td>精装</td>\n      <td>一梯三户</td>\n      <td>集中供暖</td>\n      <td>有</td>\n    </tr>\n    <tr>\n      <th>23998</th>\n      <td>8</td>\n      <td>57.0</td>\n      <td>7,530元/平</td>\n      <td>0</td>\n      <td>[2022-08-15, 商品房, 2017-08-21, 普通住宅, 满五年, 共有, \\...</td>\n      <td>鳌山名苑</td>\n      <td>即墨蓝谷</td>\n      <td>1室1厅</td>\n      <td>75.7平米</td>\n      <td>南 北</td>\n      <td>...</td>\n      <td>75.7㎡</td>\n      <td>平层</td>\n      <td>暂无数据</td>\n      <td>板楼</td>\n      <td>南 北</td>\n      <td>钢混结构</td>\n      <td>精装</td>\n      <td>一梯两户</td>\n      <td>自供暖</td>\n      <td>有</td>\n    </tr>\n    <tr>\n      <th>23999</th>\n      <td>8</td>\n      <td>100.0</td>\n      <td>13,032元/平</td>\n      <td>0</td>\n      <td>[2022-06-26, 商品房, 2019-09-16, 普通住宅, 满两年, 非共有, ...</td>\n      <td>佳源都市南区</td>\n      <td>即墨城西</td>\n      <td>2室1厅</td>\n      <td>76.74平米</td>\n      <td>南 北</td>\n      <td>...</td>\n      <td>76.74㎡</td>\n      <td>平层</td>\n      <td>暂无数据</td>\n      <td>塔楼</td>\n      <td>南 北</td>\n      <td>钢混结构</td>\n      <td>精装</td>\n      <td>两梯四户</td>\n      <td>集中供暖</td>\n      <td>有</td>\n    </tr>\n  </tbody>\n</table>\n<p>23499 rows × 29 columns</p>\n</div>"
     },
     "execution_count": 6,
     "metadata": {},
     "output_type": "execute_result"
    }
   ],
   "source": [
    "# Create a mask to identify rows where the 'basic_details' column has exactly 12 elements\n",
    "mask_12 = df['basic_details'].apply(len) == 12\n",
    "\n",
    "# Use the mask to filter the dataframe, keeping only the rows that match the condition\n",
    "df = df[mask_12]\n",
    "\n",
    "# Split the 'basic_details' column into individual columns for each detail\n",
    "basic_details_split = pd.DataFrame(df.basic_details.tolist(), index=df.index, columns=['房屋户型', '所在楼层', '建筑面积', '户型结构', '套内面积', '建筑类型', '房屋朝向', '建筑结构', '装修情况', '梯户比例', '供暖方式', '配备电梯'])\n",
    "\n",
    "# Concatenate the original dataframe with the newly split columns\n",
    "df = pd.concat([df, basic_details_split], axis=1)\n",
    "\n",
    "# Drop the original 'basic_details' column as it's now redundant\n",
    "df = df.drop(columns=['basic_details'])\n",
    "\n",
    "# Display the updated dataframe\n",
    "df"
   ],
   "metadata": {
    "collapsed": false,
    "ExecuteTime": {
     "end_time": "2023-10-15T12:19:33.763409Z",
     "start_time": "2023-10-15T12:19:33.708427Z"
    }
   },
   "id": "f80207c083d1b752"
  },
  {
   "cell_type": "markdown",
   "source": [
    "### 1.7 Splitting Transaction Details\n",
    "\n",
    "The 'transaction_details' column contains critical information about the property's transaction history and status. This includes details such as the date when the property was listed for sale, the nature of its ownership rights, its last transaction date, its intended use, and more.\n",
    "\n",
    "To make our dataset more structured and easier to analyze, we'll split these transaction details into separate columns.\n"
   ],
   "metadata": {
    "collapsed": false
   },
   "id": "ea5708b6c9239f94"
  },
  {
   "cell_type": "code",
   "execution_count": 7,
   "outputs": [
    {
     "data": {
      "text/plain": "      地区     价格       单位价格  是否近地铁            小区    位置     户型          面积  \\\n0      1  289.0  23,106元/平      1          闽江苑    闽江路  3室1厅    125.08平米    \n1      1  139.0  16,747元/平      1         鹏程花园   远洋广场  2室1厅        83平米    \n2      1  349.0  29,996元/平      1         交运山庄     福安  3室1厅    116.35平米    \n3      1  115.0  18,254元/平      1       中环国际广场   远洋广场  1室1厅        63平米    \n4      1  119.0  17,751元/平      0  辛家庄三小区（三明路）    辛家庄  2室1厅     67.04平米    \n...   ..    ...        ...    ...           ...   ...    ...         ...   \n23995  8   99.0  12,881元/平      0       佳源都市南区   即墨城西  2室1厅     76.86平米    \n23996  8  570.0  21,378元/平      0       海信温泉王朝   即墨温泉  6室3厅    266.64平米    \n23997  8   92.0   8,604元/平      0         环秀景苑   即墨古城  2室2厅    106.93平米    \n23998  8   57.0   7,530元/平      0         鳌山名苑   即墨蓝谷  1室1厅      75.7平米    \n23999  8  100.0  13,032元/平      0       佳源都市南区   即墨城西  2室1厅     76.74平米    \n\n          朝向    装修  ...  供暖方式  配备电梯        挂牌时间   交易权属        上次交易  房屋用途 房屋年限  \\\n0       南 北    简装   ...  集中供暖     无  2023-09-24    商品房  2003-06-14  普通住宅  满五年   \n1         南    精装   ...  集中供暖     有  2023-10-05    商品房  2017-10-06  普通住宅  满五年   \n2         南    精装   ...  集中供暖     无  2023-09-21    商品房  2008-01-04  普通住宅  满五年   \n3         南    精装   ...  集中供暖     有  2023-10-06    商品房  2017-10-05  普通住宅  满五年   \n4         南    简装   ...  集中供暖     无  2023-10-06   已购公房  1998-03-21  普通住宅  满五年   \n...      ...   ...  ...   ...   ...         ...    ...         ...   ...  ...   \n23995   南 北    精装   ...  集中供暖     有  2023-09-02    商品房  2019-09-03  普通住宅  满两年   \n23996   南 北    精装   ...  暂无数据  暂无数据  2020-07-30    商品房  2017-08-28  普通住宅  满五年   \n23997   南 北    精装   ...  集中供暖     有  2021-05-19  经济适用房  2015-05-22  普通住宅  满五年   \n23998   南 北    精装   ...   自供暖     有  2022-08-15    商品房  2017-08-21  普通住宅  满五年   \n23999   南 北    精装   ...  集中供暖     有  2022-06-26    商品房  2019-09-16  普通住宅  满两年   \n\n      产权所属                                               抵押信息     房本备件  \n0      非共有  \\n                                无抵押\\n       ...  已上传房本照片  \n1       共有  \\n                                无抵押\\n       ...  已上传房本照片  \n2      非共有  \\n                                有抵押 360万元 浙商...  已上传房本照片  \n3      非共有  \\n                                无抵押\\n       ...  已上传房本照片  \n4      非共有  \\n                                无抵押\\n       ...  已上传房本照片  \n...    ...                                                ...      ...  \n23995  非共有  \\n                                有抵押\\n       ...  已上传房本照片  \n23996  非共有  \\n                                有抵押 80万元 业主自...  已上传房本照片  \n23997  非共有  \\n                                无抵押\\n       ...  已上传房本照片  \n23998   共有  \\n                                有抵押 10万元 业主自...  已上传房本照片  \n23999  非共有  \\n                                无抵押\\n       ...  已上传房本照片  \n\n[23499 rows x 36 columns]",
      "text/html": "<div>\n<style scoped>\n    .dataframe tbody tr th:only-of-type {\n        vertical-align: middle;\n    }\n\n    .dataframe tbody tr th {\n        vertical-align: top;\n    }\n\n    .dataframe thead th {\n        text-align: right;\n    }\n</style>\n<table border=\"1\" class=\"dataframe\">\n  <thead>\n    <tr style=\"text-align: right;\">\n      <th></th>\n      <th>地区</th>\n      <th>价格</th>\n      <th>单位价格</th>\n      <th>是否近地铁</th>\n      <th>小区</th>\n      <th>位置</th>\n      <th>户型</th>\n      <th>面积</th>\n      <th>朝向</th>\n      <th>装修</th>\n      <th>...</th>\n      <th>供暖方式</th>\n      <th>配备电梯</th>\n      <th>挂牌时间</th>\n      <th>交易权属</th>\n      <th>上次交易</th>\n      <th>房屋用途</th>\n      <th>房屋年限</th>\n      <th>产权所属</th>\n      <th>抵押信息</th>\n      <th>房本备件</th>\n    </tr>\n  </thead>\n  <tbody>\n    <tr>\n      <th>0</th>\n      <td>1</td>\n      <td>289.0</td>\n      <td>23,106元/平</td>\n      <td>1</td>\n      <td>闽江苑</td>\n      <td>闽江路</td>\n      <td>3室1厅</td>\n      <td>125.08平米</td>\n      <td>南 北</td>\n      <td>简装</td>\n      <td>...</td>\n      <td>集中供暖</td>\n      <td>无</td>\n      <td>2023-09-24</td>\n      <td>商品房</td>\n      <td>2003-06-14</td>\n      <td>普通住宅</td>\n      <td>满五年</td>\n      <td>非共有</td>\n      <td>\\n                                无抵押\\n       ...</td>\n      <td>已上传房本照片</td>\n    </tr>\n    <tr>\n      <th>1</th>\n      <td>1</td>\n      <td>139.0</td>\n      <td>16,747元/平</td>\n      <td>1</td>\n      <td>鹏程花园</td>\n      <td>远洋广场</td>\n      <td>2室1厅</td>\n      <td>83平米</td>\n      <td>南</td>\n      <td>精装</td>\n      <td>...</td>\n      <td>集中供暖</td>\n      <td>有</td>\n      <td>2023-10-05</td>\n      <td>商品房</td>\n      <td>2017-10-06</td>\n      <td>普通住宅</td>\n      <td>满五年</td>\n      <td>共有</td>\n      <td>\\n                                无抵押\\n       ...</td>\n      <td>已上传房本照片</td>\n    </tr>\n    <tr>\n      <th>2</th>\n      <td>1</td>\n      <td>349.0</td>\n      <td>29,996元/平</td>\n      <td>1</td>\n      <td>交运山庄</td>\n      <td>福安</td>\n      <td>3室1厅</td>\n      <td>116.35平米</td>\n      <td>南</td>\n      <td>精装</td>\n      <td>...</td>\n      <td>集中供暖</td>\n      <td>无</td>\n      <td>2023-09-21</td>\n      <td>商品房</td>\n      <td>2008-01-04</td>\n      <td>普通住宅</td>\n      <td>满五年</td>\n      <td>非共有</td>\n      <td>\\n                                有抵押 360万元 浙商...</td>\n      <td>已上传房本照片</td>\n    </tr>\n    <tr>\n      <th>3</th>\n      <td>1</td>\n      <td>115.0</td>\n      <td>18,254元/平</td>\n      <td>1</td>\n      <td>中环国际广场</td>\n      <td>远洋广场</td>\n      <td>1室1厅</td>\n      <td>63平米</td>\n      <td>南</td>\n      <td>精装</td>\n      <td>...</td>\n      <td>集中供暖</td>\n      <td>有</td>\n      <td>2023-10-06</td>\n      <td>商品房</td>\n      <td>2017-10-05</td>\n      <td>普通住宅</td>\n      <td>满五年</td>\n      <td>非共有</td>\n      <td>\\n                                无抵押\\n       ...</td>\n      <td>已上传房本照片</td>\n    </tr>\n    <tr>\n      <th>4</th>\n      <td>1</td>\n      <td>119.0</td>\n      <td>17,751元/平</td>\n      <td>0</td>\n      <td>辛家庄三小区（三明路）</td>\n      <td>辛家庄</td>\n      <td>2室1厅</td>\n      <td>67.04平米</td>\n      <td>南</td>\n      <td>简装</td>\n      <td>...</td>\n      <td>集中供暖</td>\n      <td>无</td>\n      <td>2023-10-06</td>\n      <td>已购公房</td>\n      <td>1998-03-21</td>\n      <td>普通住宅</td>\n      <td>满五年</td>\n      <td>非共有</td>\n      <td>\\n                                无抵押\\n       ...</td>\n      <td>已上传房本照片</td>\n    </tr>\n    <tr>\n      <th>...</th>\n      <td>...</td>\n      <td>...</td>\n      <td>...</td>\n      <td>...</td>\n      <td>...</td>\n      <td>...</td>\n      <td>...</td>\n      <td>...</td>\n      <td>...</td>\n      <td>...</td>\n      <td>...</td>\n      <td>...</td>\n      <td>...</td>\n      <td>...</td>\n      <td>...</td>\n      <td>...</td>\n      <td>...</td>\n      <td>...</td>\n      <td>...</td>\n      <td>...</td>\n      <td>...</td>\n    </tr>\n    <tr>\n      <th>23995</th>\n      <td>8</td>\n      <td>99.0</td>\n      <td>12,881元/平</td>\n      <td>0</td>\n      <td>佳源都市南区</td>\n      <td>即墨城西</td>\n      <td>2室1厅</td>\n      <td>76.86平米</td>\n      <td>南 北</td>\n      <td>精装</td>\n      <td>...</td>\n      <td>集中供暖</td>\n      <td>有</td>\n      <td>2023-09-02</td>\n      <td>商品房</td>\n      <td>2019-09-03</td>\n      <td>普通住宅</td>\n      <td>满两年</td>\n      <td>非共有</td>\n      <td>\\n                                有抵押\\n       ...</td>\n      <td>已上传房本照片</td>\n    </tr>\n    <tr>\n      <th>23996</th>\n      <td>8</td>\n      <td>570.0</td>\n      <td>21,378元/平</td>\n      <td>0</td>\n      <td>海信温泉王朝</td>\n      <td>即墨温泉</td>\n      <td>6室3厅</td>\n      <td>266.64平米</td>\n      <td>南 北</td>\n      <td>精装</td>\n      <td>...</td>\n      <td>暂无数据</td>\n      <td>暂无数据</td>\n      <td>2020-07-30</td>\n      <td>商品房</td>\n      <td>2017-08-28</td>\n      <td>普通住宅</td>\n      <td>满五年</td>\n      <td>非共有</td>\n      <td>\\n                                有抵押 80万元 业主自...</td>\n      <td>已上传房本照片</td>\n    </tr>\n    <tr>\n      <th>23997</th>\n      <td>8</td>\n      <td>92.0</td>\n      <td>8,604元/平</td>\n      <td>0</td>\n      <td>环秀景苑</td>\n      <td>即墨古城</td>\n      <td>2室2厅</td>\n      <td>106.93平米</td>\n      <td>南 北</td>\n      <td>精装</td>\n      <td>...</td>\n      <td>集中供暖</td>\n      <td>有</td>\n      <td>2021-05-19</td>\n      <td>经济适用房</td>\n      <td>2015-05-22</td>\n      <td>普通住宅</td>\n      <td>满五年</td>\n      <td>非共有</td>\n      <td>\\n                                无抵押\\n       ...</td>\n      <td>已上传房本照片</td>\n    </tr>\n    <tr>\n      <th>23998</th>\n      <td>8</td>\n      <td>57.0</td>\n      <td>7,530元/平</td>\n      <td>0</td>\n      <td>鳌山名苑</td>\n      <td>即墨蓝谷</td>\n      <td>1室1厅</td>\n      <td>75.7平米</td>\n      <td>南 北</td>\n      <td>精装</td>\n      <td>...</td>\n      <td>自供暖</td>\n      <td>有</td>\n      <td>2022-08-15</td>\n      <td>商品房</td>\n      <td>2017-08-21</td>\n      <td>普通住宅</td>\n      <td>满五年</td>\n      <td>共有</td>\n      <td>\\n                                有抵押 10万元 业主自...</td>\n      <td>已上传房本照片</td>\n    </tr>\n    <tr>\n      <th>23999</th>\n      <td>8</td>\n      <td>100.0</td>\n      <td>13,032元/平</td>\n      <td>0</td>\n      <td>佳源都市南区</td>\n      <td>即墨城西</td>\n      <td>2室1厅</td>\n      <td>76.74平米</td>\n      <td>南 北</td>\n      <td>精装</td>\n      <td>...</td>\n      <td>集中供暖</td>\n      <td>有</td>\n      <td>2022-06-26</td>\n      <td>商品房</td>\n      <td>2019-09-16</td>\n      <td>普通住宅</td>\n      <td>满两年</td>\n      <td>非共有</td>\n      <td>\\n                                无抵押\\n       ...</td>\n      <td>已上传房本照片</td>\n    </tr>\n  </tbody>\n</table>\n<p>23499 rows × 36 columns</p>\n</div>"
     },
     "execution_count": 7,
     "metadata": {},
     "output_type": "execute_result"
    }
   ],
   "source": [
    "# Split the 'transaction_details' column into individual columns based on its elements\n",
    "transaction_details_split = pd.DataFrame(df.transaction_details.tolist(), index=df.index, columns=['挂牌时间','交易权属','上次交易','房屋用途','房屋年限','产权所属','抵押信息','房本备件'])\n",
    "\n",
    "# Concatenate the original dataframe with the newly split columns\n",
    "df = pd.concat([df, transaction_details_split], axis=1)\n",
    "\n",
    "# Drop the original 'transaction_details' column as it's now redundant\n",
    "df = df.drop(columns=['transaction_details'])\n",
    "\n",
    "# Display the updated dataframe\n",
    "df\n"
   ],
   "metadata": {
    "collapsed": false,
    "ExecuteTime": {
     "end_time": "2023-10-15T12:20:03.333572Z",
     "start_time": "2023-10-15T12:20:03.287479Z"
    }
   },
   "id": "b96942d7b6a30f50"
  },
  {
   "cell_type": "markdown",
   "source": [
    "### 1.8 Removing Redundant Columns\n",
    "\n",
    "As we've split and processed various columns from our dataset, we have come across columns that now hold redundant information. It's essential to keep our dataframe clean and optimized for further analysis.\n",
    "\n",
    "To ensure data clarity and reduce redundancy, we will drop these duplicate columns.\n"
   ],
   "metadata": {
    "collapsed": false
   },
   "id": "be8e86cad7cf577c"
  },
  {
   "cell_type": "code",
   "execution_count": 8,
   "outputs": [
    {
     "data": {
      "text/plain": "      地区     价格       单位价格  是否近地铁            小区    位置        年份      关注  \\\n0      1  289.0  23,106元/平      1          闽江苑    闽江路   1997年建    2人关注    \n1      1  139.0  16,747元/平      1         鹏程花园   远洋广场   1996年建    1人关注    \n2      1  349.0  29,996元/平      1         交运山庄     福安   2004年建    6人关注    \n3      1  115.0  18,254元/平      1       中环国际广场   远洋广场   2007年建    0人关注    \n4      1  119.0  17,751元/平      0  辛家庄三小区（三明路）    辛家庄   1987年建    0人关注    \n...   ..    ...        ...    ...           ...   ...       ...     ...   \n23995  8   99.0  12,881元/平      0       佳源都市南区   即墨城西      暂无数据   0人关注    \n23996  8  570.0  21,378元/平      0       海信温泉王朝   即墨温泉      暂无数据  14人关注    \n23997  8   92.0   8,604元/平      0         环秀景苑   即墨古城      暂无数据   3人关注    \n23998  8   57.0   7,530元/平      0         鳌山名苑   即墨蓝谷   2014年建    0人关注    \n23999  8  100.0  13,032元/平      0       佳源都市南区   即墨城西      暂无数据   0人关注    \n\n             发布      房屋户型  ...  供暖方式  配备电梯        挂牌时间   交易权属        上次交易  \\\n0       15天以前发布  3室1厅1厨1卫  ...  集中供暖     无  2023-09-24    商品房  2003-06-14   \n1        4天以前发布  2室1厅1厨1卫  ...  集中供暖     有  2023-10-05    商品房  2017-10-06   \n2       18天以前发布  3室1厅1厨1卫  ...  集中供暖     无  2023-09-21    商品房  2008-01-04   \n3        4天以前发布  1室1厅1厨1卫  ...  集中供暖     有  2023-10-06    商品房  2017-10-05   \n4        4天以前发布  2室1厅1厨1卫  ...  集中供暖     无  2023-10-06   已购公房  1998-03-21   \n...         ...       ...  ...   ...   ...         ...    ...         ...   \n23995   1个月以前发布  2室1厅1厨1卫  ...  集中供暖     有  2023-09-02    商品房  2019-09-03   \n23996     一年前发布  6室3厅1厨4卫  ...  暂无数据  暂无数据  2020-07-30    商品房  2017-08-28   \n23997     一年前发布  2室2厅1厨1卫  ...  集中供暖     有  2021-05-19  经济适用房  2015-05-22   \n23998     一年前发布  1室1厅1厨1卫  ...   自供暖     有  2022-08-15    商品房  2017-08-21   \n23999     一年前发布  2室1厅1厨1卫  ...  集中供暖     有  2022-06-26    商品房  2019-09-16   \n\n       房屋用途 房屋年限 产权所属                                               抵押信息  \\\n0      普通住宅  满五年  非共有  \\n                                无抵押\\n       ...   \n1      普通住宅  满五年   共有  \\n                                无抵押\\n       ...   \n2      普通住宅  满五年  非共有  \\n                                有抵押 360万元 浙商...   \n3      普通住宅  满五年  非共有  \\n                                无抵押\\n       ...   \n4      普通住宅  满五年  非共有  \\n                                无抵押\\n       ...   \n...     ...  ...  ...                                                ...   \n23995  普通住宅  满两年  非共有  \\n                                有抵押\\n       ...   \n23996  普通住宅  满五年  非共有  \\n                                有抵押 80万元 业主自...   \n23997  普通住宅  满五年  非共有  \\n                                无抵押\\n       ...   \n23998  普通住宅  满五年   共有  \\n                                有抵押 10万元 业主自...   \n23999  普通住宅  满两年  非共有  \\n                                无抵押\\n       ...   \n\n          房本备件  \n0      已上传房本照片  \n1      已上传房本照片  \n2      已上传房本照片  \n3      已上传房本照片  \n4      已上传房本照片  \n...        ...  \n23995  已上传房本照片  \n23996  已上传房本照片  \n23997  已上传房本照片  \n23998  已上传房本照片  \n23999  已上传房本照片  \n\n[23499 rows x 28 columns]",
      "text/html": "<div>\n<style scoped>\n    .dataframe tbody tr th:only-of-type {\n        vertical-align: middle;\n    }\n\n    .dataframe tbody tr th {\n        vertical-align: top;\n    }\n\n    .dataframe thead th {\n        text-align: right;\n    }\n</style>\n<table border=\"1\" class=\"dataframe\">\n  <thead>\n    <tr style=\"text-align: right;\">\n      <th></th>\n      <th>地区</th>\n      <th>价格</th>\n      <th>单位价格</th>\n      <th>是否近地铁</th>\n      <th>小区</th>\n      <th>位置</th>\n      <th>年份</th>\n      <th>关注</th>\n      <th>发布</th>\n      <th>房屋户型</th>\n      <th>...</th>\n      <th>供暖方式</th>\n      <th>配备电梯</th>\n      <th>挂牌时间</th>\n      <th>交易权属</th>\n      <th>上次交易</th>\n      <th>房屋用途</th>\n      <th>房屋年限</th>\n      <th>产权所属</th>\n      <th>抵押信息</th>\n      <th>房本备件</th>\n    </tr>\n  </thead>\n  <tbody>\n    <tr>\n      <th>0</th>\n      <td>1</td>\n      <td>289.0</td>\n      <td>23,106元/平</td>\n      <td>1</td>\n      <td>闽江苑</td>\n      <td>闽江路</td>\n      <td>1997年建</td>\n      <td>2人关注</td>\n      <td>15天以前发布</td>\n      <td>3室1厅1厨1卫</td>\n      <td>...</td>\n      <td>集中供暖</td>\n      <td>无</td>\n      <td>2023-09-24</td>\n      <td>商品房</td>\n      <td>2003-06-14</td>\n      <td>普通住宅</td>\n      <td>满五年</td>\n      <td>非共有</td>\n      <td>\\n                                无抵押\\n       ...</td>\n      <td>已上传房本照片</td>\n    </tr>\n    <tr>\n      <th>1</th>\n      <td>1</td>\n      <td>139.0</td>\n      <td>16,747元/平</td>\n      <td>1</td>\n      <td>鹏程花园</td>\n      <td>远洋广场</td>\n      <td>1996年建</td>\n      <td>1人关注</td>\n      <td>4天以前发布</td>\n      <td>2室1厅1厨1卫</td>\n      <td>...</td>\n      <td>集中供暖</td>\n      <td>有</td>\n      <td>2023-10-05</td>\n      <td>商品房</td>\n      <td>2017-10-06</td>\n      <td>普通住宅</td>\n      <td>满五年</td>\n      <td>共有</td>\n      <td>\\n                                无抵押\\n       ...</td>\n      <td>已上传房本照片</td>\n    </tr>\n    <tr>\n      <th>2</th>\n      <td>1</td>\n      <td>349.0</td>\n      <td>29,996元/平</td>\n      <td>1</td>\n      <td>交运山庄</td>\n      <td>福安</td>\n      <td>2004年建</td>\n      <td>6人关注</td>\n      <td>18天以前发布</td>\n      <td>3室1厅1厨1卫</td>\n      <td>...</td>\n      <td>集中供暖</td>\n      <td>无</td>\n      <td>2023-09-21</td>\n      <td>商品房</td>\n      <td>2008-01-04</td>\n      <td>普通住宅</td>\n      <td>满五年</td>\n      <td>非共有</td>\n      <td>\\n                                有抵押 360万元 浙商...</td>\n      <td>已上传房本照片</td>\n    </tr>\n    <tr>\n      <th>3</th>\n      <td>1</td>\n      <td>115.0</td>\n      <td>18,254元/平</td>\n      <td>1</td>\n      <td>中环国际广场</td>\n      <td>远洋广场</td>\n      <td>2007年建</td>\n      <td>0人关注</td>\n      <td>4天以前发布</td>\n      <td>1室1厅1厨1卫</td>\n      <td>...</td>\n      <td>集中供暖</td>\n      <td>有</td>\n      <td>2023-10-06</td>\n      <td>商品房</td>\n      <td>2017-10-05</td>\n      <td>普通住宅</td>\n      <td>满五年</td>\n      <td>非共有</td>\n      <td>\\n                                无抵押\\n       ...</td>\n      <td>已上传房本照片</td>\n    </tr>\n    <tr>\n      <th>4</th>\n      <td>1</td>\n      <td>119.0</td>\n      <td>17,751元/平</td>\n      <td>0</td>\n      <td>辛家庄三小区（三明路）</td>\n      <td>辛家庄</td>\n      <td>1987年建</td>\n      <td>0人关注</td>\n      <td>4天以前发布</td>\n      <td>2室1厅1厨1卫</td>\n      <td>...</td>\n      <td>集中供暖</td>\n      <td>无</td>\n      <td>2023-10-06</td>\n      <td>已购公房</td>\n      <td>1998-03-21</td>\n      <td>普通住宅</td>\n      <td>满五年</td>\n      <td>非共有</td>\n      <td>\\n                                无抵押\\n       ...</td>\n      <td>已上传房本照片</td>\n    </tr>\n    <tr>\n      <th>...</th>\n      <td>...</td>\n      <td>...</td>\n      <td>...</td>\n      <td>...</td>\n      <td>...</td>\n      <td>...</td>\n      <td>...</td>\n      <td>...</td>\n      <td>...</td>\n      <td>...</td>\n      <td>...</td>\n      <td>...</td>\n      <td>...</td>\n      <td>...</td>\n      <td>...</td>\n      <td>...</td>\n      <td>...</td>\n      <td>...</td>\n      <td>...</td>\n      <td>...</td>\n      <td>...</td>\n    </tr>\n    <tr>\n      <th>23995</th>\n      <td>8</td>\n      <td>99.0</td>\n      <td>12,881元/平</td>\n      <td>0</td>\n      <td>佳源都市南区</td>\n      <td>即墨城西</td>\n      <td>暂无数据</td>\n      <td>0人关注</td>\n      <td>1个月以前发布</td>\n      <td>2室1厅1厨1卫</td>\n      <td>...</td>\n      <td>集中供暖</td>\n      <td>有</td>\n      <td>2023-09-02</td>\n      <td>商品房</td>\n      <td>2019-09-03</td>\n      <td>普通住宅</td>\n      <td>满两年</td>\n      <td>非共有</td>\n      <td>\\n                                有抵押\\n       ...</td>\n      <td>已上传房本照片</td>\n    </tr>\n    <tr>\n      <th>23996</th>\n      <td>8</td>\n      <td>570.0</td>\n      <td>21,378元/平</td>\n      <td>0</td>\n      <td>海信温泉王朝</td>\n      <td>即墨温泉</td>\n      <td>暂无数据</td>\n      <td>14人关注</td>\n      <td>一年前发布</td>\n      <td>6室3厅1厨4卫</td>\n      <td>...</td>\n      <td>暂无数据</td>\n      <td>暂无数据</td>\n      <td>2020-07-30</td>\n      <td>商品房</td>\n      <td>2017-08-28</td>\n      <td>普通住宅</td>\n      <td>满五年</td>\n      <td>非共有</td>\n      <td>\\n                                有抵押 80万元 业主自...</td>\n      <td>已上传房本照片</td>\n    </tr>\n    <tr>\n      <th>23997</th>\n      <td>8</td>\n      <td>92.0</td>\n      <td>8,604元/平</td>\n      <td>0</td>\n      <td>环秀景苑</td>\n      <td>即墨古城</td>\n      <td>暂无数据</td>\n      <td>3人关注</td>\n      <td>一年前发布</td>\n      <td>2室2厅1厨1卫</td>\n      <td>...</td>\n      <td>集中供暖</td>\n      <td>有</td>\n      <td>2021-05-19</td>\n      <td>经济适用房</td>\n      <td>2015-05-22</td>\n      <td>普通住宅</td>\n      <td>满五年</td>\n      <td>非共有</td>\n      <td>\\n                                无抵押\\n       ...</td>\n      <td>已上传房本照片</td>\n    </tr>\n    <tr>\n      <th>23998</th>\n      <td>8</td>\n      <td>57.0</td>\n      <td>7,530元/平</td>\n      <td>0</td>\n      <td>鳌山名苑</td>\n      <td>即墨蓝谷</td>\n      <td>2014年建</td>\n      <td>0人关注</td>\n      <td>一年前发布</td>\n      <td>1室1厅1厨1卫</td>\n      <td>...</td>\n      <td>自供暖</td>\n      <td>有</td>\n      <td>2022-08-15</td>\n      <td>商品房</td>\n      <td>2017-08-21</td>\n      <td>普通住宅</td>\n      <td>满五年</td>\n      <td>共有</td>\n      <td>\\n                                有抵押 10万元 业主自...</td>\n      <td>已上传房本照片</td>\n    </tr>\n    <tr>\n      <th>23999</th>\n      <td>8</td>\n      <td>100.0</td>\n      <td>13,032元/平</td>\n      <td>0</td>\n      <td>佳源都市南区</td>\n      <td>即墨城西</td>\n      <td>暂无数据</td>\n      <td>0人关注</td>\n      <td>一年前发布</td>\n      <td>2室1厅1厨1卫</td>\n      <td>...</td>\n      <td>集中供暖</td>\n      <td>有</td>\n      <td>2022-06-26</td>\n      <td>商品房</td>\n      <td>2019-09-16</td>\n      <td>普通住宅</td>\n      <td>满两年</td>\n      <td>非共有</td>\n      <td>\\n                                无抵押\\n       ...</td>\n      <td>已上传房本照片</td>\n    </tr>\n  </tbody>\n</table>\n<p>23499 rows × 28 columns</p>\n</div>"
     },
     "execution_count": 8,
     "metadata": {},
     "output_type": "execute_result"
    }
   ],
   "source": [
    "# Drop columns that have become redundant after various transformations and splitting operations\n",
    "df = df.drop(columns=['户型', '面积', '朝向', '装修', '楼层', '台楼', '套内面积', '其他'])\n",
    "\n",
    "# Display the updated dataframe\n",
    "df"
   ],
   "metadata": {
    "collapsed": false,
    "ExecuteTime": {
     "end_time": "2023-10-15T12:20:05.891946Z",
     "start_time": "2023-10-15T12:20:05.856444Z"
    }
   },
   "id": "3ebf4c01388d43c9"
  },
  {
   "cell_type": "markdown",
   "source": [
    "### 1.9 Saving the Processed Data\n",
    "\n",
    "After extensive transformation, and integration of our dataset,  we'll save the processed dataframe as a CSV file for easy retrieval and usage in the future.\n"
   ],
   "metadata": {
    "collapsed": false
   },
   "id": "7354134f64fb7465"
  },
  {
   "cell_type": "code",
   "execution_count": 9,
   "outputs": [],
   "source": [
    "# Save the processed dataframe to a CSV file\n",
    "df.to_csv('raw_data_merge.csv', index=False)"
   ],
   "metadata": {
    "collapsed": false,
    "ExecuteTime": {
     "end_time": "2023-10-15T12:20:13.368247Z",
     "start_time": "2023-10-15T12:20:13.202305Z"
    }
   },
   "id": "d011b3f209307d6f"
  },
  {
   "cell_type": "markdown",
   "source": [
    "## 2. Data Cleaning\n",
    "\n",
    "Next, we will clean up the data. Firstly, by using the \"info()\" function to display a summary of data frames, we can understand their structure and content"
   ],
   "metadata": {
    "collapsed": false
   },
   "id": "9a854b6e36a7c410"
  },
  {
   "cell_type": "code",
   "execution_count": 10,
   "outputs": [
    {
     "name": "stdout",
     "output_type": "stream",
     "text": [
      "<class 'pandas.core.frame.DataFrame'>\n",
      "RangeIndex: 23499 entries, 0 to 23498\n",
      "Data columns (total 28 columns):\n",
      " #   Column  Non-Null Count  Dtype  \n",
      "---  ------  --------------  -----  \n",
      " 0   地区      23499 non-null  int64  \n",
      " 1   价格      23499 non-null  float64\n",
      " 2   单位价格    23499 non-null  object \n",
      " 3   是否近地铁   23499 non-null  int64  \n",
      " 4   小区      23499 non-null  object \n",
      " 5   位置      23499 non-null  object \n",
      " 6   年份      23499 non-null  object \n",
      " 7   关注      23499 non-null  object \n",
      " 8   发布      23499 non-null  object \n",
      " 9   房屋户型    23499 non-null  object \n",
      " 10  所在楼层    23499 non-null  object \n",
      " 11  建筑面积    23499 non-null  object \n",
      " 12  户型结构    23499 non-null  object \n",
      " 13  建筑类型    23499 non-null  object \n",
      " 14  房屋朝向    23499 non-null  object \n",
      " 15  建筑结构    23499 non-null  object \n",
      " 16  装修情况    23499 non-null  object \n",
      " 17  梯户比例    23499 non-null  object \n",
      " 18  供暖方式    23499 non-null  object \n",
      " 19  配备电梯    23499 non-null  object \n",
      " 20  挂牌时间    23499 non-null  object \n",
      " 21  交易权属    23499 non-null  object \n",
      " 22  上次交易    23499 non-null  object \n",
      " 23  房屋用途    23499 non-null  object \n",
      " 24  房屋年限    23499 non-null  object \n",
      " 25  产权所属    23499 non-null  object \n",
      " 26  抵押信息    23499 non-null  object \n",
      " 27  房本备件    23499 non-null  object \n",
      "dtypes: float64(1), int64(2), object(25)\n",
      "memory usage: 5.0+ MB\n"
     ]
    }
   ],
   "source": [
    "# Importing the necessary libraries\n",
    "import pandas as pd\n",
    "\n",
    "# Loading the processed dataset from the CSV file into a dataframe\n",
    "data = pd.read_csv('raw_data_merge.csv')\n",
    "\n",
    "# Displaying the summary of the dataframe to understand its structure and contents\n",
    "data.info()\n"
   ],
   "metadata": {
    "collapsed": false,
    "ExecuteTime": {
     "end_time": "2023-10-15T12:20:15.816752Z",
     "start_time": "2023-10-15T12:20:15.679443Z"
    }
   },
   "id": "f46028df476182ef"
  },
  {
   "cell_type": "markdown",
   "source": [
    "### 2.1 Checking for Missing Values\n",
    "\n",
    "To ensure the quality and integrity of our dataset, it's important to identify and handle missing values. Missing values can skew analysis results and potentially lead to misleading conclusions. \n",
    "\n",
    "We'll start by counting the number of missing values in each column.\n"
   ],
   "metadata": {
    "collapsed": false
   },
   "id": "3379c922396f1947"
  },
  {
   "cell_type": "code",
   "execution_count": 11,
   "outputs": [
    {
     "data": {
      "text/plain": "地区       0\n价格       0\n单位价格     0\n是否近地铁    0\n小区       0\n位置       0\n年份       0\n关注       0\n发布       0\n房屋户型     0\n所在楼层     0\n建筑面积     0\n户型结构     0\n建筑类型     0\n房屋朝向     0\n建筑结构     0\n装修情况     0\n梯户比例     0\n供暖方式     0\n配备电梯     0\n挂牌时间     0\n交易权属     0\n上次交易     0\n房屋用途     0\n房屋年限     0\n产权所属     0\n抵押信息     0\n房本备件     0\ndtype: int64"
     },
     "execution_count": 11,
     "metadata": {},
     "output_type": "execute_result"
    }
   ],
   "source": [
    "# Counting the number of missing values in each column of the dataframe\n",
    "missing_values_count = data.isnull().sum()\n",
    "\n",
    "# Displaying the count of missing values for each column\n",
    "missing_values_count\n"
   ],
   "metadata": {
    "collapsed": false,
    "ExecuteTime": {
     "end_time": "2023-10-15T12:20:22.601392Z",
     "start_time": "2023-10-15T12:20:22.597252Z"
    }
   },
   "id": "f83152e715d0cbdf"
  },
  {
   "cell_type": "markdown",
   "source": [
    "### 2.2 Removing Leading and Trailing Whitespace\n",
    "\n",
    "Whitespace characters at the beginning or end of strings can often be introduced during data collection or transformation processes. They might not always be visible but can cause inconsistencies or issues during analysis, especially when comparing strings or using them as keys.\n",
    "\n",
    "We'll remove any leading or trailing whitespace from the string data in our dataframe to ensure consistency and cleanliness.\n"
   ],
   "metadata": {
    "collapsed": false
   },
   "id": "d76cb84915cf3825"
  },
  {
   "cell_type": "code",
   "execution_count": 12,
   "outputs": [
    {
     "data": {
      "text/plain": "       地区     价格       单位价格  是否近地铁           小区    位置      年份     关注       发布  \\\n0       1  289.0  23,106元/平      1          闽江苑   闽江路  1997年建   2人关注  15天以前发布   \n1       1  139.0  16,747元/平      1         鹏程花园  远洋广场  1996年建   1人关注   4天以前发布   \n2       1  349.0  29,996元/平      1         交运山庄    福安  2004年建   6人关注  18天以前发布   \n3       1  115.0  18,254元/平      1       中环国际广场  远洋广场  2007年建   0人关注   4天以前发布   \n4       1  119.0  17,751元/平      0  辛家庄三小区（三明路）   辛家庄  1987年建   0人关注   4天以前发布   \n...    ..    ...        ...    ...          ...   ...     ...    ...      ...   \n23494   8   99.0  12,881元/平      0       佳源都市南区  即墨城西    暂无数据   0人关注  1个月以前发布   \n23495   8  570.0  21,378元/平      0       海信温泉王朝  即墨温泉    暂无数据  14人关注    一年前发布   \n23496   8   92.0   8,604元/平      0         环秀景苑  即墨古城    暂无数据   3人关注    一年前发布   \n23497   8   57.0   7,530元/平      0         鳌山名苑  即墨蓝谷  2014年建   0人关注    一年前发布   \n23498   8  100.0  13,032元/平      0       佳源都市南区  即墨城西    暂无数据   0人关注    一年前发布   \n\n           房屋户型  ...  供暖方式  配备电梯        挂牌时间   交易权属        上次交易  房屋用途 房屋年限  \\\n0      3室1厅1厨1卫  ...  集中供暖     无  2023-09-24    商品房  2003-06-14  普通住宅  满五年   \n1      2室1厅1厨1卫  ...  集中供暖     有  2023-10-05    商品房  2017-10-06  普通住宅  满五年   \n2      3室1厅1厨1卫  ...  集中供暖     无  2023-09-21    商品房  2008-01-04  普通住宅  满五年   \n3      1室1厅1厨1卫  ...  集中供暖     有  2023-10-06    商品房  2017-10-05  普通住宅  满五年   \n4      2室1厅1厨1卫  ...  集中供暖     无  2023-10-06   已购公房  1998-03-21  普通住宅  满五年   \n...         ...  ...   ...   ...         ...    ...         ...   ...  ...   \n23494  2室1厅1厨1卫  ...  集中供暖     有  2023-09-02    商品房  2019-09-03  普通住宅  满两年   \n23495  6室3厅1厨4卫  ...  暂无数据  暂无数据  2020-07-30    商品房  2017-08-28  普通住宅  满五年   \n23496  2室2厅1厨1卫  ...  集中供暖     有  2021-05-19  经济适用房  2015-05-22  普通住宅  满五年   \n23497  1室1厅1厨1卫  ...   自供暖     有  2022-08-15    商品房  2017-08-21  普通住宅  满五年   \n23498  2室1厅1厨1卫  ...  集中供暖     有  2022-06-26    商品房  2019-09-16  普通住宅  满两年   \n\n      产权所属                   抵押信息     房本备件  \n0      非共有                    无抵押  已上传房本照片  \n1       共有                    无抵押  已上传房本照片  \n2      非共有  有抵押 360万元 浙商银行 金融公司垫资  已上传房本照片  \n3      非共有                    无抵押  已上传房本照片  \n4      非共有                    无抵押  已上传房本照片  \n...    ...                    ...      ...  \n23494  非共有                    有抵押  已上传房本照片  \n23495  非共有          有抵押 80万元 业主自还  已上传房本照片  \n23496  非共有                    无抵押  已上传房本照片  \n23497   共有          有抵押 10万元 业主自还  已上传房本照片  \n23498  非共有                    无抵押  已上传房本照片  \n\n[23499 rows x 28 columns]",
      "text/html": "<div>\n<style scoped>\n    .dataframe tbody tr th:only-of-type {\n        vertical-align: middle;\n    }\n\n    .dataframe tbody tr th {\n        vertical-align: top;\n    }\n\n    .dataframe thead th {\n        text-align: right;\n    }\n</style>\n<table border=\"1\" class=\"dataframe\">\n  <thead>\n    <tr style=\"text-align: right;\">\n      <th></th>\n      <th>地区</th>\n      <th>价格</th>\n      <th>单位价格</th>\n      <th>是否近地铁</th>\n      <th>小区</th>\n      <th>位置</th>\n      <th>年份</th>\n      <th>关注</th>\n      <th>发布</th>\n      <th>房屋户型</th>\n      <th>...</th>\n      <th>供暖方式</th>\n      <th>配备电梯</th>\n      <th>挂牌时间</th>\n      <th>交易权属</th>\n      <th>上次交易</th>\n      <th>房屋用途</th>\n      <th>房屋年限</th>\n      <th>产权所属</th>\n      <th>抵押信息</th>\n      <th>房本备件</th>\n    </tr>\n  </thead>\n  <tbody>\n    <tr>\n      <th>0</th>\n      <td>1</td>\n      <td>289.0</td>\n      <td>23,106元/平</td>\n      <td>1</td>\n      <td>闽江苑</td>\n      <td>闽江路</td>\n      <td>1997年建</td>\n      <td>2人关注</td>\n      <td>15天以前发布</td>\n      <td>3室1厅1厨1卫</td>\n      <td>...</td>\n      <td>集中供暖</td>\n      <td>无</td>\n      <td>2023-09-24</td>\n      <td>商品房</td>\n      <td>2003-06-14</td>\n      <td>普通住宅</td>\n      <td>满五年</td>\n      <td>非共有</td>\n      <td>无抵押</td>\n      <td>已上传房本照片</td>\n    </tr>\n    <tr>\n      <th>1</th>\n      <td>1</td>\n      <td>139.0</td>\n      <td>16,747元/平</td>\n      <td>1</td>\n      <td>鹏程花园</td>\n      <td>远洋广场</td>\n      <td>1996年建</td>\n      <td>1人关注</td>\n      <td>4天以前发布</td>\n      <td>2室1厅1厨1卫</td>\n      <td>...</td>\n      <td>集中供暖</td>\n      <td>有</td>\n      <td>2023-10-05</td>\n      <td>商品房</td>\n      <td>2017-10-06</td>\n      <td>普通住宅</td>\n      <td>满五年</td>\n      <td>共有</td>\n      <td>无抵押</td>\n      <td>已上传房本照片</td>\n    </tr>\n    <tr>\n      <th>2</th>\n      <td>1</td>\n      <td>349.0</td>\n      <td>29,996元/平</td>\n      <td>1</td>\n      <td>交运山庄</td>\n      <td>福安</td>\n      <td>2004年建</td>\n      <td>6人关注</td>\n      <td>18天以前发布</td>\n      <td>3室1厅1厨1卫</td>\n      <td>...</td>\n      <td>集中供暖</td>\n      <td>无</td>\n      <td>2023-09-21</td>\n      <td>商品房</td>\n      <td>2008-01-04</td>\n      <td>普通住宅</td>\n      <td>满五年</td>\n      <td>非共有</td>\n      <td>有抵押 360万元 浙商银行 金融公司垫资</td>\n      <td>已上传房本照片</td>\n    </tr>\n    <tr>\n      <th>3</th>\n      <td>1</td>\n      <td>115.0</td>\n      <td>18,254元/平</td>\n      <td>1</td>\n      <td>中环国际广场</td>\n      <td>远洋广场</td>\n      <td>2007年建</td>\n      <td>0人关注</td>\n      <td>4天以前发布</td>\n      <td>1室1厅1厨1卫</td>\n      <td>...</td>\n      <td>集中供暖</td>\n      <td>有</td>\n      <td>2023-10-06</td>\n      <td>商品房</td>\n      <td>2017-10-05</td>\n      <td>普通住宅</td>\n      <td>满五年</td>\n      <td>非共有</td>\n      <td>无抵押</td>\n      <td>已上传房本照片</td>\n    </tr>\n    <tr>\n      <th>4</th>\n      <td>1</td>\n      <td>119.0</td>\n      <td>17,751元/平</td>\n      <td>0</td>\n      <td>辛家庄三小区（三明路）</td>\n      <td>辛家庄</td>\n      <td>1987年建</td>\n      <td>0人关注</td>\n      <td>4天以前发布</td>\n      <td>2室1厅1厨1卫</td>\n      <td>...</td>\n      <td>集中供暖</td>\n      <td>无</td>\n      <td>2023-10-06</td>\n      <td>已购公房</td>\n      <td>1998-03-21</td>\n      <td>普通住宅</td>\n      <td>满五年</td>\n      <td>非共有</td>\n      <td>无抵押</td>\n      <td>已上传房本照片</td>\n    </tr>\n    <tr>\n      <th>...</th>\n      <td>...</td>\n      <td>...</td>\n      <td>...</td>\n      <td>...</td>\n      <td>...</td>\n      <td>...</td>\n      <td>...</td>\n      <td>...</td>\n      <td>...</td>\n      <td>...</td>\n      <td>...</td>\n      <td>...</td>\n      <td>...</td>\n      <td>...</td>\n      <td>...</td>\n      <td>...</td>\n      <td>...</td>\n      <td>...</td>\n      <td>...</td>\n      <td>...</td>\n      <td>...</td>\n    </tr>\n    <tr>\n      <th>23494</th>\n      <td>8</td>\n      <td>99.0</td>\n      <td>12,881元/平</td>\n      <td>0</td>\n      <td>佳源都市南区</td>\n      <td>即墨城西</td>\n      <td>暂无数据</td>\n      <td>0人关注</td>\n      <td>1个月以前发布</td>\n      <td>2室1厅1厨1卫</td>\n      <td>...</td>\n      <td>集中供暖</td>\n      <td>有</td>\n      <td>2023-09-02</td>\n      <td>商品房</td>\n      <td>2019-09-03</td>\n      <td>普通住宅</td>\n      <td>满两年</td>\n      <td>非共有</td>\n      <td>有抵押</td>\n      <td>已上传房本照片</td>\n    </tr>\n    <tr>\n      <th>23495</th>\n      <td>8</td>\n      <td>570.0</td>\n      <td>21,378元/平</td>\n      <td>0</td>\n      <td>海信温泉王朝</td>\n      <td>即墨温泉</td>\n      <td>暂无数据</td>\n      <td>14人关注</td>\n      <td>一年前发布</td>\n      <td>6室3厅1厨4卫</td>\n      <td>...</td>\n      <td>暂无数据</td>\n      <td>暂无数据</td>\n      <td>2020-07-30</td>\n      <td>商品房</td>\n      <td>2017-08-28</td>\n      <td>普通住宅</td>\n      <td>满五年</td>\n      <td>非共有</td>\n      <td>有抵押 80万元 业主自还</td>\n      <td>已上传房本照片</td>\n    </tr>\n    <tr>\n      <th>23496</th>\n      <td>8</td>\n      <td>92.0</td>\n      <td>8,604元/平</td>\n      <td>0</td>\n      <td>环秀景苑</td>\n      <td>即墨古城</td>\n      <td>暂无数据</td>\n      <td>3人关注</td>\n      <td>一年前发布</td>\n      <td>2室2厅1厨1卫</td>\n      <td>...</td>\n      <td>集中供暖</td>\n      <td>有</td>\n      <td>2021-05-19</td>\n      <td>经济适用房</td>\n      <td>2015-05-22</td>\n      <td>普通住宅</td>\n      <td>满五年</td>\n      <td>非共有</td>\n      <td>无抵押</td>\n      <td>已上传房本照片</td>\n    </tr>\n    <tr>\n      <th>23497</th>\n      <td>8</td>\n      <td>57.0</td>\n      <td>7,530元/平</td>\n      <td>0</td>\n      <td>鳌山名苑</td>\n      <td>即墨蓝谷</td>\n      <td>2014年建</td>\n      <td>0人关注</td>\n      <td>一年前发布</td>\n      <td>1室1厅1厨1卫</td>\n      <td>...</td>\n      <td>自供暖</td>\n      <td>有</td>\n      <td>2022-08-15</td>\n      <td>商品房</td>\n      <td>2017-08-21</td>\n      <td>普通住宅</td>\n      <td>满五年</td>\n      <td>共有</td>\n      <td>有抵押 10万元 业主自还</td>\n      <td>已上传房本照片</td>\n    </tr>\n    <tr>\n      <th>23498</th>\n      <td>8</td>\n      <td>100.0</td>\n      <td>13,032元/平</td>\n      <td>0</td>\n      <td>佳源都市南区</td>\n      <td>即墨城西</td>\n      <td>暂无数据</td>\n      <td>0人关注</td>\n      <td>一年前发布</td>\n      <td>2室1厅1厨1卫</td>\n      <td>...</td>\n      <td>集中供暖</td>\n      <td>有</td>\n      <td>2022-06-26</td>\n      <td>商品房</td>\n      <td>2019-09-16</td>\n      <td>普通住宅</td>\n      <td>满两年</td>\n      <td>非共有</td>\n      <td>无抵押</td>\n      <td>已上传房本照片</td>\n    </tr>\n  </tbody>\n</table>\n<p>23499 rows × 28 columns</p>\n</div>"
     },
     "execution_count": 12,
     "metadata": {},
     "output_type": "execute_result"
    }
   ],
   "source": [
    "# Applying a function to each element in the dataframe\n",
    "# If the element is a string, we remove leading and trailing whitespaces\n",
    "# Otherwise, we leave the element unchanged\n",
    "\n",
    "data = data.applymap(lambda x: x.strip() if isinstance(x, str) else x)\n",
    "\n",
    "# Displaying the updated dataframe\n",
    "data"
   ],
   "metadata": {
    "collapsed": false,
    "ExecuteTime": {
     "end_time": "2023-10-15T12:22:05.960196Z",
     "start_time": "2023-10-15T12:22:05.859331Z"
    }
   },
   "id": "78140a9370d2cfdf"
  },
  {
   "cell_type": "markdown",
   "source": [
    "### 2.3 Examining Potential Anomalies in Categorical Columns\n",
    "\n",
    "For categorical data, unexpected or uncommon values might indicate data entry errors, anomalies, or simply rare categories. By inspecting the unique values in our categorical columns, we can ensure consistency and identify any potential issues.\n"
   ],
   "metadata": {
    "collapsed": false
   },
   "id": "9fba66b8a47abb3b"
  },
  {
   "cell_type": "code",
   "execution_count": 15,
   "outputs": [
    {
     "name": "stdout",
     "output_type": "stream",
     "text": [
      "Unique values for column '地区':\n",
      "[1 2 3 4 5 6 7 8]\n",
      "--------------------------------------------------\n",
      "Unique values for column '是否近地铁':\n",
      "[1 0]\n",
      "--------------------------------------------------\n",
      "Unique values for column '年份':\n",
      "['1997年建' '1996年建' '2004年建' '2007年建' '1987年建' '2000年建' '暂无数据' '2001年建'\n",
      " '2008年建' '1999年建' '2009年建' '2003年建' '1994年建' '2011年建' '1998年建' '2012年建'\n",
      " '2002年建' '1990年建' '1986年建' '1993年建' '2013年建' '1985年建' '2015年建' '1992年建'\n",
      " '2010年建' '1989年建' '1995年建' '1980年建' '2014年建' '1983年建' '1982年建' '2005年建'\n",
      " '1984年建' '1949年建' '1988年建' '2006年建' '2022年建' '2020年建' '1975年建' '2018年建'\n",
      " '1991年建' '1966年建' '2017年建' '2016年建' '1979年建' '1958年建' '2021年建' '1969年建'\n",
      " '2019年建' '1977年建' '1965年建' '1981年建' '1964年建' '1976年建' '1978年建' '1945年建'\n",
      " '1974年建' '1959年建' '2023年建' '1971年建']\n",
      "--------------------------------------------------\n",
      "Unique values for column '发布':\n",
      "['15天以前发布' '4天以前发布' '18天以前发布' '7天以前发布' '5天以前发布' '29天以前发布' '21天以前发布'\n",
      " '28天以前发布' '19天以前发布' '24天以前发布' '11天以前发布' '12天以前发布' '一年前发布' '1个月以前发布'\n",
      " '5个月以前发布' '6个月以前发布' '4个月以前发布' '3个月以前发布' '9个月以前发布' '8个月以前发布' '26天以前发布'\n",
      " '25天以前发布' '13天以前发布' '10个月以前发布' '7个月以前发布' '2个月以前发布' '2天以前发布' '22天以前发布'\n",
      " '30天以前发布' '27天以前发布' '16天以前发布' '17天以前发布' '8天以前发布' '11个月以前发布' '3天以前发布'\n",
      " '1天以前发布' '20天以前发布' '6天以前发布' '14天以前发布' '23天以前发布' '9天以前发布' '31天以前发布'\n",
      " '10天以前发布' '刚刚发布']\n",
      "--------------------------------------------------\n",
      "Unique values for column '房屋户型':\n",
      "['3室1厅1厨1卫' '2室1厅1厨1卫' '1室1厅1厨1卫' '3室0厅1厨1卫' '2室2厅1厨1卫' '3室3厅1厨2卫'\n",
      " '3室2厅2厨1卫' '3室2厅1厨2卫' '3室2厅1厨1卫' '2室1厅1厨2卫' '4室2厅1厨2卫' '3室1厅1厨2卫'\n",
      " '4室2厅1厨3卫' '2室0厅1厨1卫' '4室1厅1厨2卫' '1室0厅1厨1卫' '1室0厅0厨0卫' '1室0厅0厨1卫'\n",
      " '4室3厅1厨2卫' '5室2厅1厨4卫' '5室2厅1厨3卫' '2室2厅1厨2卫' '5室2厅1厨2卫' '6室2厅1厨2卫'\n",
      " '6室4厅1厨4卫' '4室2厅1厨4卫' '4室1厅1厨1卫' '5室3厅2厨4卫' '1室1厅1厨2卫' '5室3厅1厨3卫'\n",
      " '4室2厅2厨2卫' '6室2厅1厨3卫' '5室3厅1厨2卫' '6室3厅1厨3卫' '5室1厅1厨3卫' '3室2厅1厨3卫'\n",
      " '3室2厅1厨4卫' '4室3厅1厨3卫' '5室3厅2厨3卫' '3室3厅1厨4卫' '5室2厅2厨3卫' '7室2厅1厨3卫'\n",
      " '7室3厅1厨3卫' '7室2厅1厨2卫' '3室1厅1厨4卫' '3室3厅2厨2卫' '3室2厅2厨2卫' '4室1厅1厨3卫'\n",
      " '3室0厅1厨2卫' '4室2厅1厨1卫' '5室2厅2厨2卫' '5室3厅2厨5卫' '8室3厅1厨6卫' '5室2厅2厨5卫'\n",
      " '6室3厅1厨6卫' '5室3厅1厨4卫' '4室3厅1厨4卫' '6室1厅1厨2卫' '5室1厅1厨5卫' '6室2厅1厨4卫'\n",
      " '6室1厅1厨3卫' '5室2厅2厨4卫' '5室2厅0厨6卫' '2室2厅2厨1卫' '5室4厅1厨2卫' '3室1厅0厨1卫'\n",
      " '2室0厅0厨0卫' '3室1厅1厨3卫' '7室3厅2厨3卫' '1室2厅1厨1卫' '6室1厅1厨1卫' '6室3厅1厨2卫'\n",
      " '6室2厅2厨2卫' '3室2厅0厨2卫' '4室0厅1厨3卫' '5室1厅1厨2卫' '4室1厅0厨1卫' '2室2厅1厨4卫'\n",
      " '2室3厅1厨2卫' '4室0厅1厨1卫' '6室2厅1厨6卫' '1室1厅1厨0卫' '5室2厅0厨1卫' '4室4厅1厨2卫'\n",
      " '4室3厅2厨3卫' '5室4厅1厨3卫' '2室1厅2厨1卫' '4室4厅2厨2卫' '8室4厅2厨2卫' '3室3厅1厨1卫'\n",
      " '6室4厅2厨3卫' '4室1厅2厨3卫' '4室2厅2厨1卫' '3室2厅2厨3卫' '1室1厅0厨1卫' '5室3厅2厨2卫'\n",
      " '6室4厅1厨3卫' '6室3厅1厨4卫' '5室3厅1厨5卫' '8室1厅1厨3卫' '7室1厅1厨3卫' '6室3厅1厨5卫'\n",
      " '5室4厅1厨4卫' '6室4厅2厨4卫' '5室4厅1厨5卫' '5室0厅0厨0卫' '6室3厅2厨3卫' '8室1厅1厨4卫'\n",
      " '2室1厅0厨0卫' '2室2厅2厨2卫' '4室3厅1厨1卫' '5室1厅1厨1卫' '7室3厅1厨4卫' '4室1厅1厨5卫'\n",
      " '7室3厅1厨6卫' '8室4厅2厨6卫' '5室4厅1厨6卫' '9室2厅1厨5卫' '2室2厅1厨3卫' '6室4厅1厨5卫'\n",
      " '8室3厅1厨4卫' '6室4厅1厨2卫' '8室4厅1厨3卫' '6室2厅2厨4卫' '4室2厅2厨5卫' '6室4厅1厨6卫'\n",
      " '3室3厅1厨3卫' '4室4厅1厨4卫' '6室3厅2厨4卫' '5室2厅1厨5卫' '3室2厅2厨4卫' '3室4厅1厨3卫'\n",
      " '4室2厅2厨4卫' '4室2厅2厨3卫' '3室1厅1厨0卫' '1室1厅2厨1卫' '4室2厅1厨5卫' '8室1厅1厨1卫'\n",
      " '5室4厅2厨2卫' '9室3厅1厨5卫' '7室3厅1厨8卫' '5室1厅2厨2卫' '5室1厅1厨4卫' '4室4厅2厨3卫'\n",
      " '1室2厅1厨2卫' '5室2厅1厨1卫' '4室3厅1厨6卫' '4室1厅1厨4卫' '5室3厅1厨1卫' '7室4厅1厨4卫'\n",
      " '6室4厅2厨2卫' '8室4厅1厨4卫' '4室4厅2厨4卫' '8室4厅1厨6卫' '6室4厅2厨6卫' '9室4厅1厨9卫'\n",
      " '9室3厅1厨4卫' '3室2厅1厨0卫' '3室4厅1厨2卫' '5室4厅2厨4卫' '3室4厅2厨4卫' '6室2厅1厨5卫'\n",
      " '4室3厅2厨4卫' '6室3厅3厨3卫' '6室2厅0厨4卫' '9室5厅1厨4卫' '5室3厅1厨6卫' '7室4厅2厨5卫'\n",
      " '8室2厅1厨3卫' '7室2厅1厨5卫' '3室1厅2厨3卫' '5室2厅1厨6卫' '6室4厅2厨5卫' '5室3厅2厨1卫'\n",
      " '7室2厅1厨4卫' '5室5厅1厨4卫' '4室4厅1厨5卫' '4室2厅3厨1卫' '6室2厅2厨3卫' '5室2厅1厨7卫'\n",
      " '6室3厅1厨7卫' '7室0厅0厨0卫' '3室2厅0厨1卫' '3室0厅0厨0卫' '6室2厅1厨1卫' '2室1厅0厨1卫'\n",
      " '6室3厅2厨2卫' '7室1厅1厨4卫' '1室1厅0厨0卫' '2室2厅1厨0卫' '5室4厅2厨6卫' '7室1厅1厨2卫'\n",
      " '4室4厅1厨3卫' '2室3厅2厨2卫']\n",
      "--------------------------------------------------\n",
      "Unique values for column '所在楼层':\n",
      "['中楼层 (共6层)' '高楼层 (共24层)' '中楼层 (共5层)' '低楼层 (共30层)' '中楼层 (共7层)' '低楼层 (共6层)'\n",
      " '高楼层 (共11层)' '低楼层 (共17层)' '高楼层 (共6层)' '高楼层 (共7层)' '低楼层 (共7层)'\n",
      " '高楼层 (共19层)' '低楼层 (共25层)' '高楼层 (共16层)' '低楼层 (共29层)' '低楼层 (共32层)'\n",
      " '中楼层 (共13层)' '中楼层 (共21层)' '高楼层 (共4层)' '中楼层 (共18层)' '低楼层 (共33层)'\n",
      " '中楼层 (共33层)' '高楼层 (共59层)' '高楼层 (共18层)' '高楼层 (共23层)' '低楼层 (共31层)'\n",
      " '高楼层 (共25层)' '高楼层 (共28层)' '低楼层 (共27层)' '低楼层 (共23层)' '低楼层 (共4层)'\n",
      " '低楼层 (共8层)' '低楼层 (共28层)' '高楼层 (共31层)' '低楼层 (共20层)' '高楼层 (共27层)'\n",
      " '高楼层 (共33层)' '高楼层 (共30层)' '中楼层 (共8层)' '低楼层 (共13层)' '低楼层 (共12层)'\n",
      " '中楼层 (共34层)' '低楼层 (共3层)' '低楼层 (共2层)' '高楼层 (共34层)' '低楼层 (共21层)'\n",
      " '高楼层 (共17层)' '中楼层 (共32层)' '中楼层 (共26层)' '高楼层 (共5层)' '中楼层 (共12层)'\n",
      " '低楼层 (共34层)' '高楼层 (共29层)' '中楼层 (共27层)' '高楼层 (共13层)' '低楼层 (共5层)'\n",
      " '低楼层 (共9层)' '中楼层 (共24层)' '低楼层 (共1层)' '中楼层 (共31层)' '中楼层 (共22层)'\n",
      " '高楼层 (共8层)' '低楼层 (共16层)' '高楼层 (共26层)' '中楼层 (共28层)' '中楼层 (共30层)'\n",
      " '低楼层 (共18层)' '低楼层 (共55层)' '低楼层 (共22层)' '中楼层 (共14层)' '中楼层 (共4层)'\n",
      " '中楼层 (共19层)' '中楼层 (共29层)' '高楼层 (共35层)' '低楼层 (共26层)' '低楼层 (共59层)'\n",
      " '高楼层 (共21层)' '高楼层 (共9层)' '高楼层 (共44层)' '低楼层 (共48层)' '中楼层 (共17层)'\n",
      " '中楼层 (共48层)' '高楼层 (共20层)' '低楼层 (共24层)' '高楼层 (共22层)' '高楼层 (共10层)'\n",
      " '低楼层 (共11层)' '高楼层 (共32层)' '中楼层 (共20层)' '低楼层 (共19层)' '中楼层 (共9层)'\n",
      " '高楼层 (共15层)' '高楼层 (共40层)' '高楼层 (共54层)' '高楼层 (共36层)' '中楼层 (共59层)'\n",
      " '中楼层 (共54层)' '低楼层 (共14层)' '中楼层 (共44层)' '低楼层 (共36层)' '高楼层 (共12层)'\n",
      " '高楼层 (共55层)' '低楼层 (共42层)' '低楼层 (共40层)' '地下室 (共6层)' '中楼层 (共55层)'\n",
      " '中楼层 (共16层)' '中楼层 (共25层)' '低楼层 (共10层)' '中楼层 (共10层)' '中楼层 (共61层)'\n",
      " '高楼层 (共58层)' '地下室 (共4层)' '中楼层 (共11层)' '低楼层 (共35层)' '中楼层 (共15层)'\n",
      " '中楼层 (共40层)' '低楼层 (共44层)' '低楼层 (共15层)' '低楼层 (共54层)' '中楼层 (共23层)'\n",
      " '中楼层 (共58层)' '高楼层 (共14层)' '中楼层 (共63层)' '低楼层 (共61层)' '低楼层 (共37层)'\n",
      " '低楼层 (共63层)' '高楼层 (共63层)' '高楼层 (共48层)' '中楼层 (共37层)' '高楼层 (共53层)'\n",
      " '中楼层 (共36层)' '高楼层 (共45层)' '中楼层 (共35层)' '高楼层 (共41层)' '低楼层 (共45层)'\n",
      " '中楼层 (共45层)' '高楼层 (共42层)' '中楼层 (共41层)' '地下室 (共7层)' '中楼层 (共39层)'\n",
      " '高楼层 (共43层)' '高楼层 (共39层)' '低楼层 (共39层)' '中楼层 (共43层)' '低楼层 (共38层)'\n",
      " '中楼层 (共38层)' '地下室 (共2层)']\n",
      "--------------------------------------------------\n",
      "Unique values for column '户型结构':\n",
      "['平层' '跃层' '暂无数据' '复式' '错层']\n",
      "--------------------------------------------------\n",
      "Unique values for column '建筑类型':\n",
      "['板楼' '板塔结合' '塔楼' '暂无数据' '平房']\n",
      "--------------------------------------------------\n",
      "Unique values for column '房屋朝向':\n",
      "['南 北' '南' '东南 南' '西南' '东' '东 南 北' '东 南' '东南' '南 西 北' '北 南' '西' '南 西南'\n",
      " '东北' '东 北' '南 北 东' '西 北' '北' '西北' '南 西北' '南 西' '南 东' '南 北 西' '北 西 东'\n",
      " '南 东南' '西南 南' '东南 西北' '东北 南' '南 西南 西 北' '南 北 西南 西' '东 西' '南 西南 北 西'\n",
      " '南 东 北' '东 南 西' '东南 南 西南' '南 西南 北' '西北 南' '东南 西' '西北 东南' '北 西' '东 东南 南'\n",
      " '东 北 西' '东 东南' '东南 东 北 南' '东 东南 西' '东 东南 南 北' '东 西 北' '西南 东' '西南 西'\n",
      " '东南 北' '东南 南 北' '北 东 西' '西南 东北' '西南 南 西 北' '东 北 东南' '南 东南 北' '东 西 南'\n",
      " '西 南 北' '西 南 东北' '南 东北' '东南 西南' '西南 北' '南 西南 西' '东 北 西南' '东 南 西南'\n",
      " '东南 西北 北 南' '北 南 东' '西 东' '北 东' '东 北 南' '北 西 南' '西 东北' '南 东 西'\n",
      " '东南 西南 东北 南' '东 东南 北' '东南 南 西北' '西南 北 东北' '西 西北' '东南 南 西南 北' '东 南 西 北'\n",
      " '东北 西南' '东 南 西南 西 北' '南 西北 北' '南 北 东 东南' '东南 东 南' '西 南' '北 南 西' '北 东南'\n",
      " '南 北 东南' '南 东 西 北' '东南 北 南' '东 东南 南 西' '北 西 西北' '南 北 西南' '北 东 南' '南 北 东北'\n",
      " '东 南 东南' '西北 西' '西 西南' '东北 南 西' '南 西 西南' '西 西北 北']\n",
      "--------------------------------------------------\n",
      "Unique values for column '建筑结构':\n",
      "['砖混结构' '钢混结构' '混合结构' '框架结构' '砖木结构' '未知结构' '钢结构']\n",
      "--------------------------------------------------\n",
      "Unique values for column '装修情况':\n",
      "['简装' '精装' '其他' '毛坯']\n",
      "--------------------------------------------------\n",
      "Unique values for column '梯户比例':\n",
      "['一梯两户' '两梯十八户' '三梯十一户' '一梯三户' '一梯九户' '三梯八户' '一梯五户' '两梯七户' '两梯三户' '三梯九户'\n",
      " '两梯两户' '两梯九户' '两梯四户' '一梯四户' '两梯六户' '三梯四户' '一梯十户' '两梯五户' '六梯两户' '四梯八户'\n",
      " '一梯一户' '四梯二十户' '四梯十户' '一梯十五户' '五梯二十户' '三梯三户' '三梯六户' '一梯六户' '三梯二十六户'\n",
      " '两梯八户' '四梯六户' '六梯十三户' '四梯十一户' '四梯十四户' '三梯两户' '两梯一户' '一梯二十户' '三梯十户' '五梯四户'\n",
      " '一梯十九户' '三梯十二户' '四梯十二户' '五梯六户' '六梯二十户' '四梯一户' '一梯七户' '三梯七户' '四梯五户' '两梯十户'\n",
      " '六梯十六户' '一梯八户' '三梯十四户' '一梯十二户' '三梯十五户' '一梯十六户' '两梯二十户' '一梯十八户' '三梯十六户'\n",
      " '两梯二十一户' '一梯十三户' '六梯十户' '七梯二十一户' '一梯二十七户' '一梯二十五户' '一梯二十四户' '两梯二十二户'\n",
      " '一梯二十八户' '一梯二十六户' '一梯二十九户' '一梯三十六户' '三梯五户' '四梯四户' '六梯二十八户' '十五梯四户'\n",
      " '五梯五十六户' '四梯十三户' '四梯三户' '五梯两户' '十二梯七户' '九梯四户' '两梯十九户' '四梯五十四户' '六梯五户'\n",
      " '两梯十一户' '二十梯四户' '十梯四户' '八梯两户' '四梯两户' '四梯十六户' '三梯十八户' '两梯十四户' '三梯二十二户'\n",
      " '四梯二十九户' '一梯十七户' '十二梯两户' '四梯九户' '六梯二十七户' '六梯四户' '六梯六户' '二十梯两户' '五梯三十四户'\n",
      " '十五梯五户' '五梯二十四户' '五梯三十五户' '六梯二十四户' '六梯三户' '十六梯四户' '八梯七户' '五梯三户' '六梯一户'\n",
      " '十四梯三户' '两梯二十七户' '八梯四户' '十六梯三户' '十六梯两户' '二十梯一户' '两梯十六户' '十梯两户' '七梯两户'\n",
      " '九梯两户' '两梯十五户' '两梯三十五户' '十梯三户' '一梯十一户' '十九梯两户' '七梯四户' '十五梯六户' '一梯三十二户'\n",
      " '三梯一户' '十五梯两户' '十七梯四户' '十五梯三户' '十一梯两户' '十七梯两户' '两梯四十二户' '十九梯四户' '十八梯两户']\n",
      "--------------------------------------------------\n",
      "Unique values for column '供暖方式':\n",
      "['集中供暖' '自供暖' '暂无数据']\n",
      "--------------------------------------------------\n",
      "Unique values for column '配备电梯':\n",
      "['无' '有' '暂无数据']\n",
      "--------------------------------------------------\n",
      "Unique values for column '交易权属':\n",
      "['商品房' '已购公房' '拆迁还建房' '限价商品房' '经济适用房' '私产' '集资房']\n",
      "--------------------------------------------------\n",
      "Unique values for column '房屋用途':\n",
      "['普通住宅' '商业' '写字楼' '公寓' '底商']\n",
      "--------------------------------------------------\n",
      "Unique values for column '房屋年限':\n",
      "['满五年' '满两年' '未满两年' '暂无数据']\n",
      "--------------------------------------------------\n",
      "Unique values for column '产权所属':\n",
      "['非共有' '共有']\n",
      "--------------------------------------------------\n",
      "Unique values for column '房本备件':\n",
      "['已上传房本照片' '未上传房本照片']\n",
      "--------------------------------------------------\n"
     ]
    }
   ],
   "source": [
    "# Iterating through each column in the dataframe\n",
    "for column in data.columns:\n",
    "    # Checking if the current column is in the list of categorical columns we want to examine\n",
    "    if column in ['地区', '是否近地铁', '年份', '发布', '房屋户型', '所在楼层', '户型结构', '建筑类型', '房屋朝向', '建筑结构', '装修情况', '梯户比例', '供暖方式', '配备电梯', '交易权属', '房屋用途', '房屋年限', '产权所属', '房本备件']:\n",
    "        print(f\"Unique values for column '{column}':\")\n",
    "        print(data[column].unique())\n",
    "        print(\"-\" * 50)"
   ],
   "metadata": {
    "collapsed": false,
    "ExecuteTime": {
     "end_time": "2023-10-15T12:29:19.911006Z",
     "start_time": "2023-10-15T12:29:19.873721Z"
    }
   },
   "id": "662c18611c79097a"
  },
  {
   "cell_type": "markdown",
   "source": [
    "### 2.4 Removing Anomalies and Unwanted Data\n",
    "\n",
    "For a more accurate analysis and a cleaner dataset, it's essential to:\n",
    "\n",
    "1. **Remove Rows with Anomalous Values**: We aim to exclude rows that have placeholder or undesired values like '暂无数据' and '未知结构'.\n",
    "\n",
    "2. **Drop Unnecessary Columns**: Some columns might not provide any additional value or insight for our intended analyses. We'll drop such columns to simplify our dataset.\n"
   ],
   "metadata": {
    "collapsed": false
   },
   "id": "40a466e4ad89ed77"
  },
  {
   "cell_type": "code",
   "execution_count": 16,
   "outputs": [],
   "source": [
    "#Remove outliers and null data\n",
    "data = data[data['年份'] != '暂无数据']\n",
    "data = data[data['户型结构'] != '暂无数据']\n",
    "data = data[data['建筑类型'] != '暂无数据']\n",
    "data = data[data['建筑结构'] != '未知结构']\n",
    "data = data[data['供暖方式'] != '暂无数据']\n",
    "data = data[data['配备电梯'] != '暂无数据']\n",
    "data = data[data['房屋年限'] != '暂无数据']\n",
    "\n",
    "# Dropping the '发布' and '梯户比例' column as it's considered unnecessary for analysis\n",
    "data = data.drop(columns=['发布'])\n",
    "data = data.drop(columns=['梯户比例'])"
   ],
   "metadata": {
    "collapsed": false,
    "ExecuteTime": {
     "end_time": "2023-10-15T12:29:22.106627Z",
     "start_time": "2023-10-15T12:29:22.074574Z"
    }
   },
   "id": "c6bdb353c0f7a719"
  },
  {
   "cell_type": "markdown",
   "source": [
    "### 2.5 Cleaning and Encoding\n",
    "\n",
    "The dataset underwent several transformations to improve clarity, manageability, and to prepare it for further analysis:\n",
    "\n",
    "1. **Extraction of Numerical Values from String Columns**: \n",
    "    - Extracted the price from the `单位价格` column by removing '元'.\n",
    "    - Extracted the year from the `年份` column by removing '年建'.\n",
    "    - Extracted numerical values from columns like `关注`, `建筑面积`, and the components of `房屋户型`.\n",
    "\n",
    "2. **Mapping and Encoding Categorical Values**:\n",
    "    - Transformed categorical values in columns like `所在楼层`, `房屋朝向`, `户型结构`, and many others to numerical encodings for easier processing and analysis. \n",
    "\n",
    "3. **Derivation of New Features**: \n",
    "    - For the `房屋户型` column, created new columns to represent the number of rooms, halls, kitchens, and toilets. The original column was then dropped for redundancy.\n",
    "\n",
    "4. **Mapping Boolean Values**:\n",
    "    - For columns like `配备电梯`, `房本备件`, and `抵押信息`, converted textual representations of boolean values to numerical `0` and `1`.\n",
    "\n",
    "These transformations have made the dataset more structured and analysis-friendly.\n"
   ],
   "metadata": {
    "collapsed": false
   },
   "id": "8b27291ae5388233"
  },
  {
   "cell_type": "code",
   "execution_count": 17,
   "outputs": [],
   "source": [
    "# 截取单位价格\n",
    "data['单位价格'] = data['单位价格'].str.split('元', expand=True)[0]\n",
    "\n",
    "# 截取年份\n",
    "data['年份']=data['年份'].str.split('年建', expand=True)[0] \n",
    "\n",
    "# 截取关注\n",
    "data['关注'] = data['关注'].str.split('人', expand=True)[0]\n",
    "\n",
    "# 截取面积\n",
    "data['建筑面积'] = data['建筑面积'].str.split('㎡', expand=True)[0]\n",
    "\n",
    "# 截取房屋户型\n",
    "data['房屋户型_室'] = data['房屋户型'].str.split('室', expand=True)[0]\n",
    "data['房屋户型_厅'] = data['房屋户型'].str.split('厅', expand=True)[0]\n",
    "data['房屋户型_厅'] =data['房屋户型_厅'].str[-1]\n",
    "data['房屋户型_厨'] = data['房屋户型'].str.split('厨', expand=True)[0]\n",
    "data['房屋户型_厨'] =data['房屋户型_厨'].str[-1]\n",
    "data['房屋户型_卫'] = data['房屋户型'].str.split('卫', expand=True)[0]\n",
    "data['房屋户型_卫'] =data['房屋户型_卫'].str[-1]\n",
    "data = data.drop(columns=['房屋户型'])\n",
    "\n",
    "# 转换楼层\n",
    "data['所在楼层'] = data['所在楼层'].str.split(' ', expand=True)[0]\n",
    "map_category_to_number= {\n",
    "        \"地下室\": 0,\n",
    "        \"低楼层\": 1,\n",
    "        \"中楼层\": 2,\n",
    "        \"高楼层\": 3\n",
    "    }\n",
    "data['所在楼层'] = data['所在楼层'].map(map_category_to_number)\n",
    "\n",
    "# 截取第一个朝向\n",
    "data['房屋朝向']=data['房屋朝向'].str.split(' ', expand=True)[0]\n",
    "turn = {'东':1,'东北':2,'东南':3,'北':4,'南':5,'西':6,'西北':7,'西南':8}\n",
    "data['房屋朝向']=data['房屋朝向'].map(turn)\n",
    "\n",
    "# 转换户型结构\n",
    "map_category_to_number= {\n",
    "        \"平层\": 0,\n",
    "        \"跃层\": 1,\n",
    "        \"错层\": 2,\n",
    "        \"复式\": 3\n",
    "    }\n",
    "data['户型结构'] = data['户型结构'].map(map_category_to_number)\n",
    "\n",
    "# 转换建筑类型\n",
    "map_category_to_number= {\n",
    "        \"板楼\": 0,\n",
    "        \"塔楼\": 1,\n",
    "        \"板塔结合\": 2,\n",
    "        \"平房\": 3\n",
    "    }\n",
    "data['建筑类型'] = data['建筑类型'].map(map_category_to_number)\n",
    "\n",
    "# 转换建筑结构\n",
    "map_category_to_number= {\n",
    "        \"钢混结构\": 0,\n",
    "        \"砖混结构\": 1,\n",
    "        \"混合结构\": 2,\n",
    "        \"钢结构\": 3,\n",
    "        \"砖木结构\": 4,\n",
    "        \"框架结构\": 5\n",
    "    }\n",
    "data['建筑结构'] = data['建筑结构'].map(map_category_to_number)\n",
    "\n",
    "# 转换装修情况\n",
    "map_category_to_number= {\n",
    "        \"精装\": 0,\n",
    "        \"简装\": 1,\n",
    "        \"毛坯\": 2,\n",
    "        \"其他\": 3\n",
    "    }\n",
    "data['装修情况'] = data['装修情况'].map(map_category_to_number)\n",
    "\n",
    "# 转换供暖方式\n",
    "map_category_to_number= {\n",
    "        \"集中供暖\": 0,\n",
    "        \"自供暖\": 1\n",
    "    }\n",
    "data['供暖方式'] = data['供暖方式'].map(map_category_to_number)\n",
    "\n",
    "# 转换配备电梯\n",
    "map_category_to_number= {\n",
    "        \"有\": 1,\n",
    "        \"无\": 0\n",
    "    }\n",
    "data['配备电梯'] = data['配备电梯'].map(map_category_to_number)\n",
    "\n",
    "# 转换交易权属\n",
    "map_category_to_number= {\n",
    "        \"商品房\": 0,\n",
    "        \"已购公房\": 1,\n",
    "        \"拆迁还建房\": 2,\n",
    "        \"限价商品房\": 3,\n",
    "        \"经济适用房\": 4,\n",
    "        \"私产\": 5,\n",
    "        \"集资房\": 6\n",
    "    }\n",
    "data['交易权属'] = data['交易权属'].map(map_category_to_number)\n",
    "\n",
    "# 转换房屋用途\n",
    "map_category_to_number= {\n",
    "        \"普通住宅\": 0,\n",
    "        \"商业\": 1,\n",
    "        \"写字楼\": 2\n",
    "    }\n",
    "data['房屋用途'] = data['房屋用途'].map(map_category_to_number)\n",
    "\n",
    "# 转换房屋年限\n",
    "map_category_to_number= {\n",
    "        \"满五年\": 0,\n",
    "        \"满两年\": 1,\n",
    "        \"未满两年\": 2\n",
    "    }\n",
    "data['房屋年限'] = data['房屋年限'].map(map_category_to_number)\n",
    "\n",
    "# 转换产权所属\n",
    "map_category_to_number= {\n",
    "        \"非共有\": 0,\n",
    "        \"共有\": 1\n",
    "    }\n",
    "data['产权所属'] = data['产权所属'].map(map_category_to_number)\n",
    "\n",
    "# 转换房本备件\n",
    "map_category_to_number= {\n",
    "        \"已上传房本照片\": 1,\n",
    "        \"未上传房本照片\": 0\n",
    "    }\n",
    "data['房本备件'] = data['房本备件'].map(map_category_to_number)\n",
    "\n",
    "# 转换抵押信息\n",
    "data['抵押信息'] = data['抵押信息'].apply(lambda x: '1' if '有抵押' in x else '0')\n",
    "\n"
   ],
   "metadata": {
    "collapsed": false,
    "ExecuteTime": {
     "end_time": "2023-10-15T12:29:24.070293Z",
     "start_time": "2023-10-15T12:29:23.910314Z"
    }
   },
   "id": "75beb6207a0d0651"
  },
  {
   "cell_type": "markdown",
   "source": [
    "### 2.6 Data Type Conversions\n",
    "\n",
    "To ensure accurate analysis and to provide consistency, several columns in the dataset were converted to appropriate numeric data types:\n",
    "\n",
    "1. **Floating Point Conversion**:\n",
    "   - Features like `单位价格`, `建筑面积`, and several others were identified as numeric-like features. Any commas present in these features were removed to prepare them for the conversion. They were then converted to float data type.\n",
    "\n",
    "2. **Integer Conversion**:\n",
    "   - Features `年份` and `关注` were converted to integer data types to better represent their nature.\n",
    "\n",
    "By converting these columns to their appropriate numeric types, further analysis, computations, and visualizations become more straightforward and error-free.\n"
   ],
   "metadata": {
    "collapsed": false
   },
   "id": "c3e7b6b987243107"
  },
  {
   "cell_type": "code",
   "execution_count": 18,
   "outputs": [
    {
     "data": {
      "text/plain": "地区          int64\n价格        float64\n单位价格      float64\n是否近地铁       int64\n小区         object\n位置         object\n年份          int64\n关注          int64\n所在楼层        int64\n建筑面积      float64\n户型结构        int64\n建筑类型        int64\n房屋朝向        int64\n建筑结构        int64\n装修情况        int64\n供暖方式        int64\n配备电梯        int64\n挂牌时间       object\n交易权属        int64\n上次交易       object\n房屋用途        int64\n房屋年限        int64\n产权所属        int64\n抵押信息      float64\n房本备件        int64\n房屋户型_室    float64\n房屋户型_厅    float64\n房屋户型_厨    float64\n房屋户型_卫    float64\ndtype: object"
     },
     "execution_count": 18,
     "metadata": {},
     "output_type": "execute_result"
    }
   ],
   "source": [
    "numeric_like_features = ['单位价格', '建筑面积', '房屋户型_室', '房屋户型_厅', '房屋户型_厨', '房屋户型_卫', '抵押信息']\n",
    "\n",
    "# Remove commas and convert to float\n",
    "for feature in numeric_like_features:\n",
    "    data[feature] = data[feature].str.replace(',', '').astype(float)\n",
    "    \n",
    "# Convert '年份' and '关注' features to integer data type\n",
    "data['年份'] = data['年份'].astype(int)\n",
    "data['关注'] = data['关注'].astype(int)\n",
    "\n",
    "# Display the data types of each column in the dataframe\n",
    "data.dtypes"
   ],
   "metadata": {
    "collapsed": false,
    "ExecuteTime": {
     "end_time": "2023-10-15T12:29:25.496025Z",
     "start_time": "2023-10-15T12:29:25.492946Z"
    }
   },
   "id": "78b83293d2c4ffa2"
  },
  {
   "cell_type": "markdown",
   "source": [
    "### 2.7 Saving the Transformed Data\n",
    "\n",
    "After the necessary transformations and data cleaning, the dataset was saved to a new CSV file named `raw_data_clean.csv`. This step ensures that we have a separate and cleaned version of the dataset, leaving the original raw data untouched.\n",
    "\n",
    "This cleaned dataset is now ready for further analysis, modeling, or any other operations required.\n"
   ],
   "metadata": {
    "collapsed": false
   },
   "id": "4e3259bba06db6cc"
  },
  {
   "cell_type": "code",
   "execution_count": 19,
   "outputs": [],
   "source": [
    "# 保存清洗后数据\n",
    "data.to_csv('raw_data_clean.csv')"
   ],
   "metadata": {
    "collapsed": false,
    "ExecuteTime": {
     "end_time": "2023-10-15T12:30:40.636835Z",
     "start_time": "2023-10-15T12:30:40.559294Z"
    }
   },
   "id": "f1e8eb48e06e614c"
  },
  {
   "cell_type": "markdown",
   "source": [
    "## 3. Data analysis and visualization\n",
    "\n",
    "After cleaning and pre-processing the data, the next step is to analyze and visualize it to derive insights and make informed decisions. "
   ],
   "metadata": {
    "collapsed": false
   },
   "id": "9a18f4ce57b2fff9"
  },
  {
   "cell_type": "markdown",
   "source": [
    "### 3.1 Data Overview\n",
    "To get a comprehensive understanding of the dataset, let's start by reviewing the basic statistics for each column."
   ],
   "metadata": {
    "collapsed": false
   },
   "id": "f7c8d35193b3af3d"
  },
  {
   "cell_type": "code",
   "execution_count": 21,
   "outputs": [
    {
     "data": {
      "text/plain": "                 地区            价格           单位价格         是否近地铁            年份  \\\ncount  14953.000000  14953.000000   14953.000000  14953.000000  14953.000000   \nmean       3.613322    287.539193   23763.396041      0.455828   2008.340868   \nstd        2.047788    275.631213   13408.223459      0.498062      9.069538   \nmin        1.000000     21.000000    3619.000000      0.000000   1949.000000   \n25%        2.000000    135.000000   14396.000000      0.000000   2003.000000   \n50%        3.000000    205.000000   20792.000000      0.000000   2010.000000   \n75%        5.000000    350.000000   29584.000000      1.000000   2015.000000   \nmax        8.000000   6600.000000  179989.000000      1.000000   2023.000000   \n\n                 关注          所在楼层          建筑面积          户型结构          建筑类型  \\\ncount  14953.000000  14953.000000  14953.000000  14953.000000  14953.000000   \nmean       9.428944      2.043737    113.113108      0.298201      0.125259   \nstd       25.691471      0.804174     44.722377      0.859876      0.432772   \nmin        0.000000      0.000000     12.650000      0.000000      0.000000   \n25%        0.000000      1.000000     87.200000      0.000000      0.000000   \n50%        2.000000      2.000000    103.500000      0.000000      0.000000   \n75%        7.000000      3.000000    133.160000      0.000000      0.000000   \nmax      926.000000      3.000000    703.810000      3.000000      3.000000   \n\n       ...          交易权属          房屋用途          房屋年限          产权所属  \\\ncount  ...  14953.000000  14953.000000  14953.000000  14953.000000   \nmean   ...      0.104862      0.000803      0.320003      0.145590   \nstd    ...      0.528709      0.030589      0.524148      0.352706   \nmin    ...      0.000000      0.000000      0.000000      0.000000   \n25%    ...      0.000000      0.000000      0.000000      0.000000   \n50%    ...      0.000000      0.000000      0.000000      0.000000   \n75%    ...      0.000000      0.000000      1.000000      0.000000   \nmax    ...      6.000000      2.000000      2.000000      1.000000   \n\n               抵押信息          房本备件        房屋户型_室        房屋户型_厅        房屋户型_厨  \\\ncount  14953.000000  14953.000000  14953.000000  14953.000000  14953.000000   \nmean       0.382264      0.999398      2.770414      1.594396      1.007423   \nstd        0.485957      0.024527      0.887568      0.586146      0.107309   \nmin        0.000000      0.000000      1.000000      0.000000      0.000000   \n25%        0.000000      1.000000      2.000000      1.000000      1.000000   \n50%        0.000000      1.000000      3.000000      2.000000      1.000000   \n75%        1.000000      1.000000      3.000000      2.000000      1.000000   \nmax        1.000000      1.000000      9.000000      5.000000      3.000000   \n\n             房屋户型_卫  \ncount  14953.000000  \nmean       1.484518  \nstd        0.663213  \nmin        0.000000  \n25%        1.000000  \n50%        1.000000  \n75%        2.000000  \nmax        9.000000  \n\n[8 rows x 25 columns]",
      "text/html": "<div>\n<style scoped>\n    .dataframe tbody tr th:only-of-type {\n        vertical-align: middle;\n    }\n\n    .dataframe tbody tr th {\n        vertical-align: top;\n    }\n\n    .dataframe thead th {\n        text-align: right;\n    }\n</style>\n<table border=\"1\" class=\"dataframe\">\n  <thead>\n    <tr style=\"text-align: right;\">\n      <th></th>\n      <th>地区</th>\n      <th>价格</th>\n      <th>单位价格</th>\n      <th>是否近地铁</th>\n      <th>年份</th>\n      <th>关注</th>\n      <th>所在楼层</th>\n      <th>建筑面积</th>\n      <th>户型结构</th>\n      <th>建筑类型</th>\n      <th>...</th>\n      <th>交易权属</th>\n      <th>房屋用途</th>\n      <th>房屋年限</th>\n      <th>产权所属</th>\n      <th>抵押信息</th>\n      <th>房本备件</th>\n      <th>房屋户型_室</th>\n      <th>房屋户型_厅</th>\n      <th>房屋户型_厨</th>\n      <th>房屋户型_卫</th>\n    </tr>\n  </thead>\n  <tbody>\n    <tr>\n      <th>count</th>\n      <td>14953.000000</td>\n      <td>14953.000000</td>\n      <td>14953.000000</td>\n      <td>14953.000000</td>\n      <td>14953.000000</td>\n      <td>14953.000000</td>\n      <td>14953.000000</td>\n      <td>14953.000000</td>\n      <td>14953.000000</td>\n      <td>14953.000000</td>\n      <td>...</td>\n      <td>14953.000000</td>\n      <td>14953.000000</td>\n      <td>14953.000000</td>\n      <td>14953.000000</td>\n      <td>14953.000000</td>\n      <td>14953.000000</td>\n      <td>14953.000000</td>\n      <td>14953.000000</td>\n      <td>14953.000000</td>\n      <td>14953.000000</td>\n    </tr>\n    <tr>\n      <th>mean</th>\n      <td>3.613322</td>\n      <td>287.539193</td>\n      <td>23763.396041</td>\n      <td>0.455828</td>\n      <td>2008.340868</td>\n      <td>9.428944</td>\n      <td>2.043737</td>\n      <td>113.113108</td>\n      <td>0.298201</td>\n      <td>0.125259</td>\n      <td>...</td>\n      <td>0.104862</td>\n      <td>0.000803</td>\n      <td>0.320003</td>\n      <td>0.145590</td>\n      <td>0.382264</td>\n      <td>0.999398</td>\n      <td>2.770414</td>\n      <td>1.594396</td>\n      <td>1.007423</td>\n      <td>1.484518</td>\n    </tr>\n    <tr>\n      <th>std</th>\n      <td>2.047788</td>\n      <td>275.631213</td>\n      <td>13408.223459</td>\n      <td>0.498062</td>\n      <td>9.069538</td>\n      <td>25.691471</td>\n      <td>0.804174</td>\n      <td>44.722377</td>\n      <td>0.859876</td>\n      <td>0.432772</td>\n      <td>...</td>\n      <td>0.528709</td>\n      <td>0.030589</td>\n      <td>0.524148</td>\n      <td>0.352706</td>\n      <td>0.485957</td>\n      <td>0.024527</td>\n      <td>0.887568</td>\n      <td>0.586146</td>\n      <td>0.107309</td>\n      <td>0.663213</td>\n    </tr>\n    <tr>\n      <th>min</th>\n      <td>1.000000</td>\n      <td>21.000000</td>\n      <td>3619.000000</td>\n      <td>0.000000</td>\n      <td>1949.000000</td>\n      <td>0.000000</td>\n      <td>0.000000</td>\n      <td>12.650000</td>\n      <td>0.000000</td>\n      <td>0.000000</td>\n      <td>...</td>\n      <td>0.000000</td>\n      <td>0.000000</td>\n      <td>0.000000</td>\n      <td>0.000000</td>\n      <td>0.000000</td>\n      <td>0.000000</td>\n      <td>1.000000</td>\n      <td>0.000000</td>\n      <td>0.000000</td>\n      <td>0.000000</td>\n    </tr>\n    <tr>\n      <th>25%</th>\n      <td>2.000000</td>\n      <td>135.000000</td>\n      <td>14396.000000</td>\n      <td>0.000000</td>\n      <td>2003.000000</td>\n      <td>0.000000</td>\n      <td>1.000000</td>\n      <td>87.200000</td>\n      <td>0.000000</td>\n      <td>0.000000</td>\n      <td>...</td>\n      <td>0.000000</td>\n      <td>0.000000</td>\n      <td>0.000000</td>\n      <td>0.000000</td>\n      <td>0.000000</td>\n      <td>1.000000</td>\n      <td>2.000000</td>\n      <td>1.000000</td>\n      <td>1.000000</td>\n      <td>1.000000</td>\n    </tr>\n    <tr>\n      <th>50%</th>\n      <td>3.000000</td>\n      <td>205.000000</td>\n      <td>20792.000000</td>\n      <td>0.000000</td>\n      <td>2010.000000</td>\n      <td>2.000000</td>\n      <td>2.000000</td>\n      <td>103.500000</td>\n      <td>0.000000</td>\n      <td>0.000000</td>\n      <td>...</td>\n      <td>0.000000</td>\n      <td>0.000000</td>\n      <td>0.000000</td>\n      <td>0.000000</td>\n      <td>0.000000</td>\n      <td>1.000000</td>\n      <td>3.000000</td>\n      <td>2.000000</td>\n      <td>1.000000</td>\n      <td>1.000000</td>\n    </tr>\n    <tr>\n      <th>75%</th>\n      <td>5.000000</td>\n      <td>350.000000</td>\n      <td>29584.000000</td>\n      <td>1.000000</td>\n      <td>2015.000000</td>\n      <td>7.000000</td>\n      <td>3.000000</td>\n      <td>133.160000</td>\n      <td>0.000000</td>\n      <td>0.000000</td>\n      <td>...</td>\n      <td>0.000000</td>\n      <td>0.000000</td>\n      <td>1.000000</td>\n      <td>0.000000</td>\n      <td>1.000000</td>\n      <td>1.000000</td>\n      <td>3.000000</td>\n      <td>2.000000</td>\n      <td>1.000000</td>\n      <td>2.000000</td>\n    </tr>\n    <tr>\n      <th>max</th>\n      <td>8.000000</td>\n      <td>6600.000000</td>\n      <td>179989.000000</td>\n      <td>1.000000</td>\n      <td>2023.000000</td>\n      <td>926.000000</td>\n      <td>3.000000</td>\n      <td>703.810000</td>\n      <td>3.000000</td>\n      <td>3.000000</td>\n      <td>...</td>\n      <td>6.000000</td>\n      <td>2.000000</td>\n      <td>2.000000</td>\n      <td>1.000000</td>\n      <td>1.000000</td>\n      <td>1.000000</td>\n      <td>9.000000</td>\n      <td>5.000000</td>\n      <td>3.000000</td>\n      <td>9.000000</td>\n    </tr>\n  </tbody>\n</table>\n<p>8 rows × 25 columns</p>\n</div>"
     },
     "execution_count": 21,
     "metadata": {},
     "output_type": "execute_result"
    }
   ],
   "source": [
    "# Display basic statistics of the data\n",
    "data.describe()"
   ],
   "metadata": {
    "collapsed": false,
    "ExecuteTime": {
     "end_time": "2023-10-15T12:35:43.776733Z",
     "start_time": "2023-10-15T12:35:43.752060Z"
    }
   },
   "id": "cecdee7c68a364a9"
  },
  {
   "cell_type": "markdown",
   "source": [
    "### 3.2 Distribution of House Prices\n",
    "\n",
    "The histogram below provides a visual representation of the distribution of house prices in the dataset. \n"
   ],
   "metadata": {
    "collapsed": false
   },
   "id": "2a1d45cffae8e156"
  },
  {
   "cell_type": "code",
   "execution_count": 22,
   "outputs": [
    {
     "data": {
      "text/plain": "<Figure size 1200x600 with 1 Axes>",
      "image/png": "[encoded data removed]"
     },
     "metadata": {},
     "output_type": "display_data"
    }
   ],
   "source": [
    "import matplotlib.pyplot as plt\n",
    "import seaborn as sns\n",
    "\n",
    "# Set style\n",
    "sns.set_style(\"whitegrid\")\n",
    "\n",
    "# Plot distribution of the target variable '价格'\n",
    "plt.figure(figsize=(12, 6))\n",
    "sns.histplot(data['价格'], bins=100, kde=True)\n",
    "plt.title(\"Distribution of Prices\")\n",
    "plt.xlabel(\"Price\")\n",
    "plt.ylabel(\"Frequency\")\n",
    "plt.show()\n"
   ],
   "metadata": {
    "collapsed": false,
    "ExecuteTime": {
     "end_time": "2023-10-15T12:35:45.926248Z",
     "start_time": "2023-10-15T12:35:45.714830Z"
    }
   },
   "id": "872f87668a972ee0"
  },
  {
   "cell_type": "markdown",
   "source": [
    "### 3.3 Average Prices by Region\n",
    "\n",
    "The bar chart below displays the average house prices across different regions. By analyzing this, we can identify the most expensive and the most affordable regions in terms of housing prices."
   ],
   "metadata": {
    "collapsed": false
   },
   "id": "7222a45d554a3020"
  },
  {
   "cell_type": "code",
   "execution_count": 31,
   "outputs": [
    {
     "name": "stderr",
     "output_type": "stream",
     "text": [
      "findfont: Generic family 'sans-serif' not found because none of the following families were found: Heiti SC\n",
      "findfont: Generic family 'sans-serif' not found because none of the following families were found: Heiti SC\n",
      "findfont: Generic family 'sans-serif' not found because none of the following families were found: Heiti SC\n",
      "findfont: Generic family 'sans-serif' not found because none of the following families were found: Heiti SC\n",
      "findfont: Generic family 'sans-serif' not found because none of the following families were found: Heiti SC\n",
      "findfont: Generic family 'sans-serif' not found because none of the following families were found: Heiti SC\n",
      "findfont: Generic family 'sans-serif' not found because none of the following families were found: Heiti SC\n",
      "findfont: Generic family 'sans-serif' not found because none of the following families were found: Heiti SC\n",
      "findfont: Generic family 'sans-serif' not found because none of the following families were found: Heiti SC\n",
      "findfont: Generic family 'sans-serif' not found because none of the following families were found: Heiti SC\n",
      "findfont: Generic family 'sans-serif' not found because none of the following families were found: Heiti SC\n",
      "findfont: Generic family 'sans-serif' not found because none of the following families were found: Heiti SC\n",
      "findfont: Generic family 'sans-serif' not found because none of the following families were found: Heiti SC\n",
      "findfont: Generic family 'sans-serif' not found because none of the following families were found: Heiti SC\n",
      "findfont: Generic family 'sans-serif' not found because none of the following families were found: Heiti SC\n",
      "findfont: Generic family 'sans-serif' not found because none of the following families were found: Heiti SC\n",
      "findfont: Generic family 'sans-serif' not found because none of the following families were found: Heiti SC\n",
      "findfont: Generic family 'sans-serif' not found because none of the following families were found: Heiti SC\n",
      "findfont: Generic family 'sans-serif' not found because none of the following families were found: Heiti SC\n",
      "findfont: Generic family 'sans-serif' not found because none of the following families were found: Heiti SC\n",
      "findfont: Generic family 'sans-serif' not found because none of the following families were found: Heiti SC\n",
      "findfont: Generic family 'sans-serif' not found because none of the following families were found: Heiti SC\n",
      "findfont: Generic family 'sans-serif' not found because none of the following families were found: Heiti SC\n",
      "findfont: Generic family 'sans-serif' not found because none of the following families were found: Heiti SC\n",
      "findfont: Generic family 'sans-serif' not found because none of the following families were found: Heiti SC\n",
      "findfont: Generic family 'sans-serif' not found because none of the following families were found: Heiti SC\n",
      "findfont: Generic family 'sans-serif' not found because none of the following families were found: Heiti SC\n",
      "findfont: Generic family 'sans-serif' not found because none of the following families were found: Heiti SC\n",
      "findfont: Generic family 'sans-serif' not found because none of the following families were found: Heiti SC\n",
      "findfont: Generic family 'sans-serif' not found because none of the following families were found: Heiti SC\n",
      "findfont: Generic family 'sans-serif' not found because none of the following families were found: Heiti SC\n",
      "findfont: Generic family 'sans-serif' not found because none of the following families were found: Heiti SC\n",
      "findfont: Generic family 'sans-serif' not found because none of the following families were found: Heiti SC\n",
      "findfont: Generic family 'sans-serif' not found because none of the following families were found: Heiti SC\n",
      "findfont: Generic family 'sans-serif' not found because none of the following families were found: Heiti SC\n",
      "findfont: Generic family 'sans-serif' not found because none of the following families were found: Heiti SC\n",
      "findfont: Generic family 'sans-serif' not found because none of the following families were found: Heiti SC\n",
      "findfont: Generic family 'sans-serif' not found because none of the following families were found: Heiti SC\n",
      "findfont: Generic family 'sans-serif' not found because none of the following families were found: Heiti SC\n",
      "findfont: Generic family 'sans-serif' not found because none of the following families were found: Heiti SC\n",
      "findfont: Generic family 'sans-serif' not found because none of the following families were found: Heiti SC\n",
      "findfont: Generic family 'sans-serif' not found because none of the following families were found: Heiti SC\n",
      "findfont: Generic family 'sans-serif' not found because none of the following families were found: Heiti SC\n",
      "findfont: Generic family 'sans-serif' not found because none of the following families were found: Heiti SC\n",
      "findfont: Generic family 'sans-serif' not found because none of the following families were found: Heiti SC\n",
      "findfont: Generic family 'sans-serif' not found because none of the following families were found: Heiti SC\n",
      "findfont: Generic family 'sans-serif' not found because none of the following families were found: Heiti SC\n",
      "findfont: Generic family 'sans-serif' not found because none of the following families were found: Heiti SC\n",
      "findfont: Generic family 'sans-serif' not found because none of the following families were found: Heiti SC\n",
      "findfont: Generic family 'sans-serif' not found because none of the following families were found: Heiti SC\n",
      "findfont: Generic family 'sans-serif' not found because none of the following families were found: Heiti SC\n",
      "findfont: Generic family 'sans-serif' not found because none of the following families were found: Heiti SC\n",
      "findfont: Generic family 'sans-serif' not found because none of the following families were found: Heiti SC\n",
      "findfont: Generic family 'sans-serif' not found because none of the following families were found: Heiti SC\n",
      "findfont: Generic family 'sans-serif' not found because none of the following families were found: Heiti SC\n"
     ]
    },
    {
     "data": {
      "text/plain": "<Figure size 1400x700 with 1 Axes>",
      "image/png": "[encoded data removed]"
     },
     "metadata": {},
     "output_type": "display_data"
    }
   ],
   "source": [
    "# Average prices by 地区\n",
    "avg_prices_by_region = data.groupby('地区')['价格'].mean().sort_values(ascending=False)\n",
    "\n",
    "region_mapping = {\n",
    "    1: 'Shi Nan',\n",
    "    2: 'Shi Bei',\n",
    "    3: 'Li Cang',\n",
    "    4: 'Lao Shan',\n",
    "    5: 'Huang Dao',\n",
    "    6: 'Cheng Yang',\n",
    "    7: 'Jiao Zhou',\n",
    "    8: 'Ji Mo'\n",
    "}\n",
    "\n",
    "# Plotting the average prices by region\n",
    "xticks_labels = [region_mapping[int(tick)] for tick in avg_prices_by_region.index]\n",
    "plt.figure(figsize=(14, 7))\n",
    "avg_prices_by_region.plot(kind='bar', color='skyblue')\n",
    "plt.title('Average Prices by Region')\n",
    "plt.xlabel('Region')\n",
    "plt.ylabel('Average Price')\n",
    "plt.xticks(ticks=range(len(xticks_labels)), labels=xticks_labels, rotation=45)\n",
    "plt.show()\n"
   ],
   "metadata": {
    "collapsed": false,
    "ExecuteTime": {
     "end_time": "2023-10-15T12:48:31.678006Z",
     "start_time": "2023-10-15T12:48:31.558686Z"
    }
   },
   "id": "b281fbaa59d9e7d6"
  },
  {
   "cell_type": "markdown",
   "source": [
    "### 3.4 Average Prices based on Proximity to Subway\n",
    "\n",
    "The bar chart below illustrates the average house prices in relation to their proximity to a subway station. "
   ],
   "metadata": {
    "collapsed": false
   },
   "id": "b48ecc3d111ce346"
  },
  {
   "cell_type": "code",
   "execution_count": 32,
   "outputs": [
    {
     "name": "stderr",
     "output_type": "stream",
     "text": [
      "findfont: Generic family 'sans-serif' not found because none of the following families were found: Heiti SC\n",
      "findfont: Generic family 'sans-serif' not found because none of the following families were found: Heiti SC\n",
      "findfont: Generic family 'sans-serif' not found because none of the following families were found: Heiti SC\n",
      "findfont: Generic family 'sans-serif' not found because none of the following families were found: Heiti SC\n",
      "findfont: Generic family 'sans-serif' not found because none of the following families were found: Heiti SC\n",
      "findfont: Generic family 'sans-serif' not found because none of the following families were found: Heiti SC\n",
      "findfont: Generic family 'sans-serif' not found because none of the following families were found: Heiti SC\n",
      "findfont: Generic family 'sans-serif' not found because none of the following families were found: Heiti SC\n",
      "findfont: Generic family 'sans-serif' not found because none of the following families were found: Heiti SC\n",
      "findfont: Generic family 'sans-serif' not found because none of the following families were found: Heiti SC\n",
      "findfont: Generic family 'sans-serif' not found because none of the following families were found: Heiti SC\n",
      "findfont: Generic family 'sans-serif' not found because none of the following families were found: Heiti SC\n",
      "findfont: Generic family 'sans-serif' not found because none of the following families were found: Heiti SC\n",
      "findfont: Generic family 'sans-serif' not found because none of the following families were found: Heiti SC\n",
      "findfont: Generic family 'sans-serif' not found because none of the following families were found: Heiti SC\n",
      "findfont: Generic family 'sans-serif' not found because none of the following families were found: Heiti SC\n",
      "findfont: Generic family 'sans-serif' not found because none of the following families were found: Heiti SC\n",
      "findfont: Generic family 'sans-serif' not found because none of the following families were found: Heiti SC\n",
      "findfont: Generic family 'sans-serif' not found because none of the following families were found: Heiti SC\n",
      "findfont: Generic family 'sans-serif' not found because none of the following families were found: Heiti SC\n",
      "findfont: Generic family 'sans-serif' not found because none of the following families were found: Heiti SC\n",
      "findfont: Generic family 'sans-serif' not found because none of the following families were found: Heiti SC\n",
      "findfont: Generic family 'sans-serif' not found because none of the following families were found: Heiti SC\n",
      "findfont: Generic family 'sans-serif' not found because none of the following families were found: Heiti SC\n",
      "findfont: Generic family 'sans-serif' not found because none of the following families were found: Heiti SC\n",
      "findfont: Generic family 'sans-serif' not found because none of the following families were found: Heiti SC\n",
      "findfont: Generic family 'sans-serif' not found because none of the following families were found: Heiti SC\n",
      "findfont: Generic family 'sans-serif' not found because none of the following families were found: Heiti SC\n",
      "findfont: Generic family 'sans-serif' not found because none of the following families were found: Heiti SC\n",
      "findfont: Generic family 'sans-serif' not found because none of the following families were found: Heiti SC\n",
      "findfont: Generic family 'sans-serif' not found because none of the following families were found: Heiti SC\n",
      "findfont: Generic family 'sans-serif' not found because none of the following families were found: Heiti SC\n",
      "findfont: Generic family 'sans-serif' not found because none of the following families were found: Heiti SC\n",
      "findfont: Generic family 'sans-serif' not found because none of the following families were found: Heiti SC\n",
      "findfont: Generic family 'sans-serif' not found because none of the following families were found: Heiti SC\n",
      "findfont: Generic family 'sans-serif' not found because none of the following families were found: Heiti SC\n",
      "findfont: Generic family 'sans-serif' not found because none of the following families were found: Heiti SC\n",
      "findfont: Generic family 'sans-serif' not found because none of the following families were found: Heiti SC\n",
      "findfont: Generic family 'sans-serif' not found because none of the following families were found: Heiti SC\n",
      "findfont: Generic family 'sans-serif' not found because none of the following families were found: Heiti SC\n",
      "findfont: Generic family 'sans-serif' not found because none of the following families were found: Heiti SC\n"
     ]
    },
    {
     "data": {
      "text/plain": "<Figure size 1000x600 with 1 Axes>",
      "image/png": "[encoded data removed]"
     },
     "metadata": {},
     "output_type": "display_data"
    }
   ],
   "source": [
    "# Average prices based on proximity to subway\n",
    "avg_prices_by_subway = data.groupby('是否近地铁')['价格'].mean()\n",
    "\n",
    "# Plotting the average prices based on proximity to subway\n",
    "plt.figure(figsize=(10, 6))\n",
    "avg_prices_by_subway.plot(kind='bar', color=['salmon', 'limegreen'])\n",
    "plt.title('Average Prices based on Proximity to Subway')\n",
    "plt.xlabel('Proximity to Subway (0: No, 1: Yes)')\n",
    "plt.ylabel('Average Price')\n",
    "plt.xticks(rotation=0)\n",
    "plt.show()\n"
   ],
   "metadata": {
    "collapsed": false,
    "ExecuteTime": {
     "end_time": "2023-10-15T12:49:41.105728Z",
     "start_time": "2023-10-15T12:49:40.987038Z"
    }
   },
   "id": "4680e4e0f96e1e69"
  },
  {
   "cell_type": "markdown",
   "source": [
    "## 4. Model Training"
   ],
   "metadata": {
    "collapsed": false
   },
   "id": "b3d9ca84581e15d"
  },
  {
   "cell_type": "markdown",
   "source": [
    "### 4.1 Correlation Analysis\n",
    "\n",
    "To better understand the relationships within the dataset, we have calculated the correlation matrix. The correlation matrix allows us to identify how variables are related to each other, with values ranging from -1 to 1. A positive value suggests a positive correlation, while a negative value suggests a negative correlation. Values closer to 1 or -1 indicate a strong correlation, while values closer to 0 suggest a weaker or no correlation."
   ],
   "metadata": {
    "collapsed": false
   },
   "id": "3a21476eec571749"
  },
  {
   "cell_type": "code",
   "execution_count": 33,
   "outputs": [
    {
     "name": "stderr",
     "output_type": "stream",
     "text": [
      "/var/folders/n7/7084b4k93jb_r5psql_6_sjh0000gn/T/ipykernel_33037/2665880136.py:2: FutureWarning: The default value of numeric_only in DataFrame.corr is deprecated. In a future version, it will default to False. Select only valid columns or specify the value of numeric_only to silence this warning.\n",
      "  correlation_matrix = data.corr()\n"
     ]
    },
    {
     "data": {
      "text/plain": "价格        1.000000\n单位价格      0.810167\n建筑面积      0.705933\n房屋户型_卫    0.594936\n房屋户型_室    0.450249\n房屋户型_厅    0.330776\n户型结构      0.250590\n是否近地铁     0.162848\n房屋户型_厨    0.097442\n关注        0.077833\n配备电梯      0.065745\n建筑类型      0.032713\n年份        0.026233\n装修情况      0.014856\n房本备件      0.006676\n供暖方式      0.004186\n房屋用途     -0.001757\n房屋朝向     -0.018077\n房屋年限     -0.024601\n抵押信息     -0.040328\n产权所属     -0.045506\n所在楼层     -0.065376\n交易权属     -0.074324\n建筑结构     -0.085258\n地区       -0.212721\nName: 价格, dtype: float64"
     },
     "execution_count": 33,
     "metadata": {},
     "output_type": "execute_result"
    }
   ],
   "source": [
    "# Calculate correlation matrix\n",
    "correlation_matrix = data.corr()\n",
    "\n",
    "# Extract correlations with the target variable '价格'\n",
    "correlations_with_target = correlation_matrix['价格'].sort_values(ascending=False)\n",
    "\n",
    "# Display correlations with the target\n",
    "correlations_with_target\n"
   ],
   "metadata": {
    "collapsed": false,
    "ExecuteTime": {
     "end_time": "2023-10-15T12:55:30.781157Z",
     "start_time": "2023-10-15T12:55:30.757608Z"
    }
   },
   "id": "81deb8fea3066365"
  },
  {
   "cell_type": "markdown",
   "source": [
    "Based on the above, the following features are selected for model training:\n",
    "\n",
    "建筑面积\n",
    "房屋户型_卫\n",
    "房屋户型_室\n",
    "房屋户型_厅\n",
    "房屋户型_厨\n",
    "户型结构\n",
    "是否近地铁\n",
    "配备电梯\n",
    "装修情况\n",
    "年份\n",
    "所在楼层\n",
    "地区"
   ],
   "metadata": {
    "collapsed": false
   },
   "id": "dacde450e99c7fa5"
  },
  {
   "cell_type": "markdown",
   "source": [
    "\n",
    "### 4.2 Data Splitting: Train-Test Split\n",
    "\n",
    "To train and evaluate predictive models effectively, it's essential to split the dataset into training and testing subsets. \n",
    "\n",
    "We've divided the data into two subsets:\n",
    "\n",
    "- **Training Data**: Used to train the machine learning model. It accounts for 70% of the dataset.\n",
    "- **Testing Data**: Reserved for evaluating the model's performance. It comprises 30% of the dataset."
   ],
   "metadata": {
    "collapsed": false
   },
   "id": "8f00f38c3c1157c6"
  },
  {
   "cell_type": "code",
   "execution_count": 44,
   "outputs": [
    {
     "data": {
      "text/plain": "((10467, 12), (4486, 12))"
     },
     "execution_count": 44,
     "metadata": {},
     "output_type": "execute_result"
    }
   ],
   "source": [
    "from sklearn.model_selection import train_test_split\n",
    "\n",
    "# Features and target\n",
    "features = ['建筑面积', '房屋户型_卫', '房屋户型_室', '房屋户型_厅', '房屋户型_厨', '户型结构', '是否近地铁', '配备电梯', '装修情况', '年份', '所在楼层', '地区']\n",
    "target = '价格'\n",
    "\n",
    "X = data[features]\n",
    "y = data[target]\n",
    "\n",
    "# Split the data into train and test sets (70% train, 30% test)\n",
    "X_train, X_test, y_train, y_test = train_test_split(X, y, test_size=0.3, random_state=42)\n",
    "\n",
    "X_train.shape, X_test.shape"
   ],
   "metadata": {
    "collapsed": false,
    "ExecuteTime": {
     "end_time": "2023-10-15T13:03:45.451875Z",
     "start_time": "2023-10-15T13:03:45.448139Z"
    }
   },
   "id": "92e38bc5bd60a758"
  },
  {
   "cell_type": "markdown",
   "source": [
    "### 4.3 Linear Regression Model \n",
    "\n",
    "First, we've employed a **Linear Regression** model to predict house prices based on various features. Here's an overview of the model and its evaluation:\n",
    "\n",
    "- **Model Initialization**: We initiated a Linear Regression model for this task.\n",
    "\n",
    "- **Training the Model**: The model was trained using the training dataset, which includes a set of features ('建筑面积', '房屋户型_卫', '房屋户型_室', '房屋户型_厅', '房屋户型_厨', '户型结构', '是否近地铁', '配备电梯', '装修情况', '年份', '所在楼层', '地区') and the target variable ('价格').\n",
    "\n",
    "- **Predictions**:\n",
    "  - Predictions were made on both the training data ('y_train_pred') and the testing data ('y_test_pred').\n",
    "\n",
    "- **Evaluation Metrics**:\n",
    "  - Mean Squared Error (MSE) for Training Data: `train_mse`\n",
    "  - Mean Squared Error (MSE) for Testing Data: `test_mse`\n",
    "  - R-squared (R2) Score for Training Data: `train_r2`\n",
    "  - R-squared (R2) Score for Testing Data: `test_r2`\n",
    "\n",
    "The MSE measures the average squared differences between predicted and actual values. A lower MSE indicates a better fit.\n",
    "\n",
    "The R-squared (R2) score quantifies the proportion of the variance in the dependent variable that is predictable from the independent variables. A higher R2 score signifies a better fit of the model.\n",
    "\n",
    "These metrics provide insights into how well the Linear Regression model is performing in predicting house prices."
   ],
   "metadata": {
    "collapsed": false
   },
   "id": "f8f26d1ecfa41163"
  },
  {
   "cell_type": "code",
   "execution_count": 51,
   "outputs": [
    {
     "data": {
      "text/plain": "(30029.17692792043, 30108.73968415422, 0.6055892245995411, 0.6015890925086875)"
     },
     "execution_count": 51,
     "metadata": {},
     "output_type": "execute_result"
    }
   ],
   "source": [
    "from sklearn.linear_model import LinearRegression\n",
    "from sklearn.metrics import mean_squared_error, r2_score\n",
    "\n",
    "# Initialize and train the model\n",
    "model = LinearRegression()\n",
    "model.fit(X_train, y_train)\n",
    "\n",
    "# Predictions\n",
    "y_train_pred = model.predict(X_train)\n",
    "y_test_pred = model.predict(X_test)\n",
    "\n",
    "# Calculate metrics\n",
    "train_mse = mean_squared_error(y_train, y_train_pred)\n",
    "test_mse = mean_squared_error(y_test, y_test_pred)\n",
    "train_r2 = r2_score(y_train, y_train_pred)\n",
    "test_r2 = r2_score(y_test, y_test_pred)\n",
    "\n",
    "train_mse, test_mse, train_r2, test_r2"
   ],
   "metadata": {
    "collapsed": false,
    "ExecuteTime": {
     "end_time": "2023-10-15T13:27:24.040533Z",
     "start_time": "2023-10-15T13:27:23.948749Z"
    }
   },
   "id": "ffe26bda262935cc"
  },
  {
   "cell_type": "markdown",
   "source": [
    "So, for **Linear Regression Model**, We can get:\n",
    "- Mean Square Error (MSE) of Training Set: 30029.18\n",
    "- Mean Square Error (MSE) of Test Set: 30108.73\n",
    "- Training set's R^2^ value: 0.6056\n",
    "- Test set's R^2^ value: 0.6016"
   ],
   "metadata": {
    "collapsed": false
   },
   "id": "3fceca84a83bc55e"
  },
  {
   "cell_type": "markdown",
   "source": [
    "### 4.4 Random Forest Regression Model\n",
    "\n",
    "In addition to the Linear Regression model, we've also employed a **Random Forest Regressor** to predict house prices based on the selected features. Here's an overview of the Random Forest model and its feature importance analysis:\n",
    "\n",
    "- **Model Initialization**: We initiated a Random Forest Regressor model with 200 estimators for this task.\n",
    "\n",
    "- **Training the Model**: The model was trained using the same training dataset as before, which includes a set of features ('建筑面积', '房屋户型_卫', '房屋户型_室', '房屋户型_厅', '房屋户型_厨', '户型结构', '是否近地铁', '配备电梯', '装修情况', '年份', '所在楼层', '地区') and the target variable ('价格').\n",
    "\n",
    "- **Predictions**:\n",
    "  - Predictions were made on both the training data ('y_train_pred') and the testing data ('y_test_pred').\n",
    "\n",
    "- **Evaluation Metrics**:\n",
    "  - Mean Squared Error (MSE) for Training Data: `train_mse`\n",
    "  - Mean Squared Error (MSE) for Testing Data: `test_mse`\n",
    "  - R-squared (R2) Score for Training Data: `train_r2`\n",
    "  - R-squared (R2) Score for Testing Data: `test_r2`\n"
   ],
   "metadata": {
    "collapsed": false
   },
   "id": "c8ba4e6b6bdefea7"
  },
  {
   "cell_type": "code",
   "execution_count": 52,
   "outputs": [
    {
     "data": {
      "text/plain": "(1586.2874185690603,\n 15381.786736474796,\n 0.9791653013911247,\n 0.7964620347180464)"
     },
     "execution_count": 52,
     "metadata": {},
     "output_type": "execute_result"
    }
   ],
   "source": [
    "from sklearn.ensemble import RandomForestRegressor\n",
    "\n",
    "# Initialize and train a random forest regressor\n",
    "rf_model = RandomForestRegressor(n_estimators=200, random_state=42, max_features=\"sqrt\", min_samples_leaf=1, min_samples_split=2)\n",
    "rf_model.fit(X_train, y_train)\n",
    "\n",
    "# Train the random forest model with the selected features\n",
    "rf_model.fit(X_train, y_train)\n",
    "\n",
    "# Predictions\n",
    "y_train_pred = rf_model.predict(X_train)\n",
    "y_test_pred = rf_model.predict(X_test)\n",
    "\n",
    "# Evaluate the model with the test set\n",
    "\n",
    "train_mse = mean_squared_error(y_train, y_train_pred)\n",
    "test_mse = mean_squared_error(y_test, y_test_pred)\n",
    "train_r2 = r2_score(y_train, y_train_pred)\n",
    "test_r2 = r2_score(y_test, y_test_pred)\n",
    "\n",
    "train_mse, test_mse, train_r2, test_r2"
   ],
   "metadata": {
    "collapsed": false,
    "ExecuteTime": {
     "end_time": "2023-10-15T13:31:57.909680Z",
     "start_time": "2023-10-15T13:31:54.784661Z"
    }
   },
   "id": "dbc4b2ae9fa5db7a"
  },
  {
   "cell_type": "markdown",
   "source": [
    "So, for **Random Forest Regression Model**, We can get:\n",
    "- Mean Square Error (MSE) of Training Set: 1586.29\n",
    "- Mean Square Error (MSE) of Test Set: 15381.79\n",
    "- Training set's R^2^ value: 0.9792\n",
    "- Test set's R^2^ value: 0.7965"
   ],
   "metadata": {
    "collapsed": false
   },
   "id": "b7306ceb7756f60e"
  },
  {
   "cell_type": "markdown",
   "source": [
    "# Q2： Find the closed form solution for linear regression that minimizes the mean square error (MSE)."
   ],
   "metadata": {
    "collapsed": false
   },
   "id": "e21176a5a3fe4a59"
  },
  {
   "cell_type": "code",
   "execution_count": 53,
   "outputs": [
    {
     "data": {
      "text/plain": "{'Intercept': 907.5339070768372,\n '建筑面积': 4.142748102909623,\n '房屋户型_卫': 45.332505587263576,\n '房屋户型_室': -18.467604357157818,\n '房屋户型_厅': 11.553656514203471,\n '房屋户型_厨': -12.745277722088218,\n '户型结构': 11.024429812795331,\n '是否近地铁': 53.85609734360348,\n '配备电梯': 8.694289502966072,\n '装修情况': -1.2018759761870748,\n '年份': -0.5045441417413865,\n '所在楼层': -0.9940511965095025,\n '地区': -35.403267084236774}"
     },
     "execution_count": 53,
     "metadata": {},
     "output_type": "execute_result"
    }
   ],
   "source": [
    "import numpy as np\n",
    "\n",
    "# Add a bias column (intercept) to the data matrix\n",
    "X_with_bias = np.c_[np.ones(X_train.shape[0]), X_train]\n",
    "\n",
    "# Calculate the closed-form solution\n",
    "beta = np.linalg.inv(X_with_bias.T.dot(X_with_bias)).dot(X_with_bias.T).dot(y_train)\n",
    "\n",
    "# Combine feature names with their corresponding coefficients\n",
    "coefficients_dict = dict(zip(['Intercept'] + features, beta))\n",
    "\n",
    "coefficients_dict\n"
   ],
   "metadata": {
    "collapsed": false,
    "ExecuteTime": {
     "end_time": "2023-10-15T13:33:15.943874Z",
     "start_time": "2023-10-15T13:33:15.910848Z"
    }
   },
   "id": "d16a288e6eed74f7"
  },
  {
   "cell_type": "markdown",
   "source": [
    "- 截距 (Bias/Intercept): ≈ 907.53\n",
    "- 建筑面积: ≈ 4.14\n",
    "- 房屋户型_卫: ≈ 45.33\n",
    "- 房屋户型_室: ≈ -18.47\n",
    "- 房屋户型_厅: ≈ 11.55\n",
    "- 房屋户型_厨: ≈ -12.75\n",
    "- 户型结构: ≈ 11.02\n",
    "- 是否近地铁: ≈ 53.86\n",
    "- 配备电梯: ≈ 8.69\n",
    "- 装修情况: ≈ -1.20\n",
    "- 年份: ≈ -0.50\n",
    "- 所在楼层: ≈ -0.99\n",
    "- 地区: ≈ -35.40\n"
   ],
   "metadata": {
    "collapsed": false
   },
   "id": "a36eac88de0353d8"
  },
  {
   "cell_type": "markdown",
   "source": [
    "# Qingdao Housing Price Forecast"
   ],
   "metadata": {
    "collapsed": false
   },
   "id": "4d6e93b6ff6f24f9"
  },
  {
   "cell_type": "markdown",
   "source": [
    "### Sample House Price Prediction\n",
    "We have implemented a Python function `predict_house_price` that predicts house prices based on the input data. Here's a description of the function and an example usage:\n",
    "\n",
    "- **Function Explanation**:\n",
    "  - `predict_house_price(input_data)`: This function takes a dictionary `input_data` as input, where keys correspond to feature names (e.g., '建筑面积', '房屋户型_卫') and values are the feature values. It returns the predicted house price as output.\n",
    "\n",
    "- **Input Data Format**:\n",
    "  - The input data is expected to be in the correct format, with each feature's data type matching the corresponding data type in the training dataset.\n",
    "\n",
    "- **Example Usage**:\n",
    "  - We provided an example `sample_data` dictionary with feature values.\n",
    "  - The function `predict_house_price` is used to predict the house price based on this sample data.\n",
    "  - The predicted price is then printed as \"预计房子的价格为: [predicted_price] 万元.\"\n",
    "\n",
    "This function allows users to make price predictions for houses based on specific feature values, providing valuable insights for real estate decisions."
   ],
   "metadata": {
    "collapsed": false
   },
   "id": "6c9b436fb14786e5"
  },
  {
   "cell_type": "code",
   "execution_count": 60,
   "outputs": [
    {
     "name": "stdout",
     "output_type": "stream",
     "text": [
      "预计房子的价格为：448.7504605109264 万元\n"
     ]
    }
   ],
   "source": [
    "def predict_house_price(input_data):\n",
    "    \n",
    "    # Convert the input data to a dataframe\n",
    "    input_df = pd.DataFrame([input_data])\n",
    "    \n",
    "    # Ensure the data is in the correct format\n",
    "    for column in input_df.columns:\n",
    "        input_df[column] = input_df[column].astype(X_train[column].dtype)\n",
    "    \n",
    "    # Make the prediction\n",
    "    predicted_price = model.predict(input_df)[0]\n",
    "    \n",
    "    return predicted_price\n",
    "\n",
    "# Example usage:\n",
    "sample_data = {\n",
    "    '建筑面积': 120.0,\n",
    "    '房屋户型_卫': 2,\n",
    "    '房屋户型_室': 3,\n",
    "    '房屋户型_厅': 1,\n",
    "    '房屋户型_厨': 1,\n",
    "    '户型结构': 0,\n",
    "    '是否近地铁': 1,\n",
    "    '配备电梯': 1,\n",
    "    '装修情况': 0,\n",
    "    '年份': 2012,\n",
    "    '所在楼层': 2,\n",
    "    '地区': 1\n",
    "}\n",
    "\n",
    "predicted_price_example = predict_house_price(sample_data)\n",
    "print(\"预计房子的价格为：\" + str(predicted_price_example) +\" 万元\")\n"
   ],
   "metadata": {
    "collapsed": false,
    "ExecuteTime": {
     "end_time": "2023-10-15T13:51:15.218445Z",
     "start_time": "2023-10-15T13:51:15.190046Z"
    }
   },
   "id": "45fbcffc187020a3"
  },
  {
   "cell_type": "markdown",
   "source": [
    "### Interactive House Price Prediction\n",
    "\n",
    "We have created an interactive script that allows users to input specific features of a house, and it predicts the house price based on those features. Here's how it works:\n",
    "\n",
    "- **Input Features**:\n",
    "  - Users are prompted to input the following features for the house:\n",
    "    - 建筑面积 (Building Area in square meters)\n",
    "    - 卧室的数量 (Number of Bedrooms)\n",
    "    - 大厅的数量 (Number of Halls)\n",
    "    - 卫生间的数量 (Number of Bathrooms)\n",
    "    - 厨房的数量 (Number of Kitchens)\n",
    "    - 装修情况 (Decoration, where \"精装\": 0, \"简装\": 1, \"毛坯\": 2, \"其他\": 3)\n",
    "    - 是否配备电梯 (Has Elevator, 1 for Yes, 0 for No)\n",
    "    - 户型结构 (Apartment Layout, where \"平层\": 0, \"跃层\": 1, \"错层\": 2, \"复式\": 3)\n",
    "    - 是否近地铁 (Near Metro, 1 for Yes, 0 for No)\n",
    "    - 地区编号 (Region Number, e.g., 1 for 市南区, 2 for 市北区, etc.)\n",
    "    - 房子年份 (Year Built, e.g., 2000)\n",
    "    - 所在楼层 (Floor Level, where \"地下室\": 0, \"低楼层\": 1, \"中楼层\": 2, \"高楼层\": 3)\n",
    "\n",
    "- **Prediction**:\n",
    "  - The script uses the `predict_house_price` function to predict the house price based on the input features.\n",
    "  - The predicted price is then displayed as \"预计房子的价格为: [predicted_price] 万元.\""
   ],
   "metadata": {
    "collapsed": false
   },
   "id": "b9fd4a1909e755cd"
  },
  {
   "cell_type": "code",
   "execution_count": 61,
   "outputs": [
    {
     "name": "stdout",
     "output_type": "stream",
     "text": [
      "预计房子的价格为：448.7504605109264 万元\n"
     ]
    }
   ],
   "source": [
    "sample_data = {}\n",
    "\n",
    "# Asking user for input for each feature\n",
    "building_area = float(input(\"请输入建筑面积(平方米): \"))\n",
    "num_bedrooms = int(input(\"请输入卧室的数量: \"))\n",
    "num_halls = int(input(\"请输入大厅的数量: \"))\n",
    "num_bathrooms = int(input(\"请输入卫生间的数量: \"))\n",
    "num_kitchen = int(input(\"请输入厨房的数量: \"))\n",
    "decoration = int(input('请输入装修情况(\"精装\": 0, \"简装\": 1, \"毛坯\": 2, \"其他\": 3): '))\n",
    "has_elevator = int(input(\"请输入是否配备电梯(1为配备电梯, 0为无电梯): \"))\n",
    "apartment_layout = int(input('请输入户型结构(\"平层\": 0, \"跃层\": 1, \"错层\": 2, \"复式\": 3): '))\n",
    "near_metro = int(input(\"请输入是否近地铁 (1为是, 0为否): \"))\n",
    "region = int(input(\"请输入地区编号（1表示市南区， 2表示市北区， 3表示李沧区， 4表示崂山区， 5表示黄岛区， 6表示城阳区， 7表示胶州市，8表示即墨区）: \"))\n",
    "year_built = int(input(\"请输入房子年份 (例如: 2000): \"))\n",
    "floor_level = int(input('请输入所在楼层(\"地下室\": 0, \"低楼层\": 1, \"中楼层\": 2, \"高楼层\": 3): '))\n",
    "\n",
    "sample_data['建筑面积'] = building_area\n",
    "sample_data['房屋户型_卫'] = num_bathrooms\n",
    "sample_data['房屋户型_室'] = num_bedrooms\n",
    "sample_data['房屋户型_厅'] = num_halls\n",
    "sample_data['房屋户型_厨'] = num_kitchen\n",
    "sample_data['户型结构'] = apartment_layout\n",
    "sample_data['是否近地铁'] = near_metro\n",
    "sample_data['配备电梯'] = has_elevator\n",
    "sample_data['装修情况'] = decoration\n",
    "sample_data['年份'] = year_built\n",
    "sample_data['所在楼层'] = floor_level\n",
    "sample_data['地区'] = region\n",
    "\n",
    "predicted_price = predict_house_price(sample_data)\n",
    "\n",
    "print(\"预计房子的价格为：\" + str(predicted_price) +\" 万元\")"
   ],
   "metadata": {
    "collapsed": false,
    "ExecuteTime": {
     "end_time": "2023-10-15T13:51:37.046120Z",
     "start_time": "2023-10-15T13:51:18.578793Z"
    }
   },
   "id": "970daa94da973b45"
  }
 ],
 "metadata": {
  "kernelspec": {
   "display_name": "Python 3",
   "language": "python",
   "name": "python3"
  },
  "language_info": {
   "codemirror_mode": {
    "name": "ipython",
    "version": 2
   },
   "file_extension": ".py",
   "mimetype": "text/x-python",
   "name": "python",
   "nbconvert_exporter": "python",
   "pygments_lexer": "ipython2",
   "version": "2.7.6"
  }
 },
 "nbformat": 4,
 "nbformat_minor": 5
}
